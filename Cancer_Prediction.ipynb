{
  "cells": [
    {
      "cell_type": "markdown",
      "metadata": {
        "id": "SY7PRP2Uwqh8"
      },
      "source": [
        "# Data description\n",
        "\n",
        "Features are computed from a digitized image of a fine needle aspirate (FNA) of a breast mass. They describe characteristics of the cell nuclei present in the image.\n",
        "n the 3-dimensional space is that described in: [K. P. Bennett and O. L. Mangasarian: \"Robust Linear Programming Discrimination of Two Linearly Inseparable Sets\", Optimization Methods and Software 1, 1992, 23-34].\n",
        "\n",
        "This database is also available through the UW CS ftp server:\n",
        "ftp ftp.cs.wisc.edu\n",
        "cd math-prog/cpo-dataset/machine-learn/WDBC/\n",
        "\n",
        "Also can be found on UCI Machine Learning Repository: https://archive.ics.uci.edu/ml/datasets/Breast+Cancer+Wisconsin+%28Diagnostic%29\n",
        "\n",
        "Attribute Information:\n",
        "\n",
        "1) ID number\n",
        "2) Diagnosis (M = malignant, B = benign)\n",
        "3-32)\n",
        "\n",
        "Ten real-valued features are computed for each cell nucleus:\n",
        "\n",
        "a) radius (mean of distances from center to points on the perimeter)\n",
        "\n",
        "b) texture (standard deviation of gray-scale values)\n",
        "\n",
        "c) perimeter\n",
        "\n",
        "d) area\n",
        "\n",
        "e) smoothness (local variation in radius lengths)\n",
        "\n",
        "f) compactness (perimeter^2 / area - 1.0)\n",
        "\n",
        "g) concavity (severity of concave portions of the contour)\n",
        "\n",
        "h) concave points (number of concave portions of the contour)\n",
        "\n",
        "i) symmetry\n",
        "\n",
        "j) fractal dimension (\"coastline approximation\" - 1)"
      ]
    },
    {
      "cell_type": "markdown",
      "metadata": {
        "id": "319dxc1FwqiB"
      },
      "source": [
        "# Loading our data"
      ]
    },
    {
      "cell_type": "markdown",
      "metadata": {
        "id": "DdEP_dB5wqiC"
      },
      "source": [
        "we will load our data and and required libraries"
      ]
    },
    {
      "cell_type": "code",
      "execution_count": 14,
      "metadata": {
        "_cell_guid": "b1076dfc-b9ad-4769-8c92-a6c4dae69d19",
        "_uuid": "8f2839f25d086af736a60e9eeb907d3b93b6e0e5",
        "execution": {
          "iopub.execute_input": "2022-10-15T19:53:19.733951Z",
          "iopub.status.busy": "2022-10-15T19:53:19.733424Z",
          "iopub.status.idle": "2022-10-15T19:53:19.809649Z",
          "shell.execute_reply": "2022-10-15T19:53:19.808354Z",
          "shell.execute_reply.started": "2022-10-15T19:53:19.733884Z"
        },
        "colab": {
          "base_uri": "https://localhost:8080/",
          "height": 17
        },
        "id": "GlGDmK5twqiC",
        "outputId": "aa1234a0-e0b3-4732-da9d-81971f466f8e"
      },
      "outputs": [
        {
          "output_type": "display_data",
          "data": {
            "text/html": [
              "        <script type=\"text/javascript\">\n",
              "        window.PlotlyConfig = {MathJaxConfig: 'local'};\n",
              "        if (window.MathJax) {MathJax.Hub.Config({SVG: {font: \"STIX-Web\"}});}\n",
              "        if (typeof require !== 'undefined') {\n",
              "        require.undef(\"plotly\");\n",
              "        requirejs.config({\n",
              "            paths: {\n",
              "                'plotly': ['https://cdn.plot.ly/plotly-2.8.3.min']\n",
              "            }\n",
              "        });\n",
              "        require(['plotly'], function(Plotly) {\n",
              "            window._Plotly = Plotly;\n",
              "        });\n",
              "        }\n",
              "        </script>\n",
              "        "
            ]
          },
          "metadata": {}
        }
      ],
      "source": [
        "# This Python 3 environment comes with many helpful analytics libraries installed\n",
        "# It is defined by the kaggle/python Docker image: https://github.com/kaggle/docker-python\n",
        "# For example, here's several helpful packages to load\n",
        "\n",
        "\n",
        "import pandas as pd\n",
        "\n",
        "import numpy as np\n",
        "import matplotlib.pyplot as plt\n",
        "import seaborn as sns\n",
        "import warnings\n",
        "import plotly.offline as py\n",
        "py.init_notebook_mode(connected=True)\n",
        "import plotly.graph_objs as go\n",
        "import plotly.tools as tls\n",
        "import plotly.figure_factory as ff\n",
        "# Input data files are available in the read-only \"../input/\" directory\n",
        "# For example, running this (by clicking run or pressing Shift+Enter) will list all files under the input directory\n",
        "\n",
        "#import os\n",
        "#for dirname, _, filenames in os.walk('/kaggle/input'):\n",
        "    #for filename in filenames:\n",
        "        #print(os.path.join(dirname, filename))\n",
        "#import warnings\n",
        "#warnings.filterwarnings(\"ignore\")\n",
        "\n",
        "\n",
        "\n",
        "# You can write up to 20GB to the current directory (/kaggle/working/) that gets preserved as output when you create a version using \"Save & Run All\" \n",
        "# You can also write temporary files to /kaggle/temp/, but they won't be saved outside of the current session"
      ]
    },
    {
      "cell_type": "code",
      "execution_count": 15,
      "metadata": {
        "id": "fVrndN95wqiE"
      },
      "outputs": [],
      "source": [
        "data = pd.read_csv('data.csv')"
      ]
    },
    {
      "cell_type": "code",
      "execution_count": 16,
      "metadata": {
        "colab": {
          "base_uri": "https://localhost:8080/",
          "height": 505
        },
        "id": "EXc7l1KywqiF",
        "outputId": "dc80a33f-4cff-4774-b99d-e61b0d5c9f2a"
      },
      "outputs": [
        {
          "output_type": "execute_result",
          "data": {
            "text/plain": [
              "           id diagnosis  radius_mean  texture_mean  perimeter_mean  area_mean  \\\n",
              "0      842302         M        17.99         10.38          122.80     1001.0   \n",
              "1      842517         M        20.57         17.77          132.90     1326.0   \n",
              "2    84300903         M        19.69         21.25          130.00     1203.0   \n",
              "3    84348301         M        11.42         20.38           77.58      386.1   \n",
              "4    84358402         M        20.29         14.34          135.10     1297.0   \n",
              "..        ...       ...          ...           ...             ...        ...   \n",
              "564    926424         M        21.56         22.39          142.00     1479.0   \n",
              "565    926682         M        20.13         28.25          131.20     1261.0   \n",
              "566    926954         M        16.60         28.08          108.30      858.1   \n",
              "567    927241         M        20.60         29.33          140.10     1265.0   \n",
              "568     92751         B         7.76         24.54           47.92      181.0   \n",
              "\n",
              "     smoothness_mean  compactness_mean  concavity_mean  concave points_mean  \\\n",
              "0            0.11840           0.27760         0.30010              0.14710   \n",
              "1            0.08474           0.07864         0.08690              0.07017   \n",
              "2            0.10960           0.15990         0.19740              0.12790   \n",
              "3            0.14250           0.28390         0.24140              0.10520   \n",
              "4            0.10030           0.13280         0.19800              0.10430   \n",
              "..               ...               ...             ...                  ...   \n",
              "564          0.11100           0.11590         0.24390              0.13890   \n",
              "565          0.09780           0.10340         0.14400              0.09791   \n",
              "566          0.08455           0.10230         0.09251              0.05302   \n",
              "567          0.11780           0.27700         0.35140              0.15200   \n",
              "568          0.05263           0.04362         0.00000              0.00000   \n",
              "\n",
              "     ...  texture_worst  perimeter_worst  area_worst  smoothness_worst  \\\n",
              "0    ...          17.33           184.60      2019.0           0.16220   \n",
              "1    ...          23.41           158.80      1956.0           0.12380   \n",
              "2    ...          25.53           152.50      1709.0           0.14440   \n",
              "3    ...          26.50            98.87       567.7           0.20980   \n",
              "4    ...          16.67           152.20      1575.0           0.13740   \n",
              "..   ...            ...              ...         ...               ...   \n",
              "564  ...          26.40           166.10      2027.0           0.14100   \n",
              "565  ...          38.25           155.00      1731.0           0.11660   \n",
              "566  ...          34.12           126.70      1124.0           0.11390   \n",
              "567  ...          39.42           184.60      1821.0           0.16500   \n",
              "568  ...          30.37            59.16       268.6           0.08996   \n",
              "\n",
              "     compactness_worst  concavity_worst  concave points_worst  symmetry_worst  \\\n",
              "0              0.66560           0.7119                0.2654          0.4601   \n",
              "1              0.18660           0.2416                0.1860          0.2750   \n",
              "2              0.42450           0.4504                0.2430          0.3613   \n",
              "3              0.86630           0.6869                0.2575          0.6638   \n",
              "4              0.20500           0.4000                0.1625          0.2364   \n",
              "..                 ...              ...                   ...             ...   \n",
              "564            0.21130           0.4107                0.2216          0.2060   \n",
              "565            0.19220           0.3215                0.1628          0.2572   \n",
              "566            0.30940           0.3403                0.1418          0.2218   \n",
              "567            0.86810           0.9387                0.2650          0.4087   \n",
              "568            0.06444           0.0000                0.0000          0.2871   \n",
              "\n",
              "     fractal_dimension_worst  Unnamed: 32  \n",
              "0                    0.11890          NaN  \n",
              "1                    0.08902          NaN  \n",
              "2                    0.08758          NaN  \n",
              "3                    0.17300          NaN  \n",
              "4                    0.07678          NaN  \n",
              "..                       ...          ...  \n",
              "564                  0.07115          NaN  \n",
              "565                  0.06637          NaN  \n",
              "566                  0.07820          NaN  \n",
              "567                  0.12400          NaN  \n",
              "568                  0.07039          NaN  \n",
              "\n",
              "[569 rows x 33 columns]"
            ],
            "text/html": [
              "\n",
              "  <div id=\"df-4e8816fe-6fd0-4d69-9ebe-4d47293bcb11\">\n",
              "    <div class=\"colab-df-container\">\n",
              "      <div>\n",
              "<style scoped>\n",
              "    .dataframe tbody tr th:only-of-type {\n",
              "        vertical-align: middle;\n",
              "    }\n",
              "\n",
              "    .dataframe tbody tr th {\n",
              "        vertical-align: top;\n",
              "    }\n",
              "\n",
              "    .dataframe thead th {\n",
              "        text-align: right;\n",
              "    }\n",
              "</style>\n",
              "<table border=\"1\" class=\"dataframe\">\n",
              "  <thead>\n",
              "    <tr style=\"text-align: right;\">\n",
              "      <th></th>\n",
              "      <th>id</th>\n",
              "      <th>diagnosis</th>\n",
              "      <th>radius_mean</th>\n",
              "      <th>texture_mean</th>\n",
              "      <th>perimeter_mean</th>\n",
              "      <th>area_mean</th>\n",
              "      <th>smoothness_mean</th>\n",
              "      <th>compactness_mean</th>\n",
              "      <th>concavity_mean</th>\n",
              "      <th>concave points_mean</th>\n",
              "      <th>...</th>\n",
              "      <th>texture_worst</th>\n",
              "      <th>perimeter_worst</th>\n",
              "      <th>area_worst</th>\n",
              "      <th>smoothness_worst</th>\n",
              "      <th>compactness_worst</th>\n",
              "      <th>concavity_worst</th>\n",
              "      <th>concave points_worst</th>\n",
              "      <th>symmetry_worst</th>\n",
              "      <th>fractal_dimension_worst</th>\n",
              "      <th>Unnamed: 32</th>\n",
              "    </tr>\n",
              "  </thead>\n",
              "  <tbody>\n",
              "    <tr>\n",
              "      <th>0</th>\n",
              "      <td>842302</td>\n",
              "      <td>M</td>\n",
              "      <td>17.99</td>\n",
              "      <td>10.38</td>\n",
              "      <td>122.80</td>\n",
              "      <td>1001.0</td>\n",
              "      <td>0.11840</td>\n",
              "      <td>0.27760</td>\n",
              "      <td>0.30010</td>\n",
              "      <td>0.14710</td>\n",
              "      <td>...</td>\n",
              "      <td>17.33</td>\n",
              "      <td>184.60</td>\n",
              "      <td>2019.0</td>\n",
              "      <td>0.16220</td>\n",
              "      <td>0.66560</td>\n",
              "      <td>0.7119</td>\n",
              "      <td>0.2654</td>\n",
              "      <td>0.4601</td>\n",
              "      <td>0.11890</td>\n",
              "      <td>NaN</td>\n",
              "    </tr>\n",
              "    <tr>\n",
              "      <th>1</th>\n",
              "      <td>842517</td>\n",
              "      <td>M</td>\n",
              "      <td>20.57</td>\n",
              "      <td>17.77</td>\n",
              "      <td>132.90</td>\n",
              "      <td>1326.0</td>\n",
              "      <td>0.08474</td>\n",
              "      <td>0.07864</td>\n",
              "      <td>0.08690</td>\n",
              "      <td>0.07017</td>\n",
              "      <td>...</td>\n",
              "      <td>23.41</td>\n",
              "      <td>158.80</td>\n",
              "      <td>1956.0</td>\n",
              "      <td>0.12380</td>\n",
              "      <td>0.18660</td>\n",
              "      <td>0.2416</td>\n",
              "      <td>0.1860</td>\n",
              "      <td>0.2750</td>\n",
              "      <td>0.08902</td>\n",
              "      <td>NaN</td>\n",
              "    </tr>\n",
              "    <tr>\n",
              "      <th>2</th>\n",
              "      <td>84300903</td>\n",
              "      <td>M</td>\n",
              "      <td>19.69</td>\n",
              "      <td>21.25</td>\n",
              "      <td>130.00</td>\n",
              "      <td>1203.0</td>\n",
              "      <td>0.10960</td>\n",
              "      <td>0.15990</td>\n",
              "      <td>0.19740</td>\n",
              "      <td>0.12790</td>\n",
              "      <td>...</td>\n",
              "      <td>25.53</td>\n",
              "      <td>152.50</td>\n",
              "      <td>1709.0</td>\n",
              "      <td>0.14440</td>\n",
              "      <td>0.42450</td>\n",
              "      <td>0.4504</td>\n",
              "      <td>0.2430</td>\n",
              "      <td>0.3613</td>\n",
              "      <td>0.08758</td>\n",
              "      <td>NaN</td>\n",
              "    </tr>\n",
              "    <tr>\n",
              "      <th>3</th>\n",
              "      <td>84348301</td>\n",
              "      <td>M</td>\n",
              "      <td>11.42</td>\n",
              "      <td>20.38</td>\n",
              "      <td>77.58</td>\n",
              "      <td>386.1</td>\n",
              "      <td>0.14250</td>\n",
              "      <td>0.28390</td>\n",
              "      <td>0.24140</td>\n",
              "      <td>0.10520</td>\n",
              "      <td>...</td>\n",
              "      <td>26.50</td>\n",
              "      <td>98.87</td>\n",
              "      <td>567.7</td>\n",
              "      <td>0.20980</td>\n",
              "      <td>0.86630</td>\n",
              "      <td>0.6869</td>\n",
              "      <td>0.2575</td>\n",
              "      <td>0.6638</td>\n",
              "      <td>0.17300</td>\n",
              "      <td>NaN</td>\n",
              "    </tr>\n",
              "    <tr>\n",
              "      <th>4</th>\n",
              "      <td>84358402</td>\n",
              "      <td>M</td>\n",
              "      <td>20.29</td>\n",
              "      <td>14.34</td>\n",
              "      <td>135.10</td>\n",
              "      <td>1297.0</td>\n",
              "      <td>0.10030</td>\n",
              "      <td>0.13280</td>\n",
              "      <td>0.19800</td>\n",
              "      <td>0.10430</td>\n",
              "      <td>...</td>\n",
              "      <td>16.67</td>\n",
              "      <td>152.20</td>\n",
              "      <td>1575.0</td>\n",
              "      <td>0.13740</td>\n",
              "      <td>0.20500</td>\n",
              "      <td>0.4000</td>\n",
              "      <td>0.1625</td>\n",
              "      <td>0.2364</td>\n",
              "      <td>0.07678</td>\n",
              "      <td>NaN</td>\n",
              "    </tr>\n",
              "    <tr>\n",
              "      <th>...</th>\n",
              "      <td>...</td>\n",
              "      <td>...</td>\n",
              "      <td>...</td>\n",
              "      <td>...</td>\n",
              "      <td>...</td>\n",
              "      <td>...</td>\n",
              "      <td>...</td>\n",
              "      <td>...</td>\n",
              "      <td>...</td>\n",
              "      <td>...</td>\n",
              "      <td>...</td>\n",
              "      <td>...</td>\n",
              "      <td>...</td>\n",
              "      <td>...</td>\n",
              "      <td>...</td>\n",
              "      <td>...</td>\n",
              "      <td>...</td>\n",
              "      <td>...</td>\n",
              "      <td>...</td>\n",
              "      <td>...</td>\n",
              "      <td>...</td>\n",
              "    </tr>\n",
              "    <tr>\n",
              "      <th>564</th>\n",
              "      <td>926424</td>\n",
              "      <td>M</td>\n",
              "      <td>21.56</td>\n",
              "      <td>22.39</td>\n",
              "      <td>142.00</td>\n",
              "      <td>1479.0</td>\n",
              "      <td>0.11100</td>\n",
              "      <td>0.11590</td>\n",
              "      <td>0.24390</td>\n",
              "      <td>0.13890</td>\n",
              "      <td>...</td>\n",
              "      <td>26.40</td>\n",
              "      <td>166.10</td>\n",
              "      <td>2027.0</td>\n",
              "      <td>0.14100</td>\n",
              "      <td>0.21130</td>\n",
              "      <td>0.4107</td>\n",
              "      <td>0.2216</td>\n",
              "      <td>0.2060</td>\n",
              "      <td>0.07115</td>\n",
              "      <td>NaN</td>\n",
              "    </tr>\n",
              "    <tr>\n",
              "      <th>565</th>\n",
              "      <td>926682</td>\n",
              "      <td>M</td>\n",
              "      <td>20.13</td>\n",
              "      <td>28.25</td>\n",
              "      <td>131.20</td>\n",
              "      <td>1261.0</td>\n",
              "      <td>0.09780</td>\n",
              "      <td>0.10340</td>\n",
              "      <td>0.14400</td>\n",
              "      <td>0.09791</td>\n",
              "      <td>...</td>\n",
              "      <td>38.25</td>\n",
              "      <td>155.00</td>\n",
              "      <td>1731.0</td>\n",
              "      <td>0.11660</td>\n",
              "      <td>0.19220</td>\n",
              "      <td>0.3215</td>\n",
              "      <td>0.1628</td>\n",
              "      <td>0.2572</td>\n",
              "      <td>0.06637</td>\n",
              "      <td>NaN</td>\n",
              "    </tr>\n",
              "    <tr>\n",
              "      <th>566</th>\n",
              "      <td>926954</td>\n",
              "      <td>M</td>\n",
              "      <td>16.60</td>\n",
              "      <td>28.08</td>\n",
              "      <td>108.30</td>\n",
              "      <td>858.1</td>\n",
              "      <td>0.08455</td>\n",
              "      <td>0.10230</td>\n",
              "      <td>0.09251</td>\n",
              "      <td>0.05302</td>\n",
              "      <td>...</td>\n",
              "      <td>34.12</td>\n",
              "      <td>126.70</td>\n",
              "      <td>1124.0</td>\n",
              "      <td>0.11390</td>\n",
              "      <td>0.30940</td>\n",
              "      <td>0.3403</td>\n",
              "      <td>0.1418</td>\n",
              "      <td>0.2218</td>\n",
              "      <td>0.07820</td>\n",
              "      <td>NaN</td>\n",
              "    </tr>\n",
              "    <tr>\n",
              "      <th>567</th>\n",
              "      <td>927241</td>\n",
              "      <td>M</td>\n",
              "      <td>20.60</td>\n",
              "      <td>29.33</td>\n",
              "      <td>140.10</td>\n",
              "      <td>1265.0</td>\n",
              "      <td>0.11780</td>\n",
              "      <td>0.27700</td>\n",
              "      <td>0.35140</td>\n",
              "      <td>0.15200</td>\n",
              "      <td>...</td>\n",
              "      <td>39.42</td>\n",
              "      <td>184.60</td>\n",
              "      <td>1821.0</td>\n",
              "      <td>0.16500</td>\n",
              "      <td>0.86810</td>\n",
              "      <td>0.9387</td>\n",
              "      <td>0.2650</td>\n",
              "      <td>0.4087</td>\n",
              "      <td>0.12400</td>\n",
              "      <td>NaN</td>\n",
              "    </tr>\n",
              "    <tr>\n",
              "      <th>568</th>\n",
              "      <td>92751</td>\n",
              "      <td>B</td>\n",
              "      <td>7.76</td>\n",
              "      <td>24.54</td>\n",
              "      <td>47.92</td>\n",
              "      <td>181.0</td>\n",
              "      <td>0.05263</td>\n",
              "      <td>0.04362</td>\n",
              "      <td>0.00000</td>\n",
              "      <td>0.00000</td>\n",
              "      <td>...</td>\n",
              "      <td>30.37</td>\n",
              "      <td>59.16</td>\n",
              "      <td>268.6</td>\n",
              "      <td>0.08996</td>\n",
              "      <td>0.06444</td>\n",
              "      <td>0.0000</td>\n",
              "      <td>0.0000</td>\n",
              "      <td>0.2871</td>\n",
              "      <td>0.07039</td>\n",
              "      <td>NaN</td>\n",
              "    </tr>\n",
              "  </tbody>\n",
              "</table>\n",
              "<p>569 rows × 33 columns</p>\n",
              "</div>\n",
              "      <button class=\"colab-df-convert\" onclick=\"convertToInteractive('df-4e8816fe-6fd0-4d69-9ebe-4d47293bcb11')\"\n",
              "              title=\"Convert this dataframe to an interactive table.\"\n",
              "              style=\"display:none;\">\n",
              "        \n",
              "  <svg xmlns=\"http://www.w3.org/2000/svg\" height=\"24px\"viewBox=\"0 0 24 24\"\n",
              "       width=\"24px\">\n",
              "    <path d=\"M0 0h24v24H0V0z\" fill=\"none\"/>\n",
              "    <path d=\"M18.56 5.44l.94 2.06.94-2.06 2.06-.94-2.06-.94-.94-2.06-.94 2.06-2.06.94zm-11 1L8.5 8.5l.94-2.06 2.06-.94-2.06-.94L8.5 2.5l-.94 2.06-2.06.94zm10 10l.94 2.06.94-2.06 2.06-.94-2.06-.94-.94-2.06-.94 2.06-2.06.94z\"/><path d=\"M17.41 7.96l-1.37-1.37c-.4-.4-.92-.59-1.43-.59-.52 0-1.04.2-1.43.59L10.3 9.45l-7.72 7.72c-.78.78-.78 2.05 0 2.83L4 21.41c.39.39.9.59 1.41.59.51 0 1.02-.2 1.41-.59l7.78-7.78 2.81-2.81c.8-.78.8-2.07 0-2.86zM5.41 20L4 18.59l7.72-7.72 1.47 1.35L5.41 20z\"/>\n",
              "  </svg>\n",
              "      </button>\n",
              "      \n",
              "  <style>\n",
              "    .colab-df-container {\n",
              "      display:flex;\n",
              "      flex-wrap:wrap;\n",
              "      gap: 12px;\n",
              "    }\n",
              "\n",
              "    .colab-df-convert {\n",
              "      background-color: #E8F0FE;\n",
              "      border: none;\n",
              "      border-radius: 50%;\n",
              "      cursor: pointer;\n",
              "      display: none;\n",
              "      fill: #1967D2;\n",
              "      height: 32px;\n",
              "      padding: 0 0 0 0;\n",
              "      width: 32px;\n",
              "    }\n",
              "\n",
              "    .colab-df-convert:hover {\n",
              "      background-color: #E2EBFA;\n",
              "      box-shadow: 0px 1px 2px rgba(60, 64, 67, 0.3), 0px 1px 3px 1px rgba(60, 64, 67, 0.15);\n",
              "      fill: #174EA6;\n",
              "    }\n",
              "\n",
              "    [theme=dark] .colab-df-convert {\n",
              "      background-color: #3B4455;\n",
              "      fill: #D2E3FC;\n",
              "    }\n",
              "\n",
              "    [theme=dark] .colab-df-convert:hover {\n",
              "      background-color: #434B5C;\n",
              "      box-shadow: 0px 1px 3px 1px rgba(0, 0, 0, 0.15);\n",
              "      filter: drop-shadow(0px 1px 2px rgba(0, 0, 0, 0.3));\n",
              "      fill: #FFFFFF;\n",
              "    }\n",
              "  </style>\n",
              "\n",
              "      <script>\n",
              "        const buttonEl =\n",
              "          document.querySelector('#df-4e8816fe-6fd0-4d69-9ebe-4d47293bcb11 button.colab-df-convert');\n",
              "        buttonEl.style.display =\n",
              "          google.colab.kernel.accessAllowed ? 'block' : 'none';\n",
              "\n",
              "        async function convertToInteractive(key) {\n",
              "          const element = document.querySelector('#df-4e8816fe-6fd0-4d69-9ebe-4d47293bcb11');\n",
              "          const dataTable =\n",
              "            await google.colab.kernel.invokeFunction('convertToInteractive',\n",
              "                                                     [key], {});\n",
              "          if (!dataTable) return;\n",
              "\n",
              "          const docLinkHtml = 'Like what you see? Visit the ' +\n",
              "            '<a target=\"_blank\" href=https://colab.research.google.com/notebooks/data_table.ipynb>data table notebook</a>'\n",
              "            + ' to learn more about interactive tables.';\n",
              "          element.innerHTML = '';\n",
              "          dataTable['output_type'] = 'display_data';\n",
              "          await google.colab.output.renderOutput(dataTable, element);\n",
              "          const docLink = document.createElement('div');\n",
              "          docLink.innerHTML = docLinkHtml;\n",
              "          element.appendChild(docLink);\n",
              "        }\n",
              "      </script>\n",
              "    </div>\n",
              "  </div>\n",
              "  "
            ]
          },
          "metadata": {},
          "execution_count": 16
        }
      ],
      "source": [
        "data"
      ]
    },
    {
      "cell_type": "code",
      "execution_count": 17,
      "metadata": {
        "execution": {
          "iopub.execute_input": "2022-10-15T19:53:19.812007Z",
          "iopub.status.busy": "2022-10-15T19:53:19.811503Z",
          "iopub.status.idle": "2022-10-15T19:53:19.831265Z",
          "shell.execute_reply": "2022-10-15T19:53:19.830056Z",
          "shell.execute_reply.started": "2022-10-15T19:53:19.811969Z"
        },
        "colab": {
          "base_uri": "https://localhost:8080/"
        },
        "id": "WYmDq74PwqiF",
        "outputId": "ff3fd53d-6a2d-4c99-90ea-f45ae95b4983"
      },
      "outputs": [
        {
          "output_type": "stream",
          "name": "stdout",
          "text": [
            "<class 'pandas.core.frame.DataFrame'>\n",
            "RangeIndex: 569 entries, 0 to 568\n",
            "Data columns (total 33 columns):\n",
            " #   Column                   Non-Null Count  Dtype  \n",
            "---  ------                   --------------  -----  \n",
            " 0   id                       569 non-null    int64  \n",
            " 1   diagnosis                569 non-null    object \n",
            " 2   radius_mean              569 non-null    float64\n",
            " 3   texture_mean             569 non-null    float64\n",
            " 4   perimeter_mean           569 non-null    float64\n",
            " 5   area_mean                569 non-null    float64\n",
            " 6   smoothness_mean          569 non-null    float64\n",
            " 7   compactness_mean         569 non-null    float64\n",
            " 8   concavity_mean           569 non-null    float64\n",
            " 9   concave points_mean      569 non-null    float64\n",
            " 10  symmetry_mean            569 non-null    float64\n",
            " 11  fractal_dimension_mean   569 non-null    float64\n",
            " 12  radius_se                569 non-null    float64\n",
            " 13  texture_se               569 non-null    float64\n",
            " 14  perimeter_se             569 non-null    float64\n",
            " 15  area_se                  569 non-null    float64\n",
            " 16  smoothness_se            569 non-null    float64\n",
            " 17  compactness_se           569 non-null    float64\n",
            " 18  concavity_se             569 non-null    float64\n",
            " 19  concave points_se        569 non-null    float64\n",
            " 20  symmetry_se              569 non-null    float64\n",
            " 21  fractal_dimension_se     569 non-null    float64\n",
            " 22  radius_worst             569 non-null    float64\n",
            " 23  texture_worst            569 non-null    float64\n",
            " 24  perimeter_worst          569 non-null    float64\n",
            " 25  area_worst               569 non-null    float64\n",
            " 26  smoothness_worst         569 non-null    float64\n",
            " 27  compactness_worst        569 non-null    float64\n",
            " 28  concavity_worst          569 non-null    float64\n",
            " 29  concave points_worst     569 non-null    float64\n",
            " 30  symmetry_worst           569 non-null    float64\n",
            " 31  fractal_dimension_worst  569 non-null    float64\n",
            " 32  Unnamed: 32              0 non-null      float64\n",
            "dtypes: float64(31), int64(1), object(1)\n",
            "memory usage: 146.8+ KB\n"
          ]
        }
      ],
      "source": [
        "data.info()"
      ]
    },
    {
      "cell_type": "code",
      "execution_count": 17,
      "metadata": {
        "id": "v2dfQAarwqiF"
      },
      "outputs": [],
      "source": []
    },
    {
      "cell_type": "code",
      "execution_count": 18,
      "metadata": {
        "execution": {
          "iopub.execute_input": "2022-10-15T19:53:19.83327Z",
          "iopub.status.busy": "2022-10-15T19:53:19.832907Z",
          "iopub.status.idle": "2022-10-15T19:53:19.894954Z",
          "shell.execute_reply": "2022-10-15T19:53:19.893558Z",
          "shell.execute_reply.started": "2022-10-15T19:53:19.833237Z"
        },
        "colab": {
          "base_uri": "https://localhost:8080/",
          "height": 542
        },
        "id": "3nzIzx39wqiG",
        "outputId": "8ab7efa0-073d-44c3-f4e3-b207d2766d01"
      },
      "outputs": [
        {
          "output_type": "display_data",
          "data": {
            "text/html": [
              "        <script type=\"text/javascript\">\n",
              "        window.PlotlyConfig = {MathJaxConfig: 'local'};\n",
              "        if (window.MathJax) {MathJax.Hub.Config({SVG: {font: \"STIX-Web\"}});}\n",
              "        if (typeof require !== 'undefined') {\n",
              "        require.undef(\"plotly\");\n",
              "        requirejs.config({\n",
              "            paths: {\n",
              "                'plotly': ['https://cdn.plot.ly/plotly-2.8.3.min']\n",
              "            }\n",
              "        });\n",
              "        require(['plotly'], function(Plotly) {\n",
              "            window._Plotly = Plotly;\n",
              "        });\n",
              "        }\n",
              "        </script>\n",
              "        "
            ]
          },
          "metadata": {}
        },
        {
          "output_type": "display_data",
          "data": {
            "application/vnd.plotly.v1+json": {
              "data": [
                {
                  "domain": {
                    "x": [
                      0,
                      1
                    ],
                    "y": [
                      0,
                      1
                    ]
                  },
                  "hovertemplate": "label=%{label}<br>value=%{value}<extra></extra>",
                  "labels": [
                    "B",
                    "M"
                  ],
                  "legendgroup": "",
                  "name": "",
                  "showlegend": true,
                  "values": [
                    357,
                    212
                  ],
                  "type": "pie"
                }
              ],
              "layout": {
                "template": {
                  "data": {
                    "bar": [
                      {
                        "error_x": {
                          "color": "#2a3f5f"
                        },
                        "error_y": {
                          "color": "#2a3f5f"
                        },
                        "marker": {
                          "line": {
                            "color": "#E5ECF6",
                            "width": 0.5
                          },
                          "pattern": {
                            "fillmode": "overlay",
                            "size": 10,
                            "solidity": 0.2
                          }
                        },
                        "type": "bar"
                      }
                    ],
                    "barpolar": [
                      {
                        "marker": {
                          "line": {
                            "color": "#E5ECF6",
                            "width": 0.5
                          },
                          "pattern": {
                            "fillmode": "overlay",
                            "size": 10,
                            "solidity": 0.2
                          }
                        },
                        "type": "barpolar"
                      }
                    ],
                    "carpet": [
                      {
                        "aaxis": {
                          "endlinecolor": "#2a3f5f",
                          "gridcolor": "white",
                          "linecolor": "white",
                          "minorgridcolor": "white",
                          "startlinecolor": "#2a3f5f"
                        },
                        "baxis": {
                          "endlinecolor": "#2a3f5f",
                          "gridcolor": "white",
                          "linecolor": "white",
                          "minorgridcolor": "white",
                          "startlinecolor": "#2a3f5f"
                        },
                        "type": "carpet"
                      }
                    ],
                    "choropleth": [
                      {
                        "colorbar": {
                          "outlinewidth": 0,
                          "ticks": ""
                        },
                        "type": "choropleth"
                      }
                    ],
                    "contour": [
                      {
                        "colorbar": {
                          "outlinewidth": 0,
                          "ticks": ""
                        },
                        "colorscale": [
                          [
                            0,
                            "#0d0887"
                          ],
                          [
                            0.1111111111111111,
                            "#46039f"
                          ],
                          [
                            0.2222222222222222,
                            "#7201a8"
                          ],
                          [
                            0.3333333333333333,
                            "#9c179e"
                          ],
                          [
                            0.4444444444444444,
                            "#bd3786"
                          ],
                          [
                            0.5555555555555556,
                            "#d8576b"
                          ],
                          [
                            0.6666666666666666,
                            "#ed7953"
                          ],
                          [
                            0.7777777777777778,
                            "#fb9f3a"
                          ],
                          [
                            0.8888888888888888,
                            "#fdca26"
                          ],
                          [
                            1,
                            "#f0f921"
                          ]
                        ],
                        "type": "contour"
                      }
                    ],
                    "contourcarpet": [
                      {
                        "colorbar": {
                          "outlinewidth": 0,
                          "ticks": ""
                        },
                        "type": "contourcarpet"
                      }
                    ],
                    "heatmap": [
                      {
                        "colorbar": {
                          "outlinewidth": 0,
                          "ticks": ""
                        },
                        "colorscale": [
                          [
                            0,
                            "#0d0887"
                          ],
                          [
                            0.1111111111111111,
                            "#46039f"
                          ],
                          [
                            0.2222222222222222,
                            "#7201a8"
                          ],
                          [
                            0.3333333333333333,
                            "#9c179e"
                          ],
                          [
                            0.4444444444444444,
                            "#bd3786"
                          ],
                          [
                            0.5555555555555556,
                            "#d8576b"
                          ],
                          [
                            0.6666666666666666,
                            "#ed7953"
                          ],
                          [
                            0.7777777777777778,
                            "#fb9f3a"
                          ],
                          [
                            0.8888888888888888,
                            "#fdca26"
                          ],
                          [
                            1,
                            "#f0f921"
                          ]
                        ],
                        "type": "heatmap"
                      }
                    ],
                    "heatmapgl": [
                      {
                        "colorbar": {
                          "outlinewidth": 0,
                          "ticks": ""
                        },
                        "colorscale": [
                          [
                            0,
                            "#0d0887"
                          ],
                          [
                            0.1111111111111111,
                            "#46039f"
                          ],
                          [
                            0.2222222222222222,
                            "#7201a8"
                          ],
                          [
                            0.3333333333333333,
                            "#9c179e"
                          ],
                          [
                            0.4444444444444444,
                            "#bd3786"
                          ],
                          [
                            0.5555555555555556,
                            "#d8576b"
                          ],
                          [
                            0.6666666666666666,
                            "#ed7953"
                          ],
                          [
                            0.7777777777777778,
                            "#fb9f3a"
                          ],
                          [
                            0.8888888888888888,
                            "#fdca26"
                          ],
                          [
                            1,
                            "#f0f921"
                          ]
                        ],
                        "type": "heatmapgl"
                      }
                    ],
                    "histogram": [
                      {
                        "marker": {
                          "pattern": {
                            "fillmode": "overlay",
                            "size": 10,
                            "solidity": 0.2
                          }
                        },
                        "type": "histogram"
                      }
                    ],
                    "histogram2d": [
                      {
                        "colorbar": {
                          "outlinewidth": 0,
                          "ticks": ""
                        },
                        "colorscale": [
                          [
                            0,
                            "#0d0887"
                          ],
                          [
                            0.1111111111111111,
                            "#46039f"
                          ],
                          [
                            0.2222222222222222,
                            "#7201a8"
                          ],
                          [
                            0.3333333333333333,
                            "#9c179e"
                          ],
                          [
                            0.4444444444444444,
                            "#bd3786"
                          ],
                          [
                            0.5555555555555556,
                            "#d8576b"
                          ],
                          [
                            0.6666666666666666,
                            "#ed7953"
                          ],
                          [
                            0.7777777777777778,
                            "#fb9f3a"
                          ],
                          [
                            0.8888888888888888,
                            "#fdca26"
                          ],
                          [
                            1,
                            "#f0f921"
                          ]
                        ],
                        "type": "histogram2d"
                      }
                    ],
                    "histogram2dcontour": [
                      {
                        "colorbar": {
                          "outlinewidth": 0,
                          "ticks": ""
                        },
                        "colorscale": [
                          [
                            0,
                            "#0d0887"
                          ],
                          [
                            0.1111111111111111,
                            "#46039f"
                          ],
                          [
                            0.2222222222222222,
                            "#7201a8"
                          ],
                          [
                            0.3333333333333333,
                            "#9c179e"
                          ],
                          [
                            0.4444444444444444,
                            "#bd3786"
                          ],
                          [
                            0.5555555555555556,
                            "#d8576b"
                          ],
                          [
                            0.6666666666666666,
                            "#ed7953"
                          ],
                          [
                            0.7777777777777778,
                            "#fb9f3a"
                          ],
                          [
                            0.8888888888888888,
                            "#fdca26"
                          ],
                          [
                            1,
                            "#f0f921"
                          ]
                        ],
                        "type": "histogram2dcontour"
                      }
                    ],
                    "mesh3d": [
                      {
                        "colorbar": {
                          "outlinewidth": 0,
                          "ticks": ""
                        },
                        "type": "mesh3d"
                      }
                    ],
                    "parcoords": [
                      {
                        "line": {
                          "colorbar": {
                            "outlinewidth": 0,
                            "ticks": ""
                          }
                        },
                        "type": "parcoords"
                      }
                    ],
                    "pie": [
                      {
                        "automargin": true,
                        "type": "pie"
                      }
                    ],
                    "scatter": [
                      {
                        "marker": {
                          "colorbar": {
                            "outlinewidth": 0,
                            "ticks": ""
                          }
                        },
                        "type": "scatter"
                      }
                    ],
                    "scatter3d": [
                      {
                        "line": {
                          "colorbar": {
                            "outlinewidth": 0,
                            "ticks": ""
                          }
                        },
                        "marker": {
                          "colorbar": {
                            "outlinewidth": 0,
                            "ticks": ""
                          }
                        },
                        "type": "scatter3d"
                      }
                    ],
                    "scattercarpet": [
                      {
                        "marker": {
                          "colorbar": {
                            "outlinewidth": 0,
                            "ticks": ""
                          }
                        },
                        "type": "scattercarpet"
                      }
                    ],
                    "scattergeo": [
                      {
                        "marker": {
                          "colorbar": {
                            "outlinewidth": 0,
                            "ticks": ""
                          }
                        },
                        "type": "scattergeo"
                      }
                    ],
                    "scattergl": [
                      {
                        "marker": {
                          "colorbar": {
                            "outlinewidth": 0,
                            "ticks": ""
                          }
                        },
                        "type": "scattergl"
                      }
                    ],
                    "scattermapbox": [
                      {
                        "marker": {
                          "colorbar": {
                            "outlinewidth": 0,
                            "ticks": ""
                          }
                        },
                        "type": "scattermapbox"
                      }
                    ],
                    "scatterpolar": [
                      {
                        "marker": {
                          "colorbar": {
                            "outlinewidth": 0,
                            "ticks": ""
                          }
                        },
                        "type": "scatterpolar"
                      }
                    ],
                    "scatterpolargl": [
                      {
                        "marker": {
                          "colorbar": {
                            "outlinewidth": 0,
                            "ticks": ""
                          }
                        },
                        "type": "scatterpolargl"
                      }
                    ],
                    "scatterternary": [
                      {
                        "marker": {
                          "colorbar": {
                            "outlinewidth": 0,
                            "ticks": ""
                          }
                        },
                        "type": "scatterternary"
                      }
                    ],
                    "surface": [
                      {
                        "colorbar": {
                          "outlinewidth": 0,
                          "ticks": ""
                        },
                        "colorscale": [
                          [
                            0,
                            "#0d0887"
                          ],
                          [
                            0.1111111111111111,
                            "#46039f"
                          ],
                          [
                            0.2222222222222222,
                            "#7201a8"
                          ],
                          [
                            0.3333333333333333,
                            "#9c179e"
                          ],
                          [
                            0.4444444444444444,
                            "#bd3786"
                          ],
                          [
                            0.5555555555555556,
                            "#d8576b"
                          ],
                          [
                            0.6666666666666666,
                            "#ed7953"
                          ],
                          [
                            0.7777777777777778,
                            "#fb9f3a"
                          ],
                          [
                            0.8888888888888888,
                            "#fdca26"
                          ],
                          [
                            1,
                            "#f0f921"
                          ]
                        ],
                        "type": "surface"
                      }
                    ],
                    "table": [
                      {
                        "cells": {
                          "fill": {
                            "color": "#EBF0F8"
                          },
                          "line": {
                            "color": "white"
                          }
                        },
                        "header": {
                          "fill": {
                            "color": "#C8D4E3"
                          },
                          "line": {
                            "color": "white"
                          }
                        },
                        "type": "table"
                      }
                    ]
                  },
                  "layout": {
                    "annotationdefaults": {
                      "arrowcolor": "#2a3f5f",
                      "arrowhead": 0,
                      "arrowwidth": 1
                    },
                    "autotypenumbers": "strict",
                    "coloraxis": {
                      "colorbar": {
                        "outlinewidth": 0,
                        "ticks": ""
                      }
                    },
                    "colorscale": {
                      "diverging": [
                        [
                          0,
                          "#8e0152"
                        ],
                        [
                          0.1,
                          "#c51b7d"
                        ],
                        [
                          0.2,
                          "#de77ae"
                        ],
                        [
                          0.3,
                          "#f1b6da"
                        ],
                        [
                          0.4,
                          "#fde0ef"
                        ],
                        [
                          0.5,
                          "#f7f7f7"
                        ],
                        [
                          0.6,
                          "#e6f5d0"
                        ],
                        [
                          0.7,
                          "#b8e186"
                        ],
                        [
                          0.8,
                          "#7fbc41"
                        ],
                        [
                          0.9,
                          "#4d9221"
                        ],
                        [
                          1,
                          "#276419"
                        ]
                      ],
                      "sequential": [
                        [
                          0,
                          "#0d0887"
                        ],
                        [
                          0.1111111111111111,
                          "#46039f"
                        ],
                        [
                          0.2222222222222222,
                          "#7201a8"
                        ],
                        [
                          0.3333333333333333,
                          "#9c179e"
                        ],
                        [
                          0.4444444444444444,
                          "#bd3786"
                        ],
                        [
                          0.5555555555555556,
                          "#d8576b"
                        ],
                        [
                          0.6666666666666666,
                          "#ed7953"
                        ],
                        [
                          0.7777777777777778,
                          "#fb9f3a"
                        ],
                        [
                          0.8888888888888888,
                          "#fdca26"
                        ],
                        [
                          1,
                          "#f0f921"
                        ]
                      ],
                      "sequentialminus": [
                        [
                          0,
                          "#0d0887"
                        ],
                        [
                          0.1111111111111111,
                          "#46039f"
                        ],
                        [
                          0.2222222222222222,
                          "#7201a8"
                        ],
                        [
                          0.3333333333333333,
                          "#9c179e"
                        ],
                        [
                          0.4444444444444444,
                          "#bd3786"
                        ],
                        [
                          0.5555555555555556,
                          "#d8576b"
                        ],
                        [
                          0.6666666666666666,
                          "#ed7953"
                        ],
                        [
                          0.7777777777777778,
                          "#fb9f3a"
                        ],
                        [
                          0.8888888888888888,
                          "#fdca26"
                        ],
                        [
                          1,
                          "#f0f921"
                        ]
                      ]
                    },
                    "colorway": [
                      "#636efa",
                      "#EF553B",
                      "#00cc96",
                      "#ab63fa",
                      "#FFA15A",
                      "#19d3f3",
                      "#FF6692",
                      "#B6E880",
                      "#FF97FF",
                      "#FECB52"
                    ],
                    "font": {
                      "color": "#2a3f5f"
                    },
                    "geo": {
                      "bgcolor": "white",
                      "lakecolor": "white",
                      "landcolor": "#E5ECF6",
                      "showlakes": true,
                      "showland": true,
                      "subunitcolor": "white"
                    },
                    "hoverlabel": {
                      "align": "left"
                    },
                    "hovermode": "closest",
                    "mapbox": {
                      "style": "light"
                    },
                    "paper_bgcolor": "white",
                    "plot_bgcolor": "#E5ECF6",
                    "polar": {
                      "angularaxis": {
                        "gridcolor": "white",
                        "linecolor": "white",
                        "ticks": ""
                      },
                      "bgcolor": "#E5ECF6",
                      "radialaxis": {
                        "gridcolor": "white",
                        "linecolor": "white",
                        "ticks": ""
                      }
                    },
                    "scene": {
                      "xaxis": {
                        "backgroundcolor": "#E5ECF6",
                        "gridcolor": "white",
                        "gridwidth": 2,
                        "linecolor": "white",
                        "showbackground": true,
                        "ticks": "",
                        "zerolinecolor": "white"
                      },
                      "yaxis": {
                        "backgroundcolor": "#E5ECF6",
                        "gridcolor": "white",
                        "gridwidth": 2,
                        "linecolor": "white",
                        "showbackground": true,
                        "ticks": "",
                        "zerolinecolor": "white"
                      },
                      "zaxis": {
                        "backgroundcolor": "#E5ECF6",
                        "gridcolor": "white",
                        "gridwidth": 2,
                        "linecolor": "white",
                        "showbackground": true,
                        "ticks": "",
                        "zerolinecolor": "white"
                      }
                    },
                    "shapedefaults": {
                      "line": {
                        "color": "#2a3f5f"
                      }
                    },
                    "ternary": {
                      "aaxis": {
                        "gridcolor": "white",
                        "linecolor": "white",
                        "ticks": ""
                      },
                      "baxis": {
                        "gridcolor": "white",
                        "linecolor": "white",
                        "ticks": ""
                      },
                      "bgcolor": "#E5ECF6",
                      "caxis": {
                        "gridcolor": "white",
                        "linecolor": "white",
                        "ticks": ""
                      }
                    },
                    "title": {
                      "x": 0.05
                    },
                    "xaxis": {
                      "automargin": true,
                      "gridcolor": "white",
                      "linecolor": "white",
                      "ticks": "",
                      "title": {
                        "standoff": 15
                      },
                      "zerolinecolor": "white",
                      "zerolinewidth": 2
                    },
                    "yaxis": {
                      "automargin": true,
                      "gridcolor": "white",
                      "linecolor": "white",
                      "ticks": "",
                      "title": {
                        "standoff": 15
                      },
                      "zerolinecolor": "white",
                      "zerolinewidth": 2
                    }
                  }
                },
                "legend": {
                  "tracegroupgap": 0
                },
                "margin": {
                  "t": 60
                }
              },
              "config": {
                "plotlyServerURL": "https://plot.ly"
              }
            },
            "text/html": [
              "<div>                            <div id=\"420c2aa2-ecd9-4389-9fb8-49e68be5e484\" class=\"plotly-graph-div\" style=\"height:525px; width:100%;\"></div>            <script type=\"text/javascript\">                require([\"plotly\"], function(Plotly) {                    window.PLOTLYENV=window.PLOTLYENV || {};                                    if (document.getElementById(\"420c2aa2-ecd9-4389-9fb8-49e68be5e484\")) {                    Plotly.newPlot(                        \"420c2aa2-ecd9-4389-9fb8-49e68be5e484\",                        [{\"domain\":{\"x\":[0.0,1.0],\"y\":[0.0,1.0]},\"hovertemplate\":\"label=%{label}<br>value=%{value}<extra></extra>\",\"labels\":[\"B\",\"M\"],\"legendgroup\":\"\",\"name\":\"\",\"showlegend\":true,\"values\":[357,212],\"type\":\"pie\"}],                        {\"template\":{\"data\":{\"bar\":[{\"error_x\":{\"color\":\"#2a3f5f\"},\"error_y\":{\"color\":\"#2a3f5f\"},\"marker\":{\"line\":{\"color\":\"#E5ECF6\",\"width\":0.5},\"pattern\":{\"fillmode\":\"overlay\",\"size\":10,\"solidity\":0.2}},\"type\":\"bar\"}],\"barpolar\":[{\"marker\":{\"line\":{\"color\":\"#E5ECF6\",\"width\":0.5},\"pattern\":{\"fillmode\":\"overlay\",\"size\":10,\"solidity\":0.2}},\"type\":\"barpolar\"}],\"carpet\":[{\"aaxis\":{\"endlinecolor\":\"#2a3f5f\",\"gridcolor\":\"white\",\"linecolor\":\"white\",\"minorgridcolor\":\"white\",\"startlinecolor\":\"#2a3f5f\"},\"baxis\":{\"endlinecolor\":\"#2a3f5f\",\"gridcolor\":\"white\",\"linecolor\":\"white\",\"minorgridcolor\":\"white\",\"startlinecolor\":\"#2a3f5f\"},\"type\":\"carpet\"}],\"choropleth\":[{\"colorbar\":{\"outlinewidth\":0,\"ticks\":\"\"},\"type\":\"choropleth\"}],\"contour\":[{\"colorbar\":{\"outlinewidth\":0,\"ticks\":\"\"},\"colorscale\":[[0.0,\"#0d0887\"],[0.1111111111111111,\"#46039f\"],[0.2222222222222222,\"#7201a8\"],[0.3333333333333333,\"#9c179e\"],[0.4444444444444444,\"#bd3786\"],[0.5555555555555556,\"#d8576b\"],[0.6666666666666666,\"#ed7953\"],[0.7777777777777778,\"#fb9f3a\"],[0.8888888888888888,\"#fdca26\"],[1.0,\"#f0f921\"]],\"type\":\"contour\"}],\"contourcarpet\":[{\"colorbar\":{\"outlinewidth\":0,\"ticks\":\"\"},\"type\":\"contourcarpet\"}],\"heatmap\":[{\"colorbar\":{\"outlinewidth\":0,\"ticks\":\"\"},\"colorscale\":[[0.0,\"#0d0887\"],[0.1111111111111111,\"#46039f\"],[0.2222222222222222,\"#7201a8\"],[0.3333333333333333,\"#9c179e\"],[0.4444444444444444,\"#bd3786\"],[0.5555555555555556,\"#d8576b\"],[0.6666666666666666,\"#ed7953\"],[0.7777777777777778,\"#fb9f3a\"],[0.8888888888888888,\"#fdca26\"],[1.0,\"#f0f921\"]],\"type\":\"heatmap\"}],\"heatmapgl\":[{\"colorbar\":{\"outlinewidth\":0,\"ticks\":\"\"},\"colorscale\":[[0.0,\"#0d0887\"],[0.1111111111111111,\"#46039f\"],[0.2222222222222222,\"#7201a8\"],[0.3333333333333333,\"#9c179e\"],[0.4444444444444444,\"#bd3786\"],[0.5555555555555556,\"#d8576b\"],[0.6666666666666666,\"#ed7953\"],[0.7777777777777778,\"#fb9f3a\"],[0.8888888888888888,\"#fdca26\"],[1.0,\"#f0f921\"]],\"type\":\"heatmapgl\"}],\"histogram\":[{\"marker\":{\"pattern\":{\"fillmode\":\"overlay\",\"size\":10,\"solidity\":0.2}},\"type\":\"histogram\"}],\"histogram2d\":[{\"colorbar\":{\"outlinewidth\":0,\"ticks\":\"\"},\"colorscale\":[[0.0,\"#0d0887\"],[0.1111111111111111,\"#46039f\"],[0.2222222222222222,\"#7201a8\"],[0.3333333333333333,\"#9c179e\"],[0.4444444444444444,\"#bd3786\"],[0.5555555555555556,\"#d8576b\"],[0.6666666666666666,\"#ed7953\"],[0.7777777777777778,\"#fb9f3a\"],[0.8888888888888888,\"#fdca26\"],[1.0,\"#f0f921\"]],\"type\":\"histogram2d\"}],\"histogram2dcontour\":[{\"colorbar\":{\"outlinewidth\":0,\"ticks\":\"\"},\"colorscale\":[[0.0,\"#0d0887\"],[0.1111111111111111,\"#46039f\"],[0.2222222222222222,\"#7201a8\"],[0.3333333333333333,\"#9c179e\"],[0.4444444444444444,\"#bd3786\"],[0.5555555555555556,\"#d8576b\"],[0.6666666666666666,\"#ed7953\"],[0.7777777777777778,\"#fb9f3a\"],[0.8888888888888888,\"#fdca26\"],[1.0,\"#f0f921\"]],\"type\":\"histogram2dcontour\"}],\"mesh3d\":[{\"colorbar\":{\"outlinewidth\":0,\"ticks\":\"\"},\"type\":\"mesh3d\"}],\"parcoords\":[{\"line\":{\"colorbar\":{\"outlinewidth\":0,\"ticks\":\"\"}},\"type\":\"parcoords\"}],\"pie\":[{\"automargin\":true,\"type\":\"pie\"}],\"scatter\":[{\"marker\":{\"colorbar\":{\"outlinewidth\":0,\"ticks\":\"\"}},\"type\":\"scatter\"}],\"scatter3d\":[{\"line\":{\"colorbar\":{\"outlinewidth\":0,\"ticks\":\"\"}},\"marker\":{\"colorbar\":{\"outlinewidth\":0,\"ticks\":\"\"}},\"type\":\"scatter3d\"}],\"scattercarpet\":[{\"marker\":{\"colorbar\":{\"outlinewidth\":0,\"ticks\":\"\"}},\"type\":\"scattercarpet\"}],\"scattergeo\":[{\"marker\":{\"colorbar\":{\"outlinewidth\":0,\"ticks\":\"\"}},\"type\":\"scattergeo\"}],\"scattergl\":[{\"marker\":{\"colorbar\":{\"outlinewidth\":0,\"ticks\":\"\"}},\"type\":\"scattergl\"}],\"scattermapbox\":[{\"marker\":{\"colorbar\":{\"outlinewidth\":0,\"ticks\":\"\"}},\"type\":\"scattermapbox\"}],\"scatterpolar\":[{\"marker\":{\"colorbar\":{\"outlinewidth\":0,\"ticks\":\"\"}},\"type\":\"scatterpolar\"}],\"scatterpolargl\":[{\"marker\":{\"colorbar\":{\"outlinewidth\":0,\"ticks\":\"\"}},\"type\":\"scatterpolargl\"}],\"scatterternary\":[{\"marker\":{\"colorbar\":{\"outlinewidth\":0,\"ticks\":\"\"}},\"type\":\"scatterternary\"}],\"surface\":[{\"colorbar\":{\"outlinewidth\":0,\"ticks\":\"\"},\"colorscale\":[[0.0,\"#0d0887\"],[0.1111111111111111,\"#46039f\"],[0.2222222222222222,\"#7201a8\"],[0.3333333333333333,\"#9c179e\"],[0.4444444444444444,\"#bd3786\"],[0.5555555555555556,\"#d8576b\"],[0.6666666666666666,\"#ed7953\"],[0.7777777777777778,\"#fb9f3a\"],[0.8888888888888888,\"#fdca26\"],[1.0,\"#f0f921\"]],\"type\":\"surface\"}],\"table\":[{\"cells\":{\"fill\":{\"color\":\"#EBF0F8\"},\"line\":{\"color\":\"white\"}},\"header\":{\"fill\":{\"color\":\"#C8D4E3\"},\"line\":{\"color\":\"white\"}},\"type\":\"table\"}]},\"layout\":{\"annotationdefaults\":{\"arrowcolor\":\"#2a3f5f\",\"arrowhead\":0,\"arrowwidth\":1},\"autotypenumbers\":\"strict\",\"coloraxis\":{\"colorbar\":{\"outlinewidth\":0,\"ticks\":\"\"}},\"colorscale\":{\"diverging\":[[0,\"#8e0152\"],[0.1,\"#c51b7d\"],[0.2,\"#de77ae\"],[0.3,\"#f1b6da\"],[0.4,\"#fde0ef\"],[0.5,\"#f7f7f7\"],[0.6,\"#e6f5d0\"],[0.7,\"#b8e186\"],[0.8,\"#7fbc41\"],[0.9,\"#4d9221\"],[1,\"#276419\"]],\"sequential\":[[0.0,\"#0d0887\"],[0.1111111111111111,\"#46039f\"],[0.2222222222222222,\"#7201a8\"],[0.3333333333333333,\"#9c179e\"],[0.4444444444444444,\"#bd3786\"],[0.5555555555555556,\"#d8576b\"],[0.6666666666666666,\"#ed7953\"],[0.7777777777777778,\"#fb9f3a\"],[0.8888888888888888,\"#fdca26\"],[1.0,\"#f0f921\"]],\"sequentialminus\":[[0.0,\"#0d0887\"],[0.1111111111111111,\"#46039f\"],[0.2222222222222222,\"#7201a8\"],[0.3333333333333333,\"#9c179e\"],[0.4444444444444444,\"#bd3786\"],[0.5555555555555556,\"#d8576b\"],[0.6666666666666666,\"#ed7953\"],[0.7777777777777778,\"#fb9f3a\"],[0.8888888888888888,\"#fdca26\"],[1.0,\"#f0f921\"]]},\"colorway\":[\"#636efa\",\"#EF553B\",\"#00cc96\",\"#ab63fa\",\"#FFA15A\",\"#19d3f3\",\"#FF6692\",\"#B6E880\",\"#FF97FF\",\"#FECB52\"],\"font\":{\"color\":\"#2a3f5f\"},\"geo\":{\"bgcolor\":\"white\",\"lakecolor\":\"white\",\"landcolor\":\"#E5ECF6\",\"showlakes\":true,\"showland\":true,\"subunitcolor\":\"white\"},\"hoverlabel\":{\"align\":\"left\"},\"hovermode\":\"closest\",\"mapbox\":{\"style\":\"light\"},\"paper_bgcolor\":\"white\",\"plot_bgcolor\":\"#E5ECF6\",\"polar\":{\"angularaxis\":{\"gridcolor\":\"white\",\"linecolor\":\"white\",\"ticks\":\"\"},\"bgcolor\":\"#E5ECF6\",\"radialaxis\":{\"gridcolor\":\"white\",\"linecolor\":\"white\",\"ticks\":\"\"}},\"scene\":{\"xaxis\":{\"backgroundcolor\":\"#E5ECF6\",\"gridcolor\":\"white\",\"gridwidth\":2,\"linecolor\":\"white\",\"showbackground\":true,\"ticks\":\"\",\"zerolinecolor\":\"white\"},\"yaxis\":{\"backgroundcolor\":\"#E5ECF6\",\"gridcolor\":\"white\",\"gridwidth\":2,\"linecolor\":\"white\",\"showbackground\":true,\"ticks\":\"\",\"zerolinecolor\":\"white\"},\"zaxis\":{\"backgroundcolor\":\"#E5ECF6\",\"gridcolor\":\"white\",\"gridwidth\":2,\"linecolor\":\"white\",\"showbackground\":true,\"ticks\":\"\",\"zerolinecolor\":\"white\"}},\"shapedefaults\":{\"line\":{\"color\":\"#2a3f5f\"}},\"ternary\":{\"aaxis\":{\"gridcolor\":\"white\",\"linecolor\":\"white\",\"ticks\":\"\"},\"baxis\":{\"gridcolor\":\"white\",\"linecolor\":\"white\",\"ticks\":\"\"},\"bgcolor\":\"#E5ECF6\",\"caxis\":{\"gridcolor\":\"white\",\"linecolor\":\"white\",\"ticks\":\"\"}},\"title\":{\"x\":0.05},\"xaxis\":{\"automargin\":true,\"gridcolor\":\"white\",\"linecolor\":\"white\",\"ticks\":\"\",\"title\":{\"standoff\":15},\"zerolinecolor\":\"white\",\"zerolinewidth\":2},\"yaxis\":{\"automargin\":true,\"gridcolor\":\"white\",\"linecolor\":\"white\",\"ticks\":\"\",\"title\":{\"standoff\":15},\"zerolinecolor\":\"white\",\"zerolinewidth\":2}}},\"legend\":{\"tracegroupgap\":0},\"margin\":{\"t\":60}},                        {\"responsive\": true}                    ).then(function(){\n",
              "                            \n",
              "var gd = document.getElementById('420c2aa2-ecd9-4389-9fb8-49e68be5e484');\n",
              "var x = new MutationObserver(function (mutations, observer) {{\n",
              "        var display = window.getComputedStyle(gd).display;\n",
              "        if (!display || display === 'none') {{\n",
              "            console.log([gd, 'removed!']);\n",
              "            Plotly.purge(gd);\n",
              "            observer.disconnect();\n",
              "        }}\n",
              "}});\n",
              "\n",
              "// Listen for the removal of the full notebook cells\n",
              "var notebookContainer = gd.closest('#notebook-container');\n",
              "if (notebookContainer) {{\n",
              "    x.observe(notebookContainer, {childList: true});\n",
              "}}\n",
              "\n",
              "// Listen for the clearing of the current output cell\n",
              "var outputEl = gd.closest('.output');\n",
              "if (outputEl) {{\n",
              "    x.observe(outputEl, {childList: true});\n",
              "}}\n",
              "\n",
              "                        })                };                });            </script>        </div>"
            ]
          },
          "metadata": {}
        }
      ],
      "source": [
        "import plotly.express as px\n",
        "from plotly.offline import init_notebook_mode, iplot\n",
        "init_notebook_mode(connected=True)\n",
        "fig = px.pie(data, values=data['diagnosis'].value_counts().values, names=data['diagnosis'].value_counts().index)\n",
        "fig.show()"
      ]
    },
    {
      "cell_type": "markdown",
      "metadata": {
        "id": "itRfLsHWwqiG"
      },
      "source": [
        "Our target vaoues are slightly imbalanced so we may not need to use oversampling or undersampling techniques."
      ]
    },
    {
      "cell_type": "code",
      "execution_count": 18,
      "metadata": {
        "id": "5Rq0fEWIwqiH"
      },
      "outputs": [],
      "source": []
    },
    {
      "cell_type": "markdown",
      "metadata": {
        "id": "knlItfXEwqiH"
      },
      "source": [
        "# Feature selection with correlation matrix"
      ]
    },
    {
      "cell_type": "code",
      "execution_count": 19,
      "metadata": {
        "execution": {
          "iopub.execute_input": "2022-10-15T19:53:20.048486Z",
          "iopub.status.busy": "2022-10-15T19:53:20.048067Z",
          "iopub.status.idle": "2022-10-15T19:53:24.726819Z",
          "shell.execute_reply": "2022-10-15T19:53:24.725477Z",
          "shell.execute_reply.started": "2022-10-15T19:53:20.048442Z"
        },
        "colab": {
          "base_uri": "https://localhost:8080/",
          "height": 874
        },
        "id": "smS0R-sVwqiH",
        "outputId": "7caa02b5-2890-4813-d78d-b05d1f8884eb"
      },
      "outputs": [
        {
          "output_type": "execute_result",
          "data": {
            "text/plain": [
              "Text(0.5, 1.05, 'Correlation of df Features')"
            ]
          },
          "metadata": {},
          "execution_count": 19
        },
        {
          "output_type": "display_data",
          "data": {
            "text/plain": [
              "<Figure size 1008x1008 with 2 Axes>"
            ],
            "image/png": "[encoded data removed]"
          },
          "metadata": {
            "needs_background": "light"
          }
        }
      ],
      "source": [
        "corr = data.iloc[:,2:].corr()\n",
        "colormap = sns.diverging_palette(220, 10, as_cmap = True)\n",
        "plt.figure(figsize=(14,14))\n",
        "sns.heatmap(corr, cbar = True,  square = True, annot=True, fmt= '.2f',annot_kws={'size': 8},\n",
        "            cmap = colormap, linewidths=0.1, linecolor='white')\n",
        "plt.title('Correlation of df Features', y=1.05, size=15)"
      ]
    },
    {
      "cell_type": "markdown",
      "metadata": {
        "id": "WLqaxT6gwqiI"
      },
      "source": [
        "As we can see many features are correlated to each other so we will remove highly correlated features bigger than 0.95"
      ]
    },
    {
      "cell_type": "code",
      "execution_count": 20,
      "metadata": {
        "execution": {
          "iopub.execute_input": "2022-10-15T19:53:24.729851Z",
          "iopub.status.busy": "2022-10-15T19:53:24.729402Z",
          "iopub.status.idle": "2022-10-15T19:53:24.756044Z",
          "shell.execute_reply": "2022-10-15T19:53:24.754677Z",
          "shell.execute_reply.started": "2022-10-15T19:53:24.729808Z"
        },
        "colab": {
          "base_uri": "https://localhost:8080/"
        },
        "id": "VU0-NMs_wqiI",
        "outputId": "2404683b-2dfd-45b7-cba4-7edf75bbef1f"
      },
      "outputs": [
        {
          "output_type": "stream",
          "name": "stdout",
          "text": [
            "['perimeter_mean', 'area_mean', 'perimeter_se', 'area_se', 'radius_worst', 'perimeter_worst', 'area_worst']\n"
          ]
        },
        {
          "output_type": "stream",
          "name": "stderr",
          "text": [
            "/usr/local/lib/python3.7/dist-packages/ipykernel_launcher.py:7: DeprecationWarning:\n",
            "\n",
            "`np.bool` is a deprecated alias for the builtin `bool`. To silence this warning, use `bool` by itself. Doing this will not modify any behavior and is safe. If you specifically wanted the numpy scalar type, use `np.bool_` here.\n",
            "Deprecated in NumPy 1.20; for more details and guidance: https://numpy.org/devdocs/release/1.20.0-notes.html#deprecations\n",
            "\n"
          ]
        }
      ],
      "source": [
        "import numpy as np\n",
        "\n",
        "# Create correlation matrix\n",
        "corr_matrix = data.corr().abs()\n",
        "\n",
        "# Select upper triangle of correlation matrix\n",
        "upper = corr_matrix.where(np.triu(np.ones(corr_matrix.shape), k=1).astype(np.bool))\n",
        "\n",
        "# Find features with correlation greater than 0.95\n",
        "to_drop = [column for column in upper.columns if any(upper[column] > 0.95)]\n",
        "print(to_drop)\n",
        "# Drop features \n",
        "data.drop(to_drop, axis=1, inplace=True)"
      ]
    },
    {
      "cell_type": "markdown",
      "metadata": {
        "execution": {
          "iopub.execute_input": "2022-10-13T16:43:35.519324Z",
          "iopub.status.busy": "2022-10-13T16:43:35.517561Z",
          "iopub.status.idle": "2022-10-13T16:43:35.526558Z",
          "shell.execute_reply": "2022-10-13T16:43:35.525168Z",
          "shell.execute_reply.started": "2022-10-13T16:43:35.519259Z"
        },
        "id": "-bvcdjKFwqiI"
      },
      "source": [
        "We have now **26** features"
      ]
    },
    {
      "cell_type": "code",
      "execution_count": 21,
      "metadata": {
        "execution": {
          "iopub.execute_input": "2022-10-15T19:53:24.757976Z",
          "iopub.status.busy": "2022-10-15T19:53:24.757451Z",
          "iopub.status.idle": "2022-10-15T19:53:24.765629Z",
          "shell.execute_reply": "2022-10-15T19:53:24.764631Z",
          "shell.execute_reply.started": "2022-10-15T19:53:24.757847Z"
        },
        "colab": {
          "base_uri": "https://localhost:8080/"
        },
        "id": "YCgvf-AvwqiJ",
        "outputId": "dedee6ee-0bfe-4b2e-a6b1-63ec4fd404b3"
      },
      "outputs": [
        {
          "output_type": "execute_result",
          "data": {
            "text/plain": [
              "26"
            ]
          },
          "metadata": {},
          "execution_count": 21
        }
      ],
      "source": [
        "len(data.columns)"
      ]
    },
    {
      "cell_type": "markdown",
      "metadata": {
        "id": "cRZvhXy_wqiJ"
      },
      "source": [
        "# Checking formissing values"
      ]
    },
    {
      "cell_type": "code",
      "execution_count": 22,
      "metadata": {
        "execution": {
          "iopub.execute_input": "2022-10-15T19:53:24.76895Z",
          "iopub.status.busy": "2022-10-15T19:53:24.767803Z",
          "iopub.status.idle": "2022-10-15T19:53:24.783309Z",
          "shell.execute_reply": "2022-10-15T19:53:24.78217Z",
          "shell.execute_reply.started": "2022-10-15T19:53:24.768866Z"
        },
        "colab": {
          "base_uri": "https://localhost:8080/"
        },
        "id": "4Q0oyg2WwqiJ",
        "outputId": "7cf83372-5ff3-4a2a-e5e8-9ce01811261a"
      },
      "outputs": [
        {
          "output_type": "execute_result",
          "data": {
            "text/plain": [
              "id                           0\n",
              "diagnosis                    0\n",
              "radius_mean                  0\n",
              "texture_mean                 0\n",
              "smoothness_mean              0\n",
              "compactness_mean             0\n",
              "concavity_mean               0\n",
              "concave points_mean          0\n",
              "symmetry_mean                0\n",
              "fractal_dimension_mean       0\n",
              "radius_se                    0\n",
              "texture_se                   0\n",
              "smoothness_se                0\n",
              "compactness_se               0\n",
              "concavity_se                 0\n",
              "concave points_se            0\n",
              "symmetry_se                  0\n",
              "fractal_dimension_se         0\n",
              "texture_worst                0\n",
              "smoothness_worst             0\n",
              "compactness_worst            0\n",
              "concavity_worst              0\n",
              "concave points_worst         0\n",
              "symmetry_worst               0\n",
              "fractal_dimension_worst      0\n",
              "Unnamed: 32                569\n",
              "dtype: int64"
            ]
          },
          "metadata": {},
          "execution_count": 22
        }
      ],
      "source": [
        "data.isnull().sum()"
      ]
    },
    {
      "cell_type": "markdown",
      "metadata": {
        "id": "jnIWZ8oywqiK"
      },
      "source": [
        "We don`t need \"Unnamed: 32\"  and id columns so we can drop them "
      ]
    },
    {
      "cell_type": "code",
      "execution_count": 23,
      "metadata": {
        "execution": {
          "iopub.execute_input": "2022-10-15T19:53:24.78568Z",
          "iopub.status.busy": "2022-10-15T19:53:24.784748Z",
          "iopub.status.idle": "2022-10-15T19:53:24.795338Z",
          "shell.execute_reply": "2022-10-15T19:53:24.794347Z",
          "shell.execute_reply.started": "2022-10-15T19:53:24.785641Z"
        },
        "id": "oAinUCX9wqiK"
      },
      "outputs": [],
      "source": [
        "#droping feature\n",
        "data.drop(['Unnamed: 32','id'],axis=1,inplace=True)"
      ]
    },
    {
      "cell_type": "code",
      "execution_count": 24,
      "metadata": {
        "execution": {
          "iopub.execute_input": "2022-10-15T19:53:24.797216Z",
          "iopub.status.busy": "2022-10-15T19:53:24.796904Z",
          "iopub.status.idle": "2022-10-15T19:53:24.810141Z",
          "shell.execute_reply": "2022-10-15T19:53:24.80869Z",
          "shell.execute_reply.started": "2022-10-15T19:53:24.797186Z"
        },
        "id": "kQW5LW5swqiK"
      },
      "outputs": [],
      "source": [
        "# independent variables\n",
        "x = data.drop('diagnosis',axis=1)\n",
        "#dependent variables\n",
        "y = data.diagnosis"
      ]
    },
    {
      "cell_type": "markdown",
      "metadata": {
        "id": "o6UH0VMrwqiL"
      },
      "source": [
        "# Encoding"
      ]
    },
    {
      "cell_type": "markdown",
      "metadata": {
        "id": "alCDbPcPwqiL"
      },
      "source": [
        "We will handle categorical values using LabelEncoder so we can use them in ANN"
      ]
    },
    {
      "cell_type": "code",
      "execution_count": 25,
      "metadata": {
        "execution": {
          "iopub.execute_input": "2022-10-15T19:53:24.812216Z",
          "iopub.status.busy": "2022-10-15T19:53:24.811582Z",
          "iopub.status.idle": "2022-10-15T19:53:24.823338Z",
          "shell.execute_reply": "2022-10-15T19:53:24.822154Z",
          "shell.execute_reply.started": "2022-10-15T19:53:24.81217Z"
        },
        "id": "J0st5bcywqiM"
      },
      "outputs": [],
      "source": [
        "from sklearn.preprocessing import LabelEncoder\n",
        "#creating the object\n",
        "lb = LabelEncoder()\n",
        "y = lb.fit_transform(y)"
      ]
    },
    {
      "cell_type": "markdown",
      "metadata": {
        "id": "uOhDBGS6wqiM"
      },
      "source": [
        "# Splitting Data"
      ]
    },
    {
      "cell_type": "code",
      "execution_count": 26,
      "metadata": {
        "execution": {
          "iopub.execute_input": "2022-10-15T19:53:27.572644Z",
          "iopub.status.busy": "2022-10-15T19:53:27.572182Z",
          "iopub.status.idle": "2022-10-15T19:53:27.581114Z",
          "shell.execute_reply": "2022-10-15T19:53:27.579996Z",
          "shell.execute_reply.started": "2022-10-15T19:53:27.572599Z"
        },
        "id": "8nuY181owqiM"
      },
      "outputs": [],
      "source": [
        "from sklearn.model_selection import train_test_split\n",
        "xtrain,xtest,ytrain,ytest = train_test_split(x,y,test_size=0.2,random_state=40)"
      ]
    },
    {
      "cell_type": "markdown",
      "metadata": {
        "id": "E_DYJsvOwqiN"
      },
      "source": [
        "# Scaling the Data"
      ]
    },
    {
      "cell_type": "markdown",
      "metadata": {
        "id": "dOwYihIEwqiN"
      },
      "source": [
        "When we create the artificial neural network, then we have to scale the data into smaller numbers because the deep learning algorithm multiplies the weights and input data of the nodes and it takes lots of time, So for reducing that time we scale the data.\n",
        "\n",
        "We will scalling the data with StandardScaler"
      ]
    },
    {
      "cell_type": "code",
      "execution_count": 27,
      "metadata": {
        "execution": {
          "iopub.execute_input": "2022-10-15T19:53:27.583454Z",
          "iopub.status.busy": "2022-10-15T19:53:27.583123Z",
          "iopub.status.idle": "2022-10-15T19:53:27.598239Z",
          "shell.execute_reply": "2022-10-15T19:53:27.597072Z",
          "shell.execute_reply.started": "2022-10-15T19:53:27.583425Z"
        },
        "id": "iWcEADaiwqiN"
      },
      "outputs": [],
      "source": [
        "#importing StandardScaler\n",
        "from sklearn.preprocessing import StandardScaler\n",
        "#creating object\n",
        "sc = StandardScaler()\n",
        "xtrain = sc.fit_transform(xtrain)\n",
        "xtest = sc.transform(xtest)"
      ]
    },
    {
      "cell_type": "markdown",
      "metadata": {
        "id": "uS_thaoawqiN"
      },
      "source": [
        "### What are artificial neural networks?\n",
        "\n",
        "An artificial neuron network (ANN) is a computational model based on the structure and functions of biological neural networks. Information that flows through the network affects the structure of the ANN because a neural network changes - or learns, in a sense - based on that input and output. ANNs are considered nonlinear statistical data modeling tools where the complex relationships between inputs and outputs are modeled or patterns are found. ANN is also known as a neural network.\n",
        "\n",
        "A single neuron is known as a perceptron. It consists of a layer of inputs(corresponds to columns of a dataframe). Each input has a weight which controls the magnitude of an input. The summation of the products of these input values and weights is fed to the activation function. Activation functions are really important for a Artificial Neural Network to learn and make sense of something really complicated and Non-linear complex functional mappings between the inputs and response variable."
      ]
    },
    {
      "cell_type": "markdown",
      "metadata": {
        "id": "VXGDDfz8wqiN"
      },
      "source": [
        "![ai-artificial-neural-network-alex-castrounis.png](attachment:ce2a1faa-aec3-49a3-9838-fb93ad3361dc.png)"
      ]
    },
    {
      "cell_type": "markdown",
      "metadata": {
        "id": "5uEqlaiswqiO"
      },
      "source": [
        "we will import Keras and its packages."
      ]
    },
    {
      "cell_type": "code",
      "execution_count": 28,
      "metadata": {
        "execution": {
          "iopub.execute_input": "2022-10-15T19:53:31.105044Z",
          "iopub.status.busy": "2022-10-15T19:53:31.104614Z",
          "iopub.status.idle": "2022-10-15T19:53:31.110884Z",
          "shell.execute_reply": "2022-10-15T19:53:31.10983Z",
          "shell.execute_reply.started": "2022-10-15T19:53:31.105009Z"
        },
        "id": "ySSr8tmrwqiO"
      },
      "outputs": [],
      "source": [
        "#importing keras\n",
        "import keras\n",
        "#importing sequential module\n",
        "from keras.models import Sequential\n",
        "# import dense module for hidden layers\n",
        "from keras.layers import Dense\n",
        "#importing activation functions\n",
        "from keras.layers import LeakyReLU,PReLU,ELU\n",
        "from keras.layers import Dropout"
      ]
    },
    {
      "cell_type": "markdown",
      "metadata": {
        "id": "HDQ-o9UywqiO"
      },
      "source": [
        "# Creating Layers\n",
        "After importing those libraries, we create the three types of layers:\n",
        "\n",
        "- Input layer\n",
        "- Hidden layer\n",
        "- Output layer"
      ]
    },
    {
      "cell_type": "code",
      "execution_count": 29,
      "metadata": {
        "id": "LvPxTHABwqiO"
      },
      "outputs": [],
      "source": [
        "fun = [\"'relu'\",\"'sigmoid'\",\"'softmax'\"]"
      ]
    },
    {
      "cell_type": "code",
      "execution_count": 30,
      "metadata": {
        "id": "vTHFbAipwqiO"
      },
      "outputs": [],
      "source": [
        "#from tensorflow.keras.layers import BatchNormalization\n",
        "#CREATING THE ANN AS SEQUENCE OF LAYERS\n",
        "#ann =Sequential()\n",
        "\n",
        "#for i in fun:\n",
        "  #  print(ann.add(Dense(units = 30,activation = i)))\n",
        "  #  ann.add(BatchNormalization())\n",
        "  #  ann.add(Dropout(0.5))"
      ]
    },
    {
      "cell_type": "code",
      "execution_count": 31,
      "metadata": {
        "id": "fNc25OEPwqiP"
      },
      "outputs": [],
      "source": [
        "#for i in fun:\n",
        " #   print(i)"
      ]
    },
    {
      "cell_type": "markdown",
      "metadata": {
        "id": "lZ9-zjlZwqiP"
      },
      "source": [
        "# 1.RELU"
      ]
    },
    {
      "cell_type": "code",
      "execution_count": 32,
      "metadata": {
        "execution": {
          "iopub.execute_input": "2022-10-15T19:53:31.11994Z",
          "iopub.status.busy": "2022-10-15T19:53:31.118747Z",
          "iopub.status.idle": "2022-10-15T19:53:31.14121Z",
          "shell.execute_reply": "2022-10-15T19:53:31.140017Z",
          "shell.execute_reply.started": "2022-10-15T19:53:31.119851Z"
        },
        "id": "GT0z-1xZwqiP"
      },
      "outputs": [],
      "source": [
        "from tensorflow.keras.layers import BatchNormalization\n",
        "#CREATING THE ANN AS SEQUENCE OF LAYERS\n",
        "ann =Sequential()\n",
        "\n",
        "#ADDING FIRST HIDDEN LAYER WITH 30 NEURONS, THE INPUT LAYER WILL BE ADDED AUTOMATICALLY,\n",
        "ann.add(Dense(units = 30,activation = 'relu'))\n",
        "ann.add(BatchNormalization())\n",
        "ann.add(Dropout(0.5))\n",
        "\n",
        "\n",
        "\n",
        "#ADDING OUTPUT LAYER WITH 1 NEURON , AS THIS IS A BINARY CLASSIFICATION\n",
        "ann.add(Dense(units = 1,activation = 'sigmoid'))"
      ]
    },
    {
      "cell_type": "markdown",
      "metadata": {
        "id": "uNTWDj6gwqiP"
      },
      "source": [
        "# Compiling and Fitting"
      ]
    },
    {
      "cell_type": "markdown",
      "metadata": {
        "id": "y-hS18IawqiQ"
      },
      "source": [
        "Optimizer is chosen as adam for gradient descent.\n",
        "\n",
        "Binary_crossentropy is the loss function used.\n",
        "\n",
        "We use sigmoid function in output layer\n",
        "\n",
        "Sigmoid function is used when dealing with classfication problems with 2 types of results.(Submax function is used for 3 or more classification results)\n"
      ]
    },
    {
      "cell_type": "markdown",
      "metadata": {
        "id": "Hjjvz4inwqiQ"
      },
      "source": [
        "![download.png](attachment:4369040a-b9e8-4c46-9f2d-d527a3bad265.png)"
      ]
    },
    {
      "cell_type": "code",
      "execution_count": 33,
      "metadata": {
        "execution": {
          "iopub.execute_input": "2022-10-15T19:53:31.144852Z",
          "iopub.status.busy": "2022-10-15T19:53:31.144155Z",
          "iopub.status.idle": "2022-10-15T19:53:40.607133Z",
          "shell.execute_reply": "2022-10-15T19:53:40.605419Z",
          "shell.execute_reply.started": "2022-10-15T19:53:31.144812Z"
        },
        "scrolled": false,
        "colab": {
          "base_uri": "https://localhost:8080/"
        },
        "id": "rxgULYF5wqiQ",
        "outputId": "7dad0d4b-df07-470a-ee58-2175ecf387af"
      },
      "outputs": [
        {
          "output_type": "stream",
          "name": "stdout",
          "text": [
            "Epoch 1/100\n",
            "15/15 [==============================] - 3s 16ms/step - loss: 0.7608 - accuracy: 0.6396 - val_loss: 0.5755 - val_accuracy: 0.7105\n",
            "Epoch 2/100\n",
            "15/15 [==============================] - 0s 6ms/step - loss: 0.4806 - accuracy: 0.7956 - val_loss: 0.4491 - val_accuracy: 0.8158\n",
            "Epoch 3/100\n",
            "15/15 [==============================] - 0s 6ms/step - loss: 0.4024 - accuracy: 0.8242 - val_loss: 0.3741 - val_accuracy: 0.8684\n",
            "Epoch 4/100\n",
            "15/15 [==============================] - 0s 5ms/step - loss: 0.3196 - accuracy: 0.8637 - val_loss: 0.3226 - val_accuracy: 0.8947\n",
            "Epoch 5/100\n",
            "15/15 [==============================] - 0s 5ms/step - loss: 0.2906 - accuracy: 0.8945 - val_loss: 0.2831 - val_accuracy: 0.9035\n",
            "Epoch 6/100\n",
            "15/15 [==============================] - 0s 5ms/step - loss: 0.3031 - accuracy: 0.8571 - val_loss: 0.2537 - val_accuracy: 0.9211\n",
            "Epoch 7/100\n",
            "15/15 [==============================] - 0s 5ms/step - loss: 0.2440 - accuracy: 0.9055 - val_loss: 0.2286 - val_accuracy: 0.9298\n",
            "Epoch 8/100\n",
            "15/15 [==============================] - 0s 5ms/step - loss: 0.2523 - accuracy: 0.9055 - val_loss: 0.2125 - val_accuracy: 0.9386\n",
            "Epoch 9/100\n",
            "15/15 [==============================] - 0s 6ms/step - loss: 0.2184 - accuracy: 0.9209 - val_loss: 0.1992 - val_accuracy: 0.9386\n",
            "Epoch 10/100\n",
            "15/15 [==============================] - 0s 5ms/step - loss: 0.1827 - accuracy: 0.9341 - val_loss: 0.1890 - val_accuracy: 0.9474\n",
            "Epoch 11/100\n",
            "15/15 [==============================] - 0s 6ms/step - loss: 0.2129 - accuracy: 0.9319 - val_loss: 0.1785 - val_accuracy: 0.9474\n",
            "Epoch 12/100\n",
            "15/15 [==============================] - 0s 6ms/step - loss: 0.1960 - accuracy: 0.9231 - val_loss: 0.1715 - val_accuracy: 0.9474\n",
            "Epoch 13/100\n",
            "15/15 [==============================] - 0s 5ms/step - loss: 0.1597 - accuracy: 0.9429 - val_loss: 0.1649 - val_accuracy: 0.9561\n",
            "Epoch 14/100\n",
            "15/15 [==============================] - 0s 5ms/step - loss: 0.2037 - accuracy: 0.9231 - val_loss: 0.1605 - val_accuracy: 0.9649\n",
            "Epoch 15/100\n",
            "15/15 [==============================] - 0s 5ms/step - loss: 0.1667 - accuracy: 0.9363 - val_loss: 0.1631 - val_accuracy: 0.9561\n",
            "Epoch 16/100\n",
            "15/15 [==============================] - 0s 5ms/step - loss: 0.1575 - accuracy: 0.9341 - val_loss: 0.1605 - val_accuracy: 0.9561\n",
            "Epoch 17/100\n",
            "15/15 [==============================] - 0s 5ms/step - loss: 0.1448 - accuracy: 0.9451 - val_loss: 0.1545 - val_accuracy: 0.9561\n",
            "Epoch 18/100\n",
            "15/15 [==============================] - 0s 6ms/step - loss: 0.1399 - accuracy: 0.9473 - val_loss: 0.1497 - val_accuracy: 0.9561\n",
            "Epoch 19/100\n",
            "15/15 [==============================] - 0s 5ms/step - loss: 0.1517 - accuracy: 0.9385 - val_loss: 0.1440 - val_accuracy: 0.9561\n",
            "Epoch 20/100\n",
            "15/15 [==============================] - 0s 5ms/step - loss: 0.1303 - accuracy: 0.9473 - val_loss: 0.1414 - val_accuracy: 0.9561\n",
            "Epoch 21/100\n",
            "15/15 [==============================] - 0s 5ms/step - loss: 0.1418 - accuracy: 0.9473 - val_loss: 0.1364 - val_accuracy: 0.9649\n",
            "Epoch 22/100\n",
            "15/15 [==============================] - 0s 5ms/step - loss: 0.1325 - accuracy: 0.9560 - val_loss: 0.1345 - val_accuracy: 0.9561\n",
            "Epoch 23/100\n",
            "15/15 [==============================] - 0s 5ms/step - loss: 0.1376 - accuracy: 0.9363 - val_loss: 0.1313 - val_accuracy: 0.9649\n",
            "Epoch 24/100\n",
            "15/15 [==============================] - 0s 6ms/step - loss: 0.1159 - accuracy: 0.9626 - val_loss: 0.1304 - val_accuracy: 0.9561\n",
            "Epoch 25/100\n",
            "15/15 [==============================] - 0s 5ms/step - loss: 0.1209 - accuracy: 0.9582 - val_loss: 0.1247 - val_accuracy: 0.9649\n",
            "Epoch 26/100\n",
            "15/15 [==============================] - 0s 6ms/step - loss: 0.1151 - accuracy: 0.9604 - val_loss: 0.1229 - val_accuracy: 0.9649\n",
            "Epoch 27/100\n",
            "15/15 [==============================] - 0s 6ms/step - loss: 0.1228 - accuracy: 0.9582 - val_loss: 0.1215 - val_accuracy: 0.9649\n",
            "Epoch 28/100\n",
            "15/15 [==============================] - 0s 5ms/step - loss: 0.1205 - accuracy: 0.9670 - val_loss: 0.1198 - val_accuracy: 0.9561\n",
            "Epoch 29/100\n",
            "15/15 [==============================] - 0s 5ms/step - loss: 0.1428 - accuracy: 0.9451 - val_loss: 0.1199 - val_accuracy: 0.9561\n",
            "Epoch 30/100\n",
            "15/15 [==============================] - 0s 7ms/step - loss: 0.0946 - accuracy: 0.9780 - val_loss: 0.1193 - val_accuracy: 0.9737\n",
            "Epoch 31/100\n",
            "15/15 [==============================] - 0s 6ms/step - loss: 0.1219 - accuracy: 0.9560 - val_loss: 0.1191 - val_accuracy: 0.9649\n",
            "Epoch 32/100\n",
            "15/15 [==============================] - 0s 6ms/step - loss: 0.1243 - accuracy: 0.9560 - val_loss: 0.1187 - val_accuracy: 0.9649\n",
            "Epoch 33/100\n",
            "15/15 [==============================] - 0s 6ms/step - loss: 0.1050 - accuracy: 0.9451 - val_loss: 0.1185 - val_accuracy: 0.9649\n",
            "Epoch 34/100\n",
            "15/15 [==============================] - 0s 5ms/step - loss: 0.1173 - accuracy: 0.9626 - val_loss: 0.1201 - val_accuracy: 0.9649\n",
            "Epoch 35/100\n",
            "15/15 [==============================] - 0s 5ms/step - loss: 0.0982 - accuracy: 0.9626 - val_loss: 0.1199 - val_accuracy: 0.9649\n",
            "Epoch 36/100\n",
            "15/15 [==============================] - 0s 5ms/step - loss: 0.0919 - accuracy: 0.9604 - val_loss: 0.1175 - val_accuracy: 0.9649\n",
            "Epoch 37/100\n",
            "15/15 [==============================] - 0s 7ms/step - loss: 0.0911 - accuracy: 0.9648 - val_loss: 0.1122 - val_accuracy: 0.9649\n",
            "Epoch 38/100\n",
            "15/15 [==============================] - 0s 5ms/step - loss: 0.1188 - accuracy: 0.9648 - val_loss: 0.1112 - val_accuracy: 0.9649\n",
            "Epoch 39/100\n",
            "15/15 [==============================] - 0s 5ms/step - loss: 0.1179 - accuracy: 0.9670 - val_loss: 0.1093 - val_accuracy: 0.9737\n",
            "Epoch 40/100\n",
            "15/15 [==============================] - 0s 6ms/step - loss: 0.1001 - accuracy: 0.9758 - val_loss: 0.1063 - val_accuracy: 0.9737\n",
            "Epoch 41/100\n",
            "15/15 [==============================] - 0s 7ms/step - loss: 0.0808 - accuracy: 0.9780 - val_loss: 0.1064 - val_accuracy: 0.9737\n",
            "Epoch 42/100\n",
            "15/15 [==============================] - 0s 5ms/step - loss: 0.0760 - accuracy: 0.9758 - val_loss: 0.1053 - val_accuracy: 0.9737\n",
            "Epoch 43/100\n",
            "15/15 [==============================] - 0s 6ms/step - loss: 0.1139 - accuracy: 0.9560 - val_loss: 0.1043 - val_accuracy: 0.9825\n",
            "Epoch 44/100\n",
            "15/15 [==============================] - 0s 6ms/step - loss: 0.0841 - accuracy: 0.9780 - val_loss: 0.1059 - val_accuracy: 0.9737\n",
            "Epoch 45/100\n",
            "15/15 [==============================] - 0s 5ms/step - loss: 0.0864 - accuracy: 0.9780 - val_loss: 0.1081 - val_accuracy: 0.9737\n",
            "Epoch 46/100\n",
            "15/15 [==============================] - 0s 5ms/step - loss: 0.0829 - accuracy: 0.9692 - val_loss: 0.1093 - val_accuracy: 0.9649\n",
            "Epoch 47/100\n",
            "15/15 [==============================] - 0s 5ms/step - loss: 0.0928 - accuracy: 0.9670 - val_loss: 0.1105 - val_accuracy: 0.9649\n",
            "Epoch 48/100\n",
            "15/15 [==============================] - 0s 6ms/step - loss: 0.1043 - accuracy: 0.9648 - val_loss: 0.1077 - val_accuracy: 0.9649\n",
            "Epoch 49/100\n",
            "15/15 [==============================] - 0s 5ms/step - loss: 0.0941 - accuracy: 0.9648 - val_loss: 0.1054 - val_accuracy: 0.9737\n",
            "Epoch 50/100\n",
            "15/15 [==============================] - 0s 6ms/step - loss: 0.0990 - accuracy: 0.9560 - val_loss: 0.1051 - val_accuracy: 0.9825\n",
            "Epoch 51/100\n",
            "15/15 [==============================] - 0s 6ms/step - loss: 0.0959 - accuracy: 0.9670 - val_loss: 0.1038 - val_accuracy: 0.9825\n",
            "Epoch 52/100\n",
            "15/15 [==============================] - 0s 6ms/step - loss: 0.0874 - accuracy: 0.9714 - val_loss: 0.1062 - val_accuracy: 0.9825\n",
            "Epoch 53/100\n",
            "15/15 [==============================] - 0s 5ms/step - loss: 0.0728 - accuracy: 0.9648 - val_loss: 0.1070 - val_accuracy: 0.9825\n",
            "Epoch 54/100\n",
            "15/15 [==============================] - 0s 5ms/step - loss: 0.0819 - accuracy: 0.9758 - val_loss: 0.1086 - val_accuracy: 0.9737\n",
            "Epoch 55/100\n",
            "15/15 [==============================] - 0s 6ms/step - loss: 0.0666 - accuracy: 0.9802 - val_loss: 0.1107 - val_accuracy: 0.9737\n",
            "Epoch 56/100\n",
            "15/15 [==============================] - 0s 5ms/step - loss: 0.0815 - accuracy: 0.9736 - val_loss: 0.1143 - val_accuracy: 0.9737\n",
            "Epoch 57/100\n",
            "15/15 [==============================] - 0s 7ms/step - loss: 0.0735 - accuracy: 0.9670 - val_loss: 0.1173 - val_accuracy: 0.9737\n",
            "Epoch 58/100\n",
            "15/15 [==============================] - 0s 6ms/step - loss: 0.0752 - accuracy: 0.9758 - val_loss: 0.1182 - val_accuracy: 0.9737\n",
            "Epoch 59/100\n",
            "15/15 [==============================] - 0s 5ms/step - loss: 0.0960 - accuracy: 0.9692 - val_loss: 0.1172 - val_accuracy: 0.9737\n",
            "Epoch 60/100\n",
            "15/15 [==============================] - 0s 5ms/step - loss: 0.0799 - accuracy: 0.9758 - val_loss: 0.1168 - val_accuracy: 0.9737\n",
            "Epoch 61/100\n",
            "15/15 [==============================] - 0s 6ms/step - loss: 0.0880 - accuracy: 0.9670 - val_loss: 0.1183 - val_accuracy: 0.9737\n",
            "Epoch 62/100\n",
            "15/15 [==============================] - 0s 5ms/step - loss: 0.0705 - accuracy: 0.9758 - val_loss: 0.1172 - val_accuracy: 0.9737\n",
            "Epoch 63/100\n",
            "15/15 [==============================] - 0s 5ms/step - loss: 0.0749 - accuracy: 0.9758 - val_loss: 0.1157 - val_accuracy: 0.9737\n",
            "Epoch 64/100\n",
            "15/15 [==============================] - 0s 6ms/step - loss: 0.1000 - accuracy: 0.9626 - val_loss: 0.1110 - val_accuracy: 0.9737\n",
            "Epoch 65/100\n",
            "15/15 [==============================] - 0s 5ms/step - loss: 0.0600 - accuracy: 0.9824 - val_loss: 0.1130 - val_accuracy: 0.9737\n",
            "Epoch 66/100\n",
            "15/15 [==============================] - 0s 5ms/step - loss: 0.0849 - accuracy: 0.9736 - val_loss: 0.1117 - val_accuracy: 0.9737\n",
            "Epoch 67/100\n",
            "15/15 [==============================] - 0s 5ms/step - loss: 0.0812 - accuracy: 0.9692 - val_loss: 0.1122 - val_accuracy: 0.9737\n",
            "Epoch 68/100\n",
            "15/15 [==============================] - 0s 5ms/step - loss: 0.0657 - accuracy: 0.9736 - val_loss: 0.1126 - val_accuracy: 0.9737\n",
            "Epoch 69/100\n",
            "15/15 [==============================] - 0s 5ms/step - loss: 0.0615 - accuracy: 0.9868 - val_loss: 0.1131 - val_accuracy: 0.9737\n",
            "Epoch 70/100\n",
            "15/15 [==============================] - 0s 5ms/step - loss: 0.1020 - accuracy: 0.9604 - val_loss: 0.1145 - val_accuracy: 0.9737\n",
            "Epoch 71/100\n",
            "15/15 [==============================] - 0s 6ms/step - loss: 0.0786 - accuracy: 0.9692 - val_loss: 0.1146 - val_accuracy: 0.9737\n",
            "Epoch 72/100\n",
            "15/15 [==============================] - 0s 5ms/step - loss: 0.0617 - accuracy: 0.9824 - val_loss: 0.1115 - val_accuracy: 0.9737\n",
            "Epoch 73/100\n",
            "15/15 [==============================] - 0s 5ms/step - loss: 0.0727 - accuracy: 0.9714 - val_loss: 0.1101 - val_accuracy: 0.9737\n",
            "Epoch 74/100\n",
            "15/15 [==============================] - 0s 5ms/step - loss: 0.0970 - accuracy: 0.9714 - val_loss: 0.1081 - val_accuracy: 0.9737\n",
            "Epoch 75/100\n",
            "15/15 [==============================] - 0s 5ms/step - loss: 0.0842 - accuracy: 0.9736 - val_loss: 0.1093 - val_accuracy: 0.9737\n",
            "Epoch 76/100\n",
            "15/15 [==============================] - 0s 5ms/step - loss: 0.0904 - accuracy: 0.9736 - val_loss: 0.1101 - val_accuracy: 0.9737\n",
            "Epoch 76: early stopping\n"
          ]
        }
      ],
      "source": [
        "#COMPILING THE ANN USING STOCHASTIC GRADIENT DESCENT (optimizer = 'adam')\n",
        "ann.compile(optimizer = 'adam', loss = 'binary_crossentropy', metrics = ['accuracy'])\n",
        "\n",
        "#setting callbacks for monitoring maximum accuracy\n",
        "from tensorflow.keras.callbacks import EarlyStopping\n",
        "early_stop = EarlyStopping(monitor='val_loss', mode='min', verbose=1, patience=25)\n",
        "\n",
        "#TRAINING THE ANN WITH BATCH SIZE OF 32 (THIS IS A BATCH LEARNING)\n",
        "model=ann.fit(xtrain, ytrain,batch_size = 32, validation_data=(xtest, ytest),epochs =100,callbacks = [early_stop])"
      ]
    },
    {
      "cell_type": "markdown",
      "metadata": {
        "id": "Bf8EzmbHwqiQ"
      },
      "source": [
        "Let us see summary of our model"
      ]
    },
    {
      "cell_type": "code",
      "execution_count": 34,
      "metadata": {
        "execution": {
          "iopub.execute_input": "2022-10-15T19:53:40.609439Z",
          "iopub.status.busy": "2022-10-15T19:53:40.60908Z",
          "iopub.status.idle": "2022-10-15T19:53:40.616528Z",
          "shell.execute_reply": "2022-10-15T19:53:40.615464Z",
          "shell.execute_reply.started": "2022-10-15T19:53:40.609406Z"
        },
        "colab": {
          "base_uri": "https://localhost:8080/"
        },
        "id": "wFXLQ5McwqiR",
        "outputId": "29d52934-b755-4b0c-baf3-21e399773b3e"
      },
      "outputs": [
        {
          "output_type": "stream",
          "name": "stdout",
          "text": [
            "Model: \"sequential\"\n",
            "_________________________________________________________________\n",
            " Layer (type)                Output Shape              Param #   \n",
            "=================================================================\n",
            " dense (Dense)               (None, 30)                720       \n",
            "                                                                 \n",
            " batch_normalization (BatchN  (None, 30)               120       \n",
            " ormalization)                                                   \n",
            "                                                                 \n",
            " dropout (Dropout)           (None, 30)                0         \n",
            "                                                                 \n",
            " dense_1 (Dense)             (None, 1)                 31        \n",
            "                                                                 \n",
            "=================================================================\n",
            "Total params: 871\n",
            "Trainable params: 811\n",
            "Non-trainable params: 60\n",
            "_________________________________________________________________\n"
          ]
        }
      ],
      "source": [
        "#taking summary of layers\n",
        "ann.summary()"
      ]
    },
    {
      "cell_type": "code",
      "execution_count": 35,
      "metadata": {
        "execution": {
          "iopub.execute_input": "2022-10-15T19:53:40.619585Z",
          "iopub.status.busy": "2022-10-15T19:53:40.618584Z",
          "iopub.status.idle": "2022-10-15T19:53:40.912783Z",
          "shell.execute_reply": "2022-10-15T19:53:40.9112Z",
          "shell.execute_reply.started": "2022-10-15T19:53:40.619547Z"
        },
        "colab": {
          "base_uri": "https://localhost:8080/",
          "height": 298
        },
        "id": "dqvXFm0OwqiR",
        "outputId": "756d22ad-fa25-448e-9ba7-d32c4f853ffb"
      },
      "outputs": [
        {
          "output_type": "execute_result",
          "data": {
            "text/plain": [
              "Text(0.5, 1.0, 'model accuracy')"
            ]
          },
          "metadata": {},
          "execution_count": 35
        },
        {
          "output_type": "display_data",
          "data": {
            "text/plain": [
              "<Figure size 432x288 with 1 Axes>"
            ],
            "image/png": "[encoded data removed]"
          },
          "metadata": {
            "needs_background": "light"
          }
        }
      ],
      "source": [
        "losses = pd.DataFrame(ann.history.history)\n",
        "losses.plot()\n",
        "plt.title('model accuracy')"
      ]
    },
    {
      "cell_type": "code",
      "execution_count": 36,
      "metadata": {
        "execution": {
          "iopub.execute_input": "2022-10-15T19:53:40.915059Z",
          "iopub.status.busy": "2022-10-15T19:53:40.914523Z",
          "iopub.status.idle": "2022-10-15T19:53:41.071262Z",
          "shell.execute_reply": "2022-10-15T19:53:41.069975Z",
          "shell.execute_reply.started": "2022-10-15T19:53:40.915023Z"
        },
        "colab": {
          "base_uri": "https://localhost:8080/"
        },
        "id": "CKtZa4vOwqiS",
        "outputId": "60e934ef-e010-4426-87f4-219428c81a57"
      },
      "outputs": [
        {
          "output_type": "stream",
          "name": "stdout",
          "text": [
            "4/4 [==============================] - 0s 3ms/step\n"
          ]
        }
      ],
      "source": [
        "#now testing for Test data\n",
        "y_pred = ann.predict(xtest)\n",
        "#converting values\n",
        "y_pred = (y_pred>0.5)"
      ]
    },
    {
      "cell_type": "code",
      "execution_count": 37,
      "metadata": {
        "execution": {
          "iopub.execute_input": "2022-10-15T19:53:41.07349Z",
          "iopub.status.busy": "2022-10-15T19:53:41.072657Z",
          "iopub.status.idle": "2022-10-15T19:53:41.082729Z",
          "shell.execute_reply": "2022-10-15T19:53:41.081367Z",
          "shell.execute_reply.started": "2022-10-15T19:53:41.073448Z"
        },
        "colab": {
          "base_uri": "https://localhost:8080/"
        },
        "id": "PY3jKRinwqiS",
        "outputId": "6b3afb54-5d20-4e23-d7bc-5cb27cd3654c"
      },
      "outputs": [
        {
          "output_type": "stream",
          "name": "stdout",
          "text": [
            "[[74  1]\n",
            " [ 2 37]]\n",
            "score is: 0.9736842105263158\n"
          ]
        }
      ],
      "source": [
        "from sklearn.metrics import confusion_matrix\n",
        "from sklearn.metrics import accuracy_score\n",
        "cm = confusion_matrix(ytest,y_pred)\n",
        "score1 = accuracy_score(ytest,y_pred)\n",
        "print(cm)\n",
        "print('score is:',score1)"
      ]
    },
    {
      "cell_type": "code",
      "execution_count": 38,
      "metadata": {
        "execution": {
          "iopub.execute_input": "2022-10-15T19:53:41.084728Z",
          "iopub.status.busy": "2022-10-15T19:53:41.084374Z",
          "iopub.status.idle": "2022-10-15T19:53:41.099645Z",
          "shell.execute_reply": "2022-10-15T19:53:41.09828Z",
          "shell.execute_reply.started": "2022-10-15T19:53:41.084673Z"
        },
        "colab": {
          "base_uri": "https://localhost:8080/"
        },
        "id": "3Rr_h1JdwqiS",
        "outputId": "edb87739-030d-49ec-d75d-c0a7e3800d0f"
      },
      "outputs": [
        {
          "output_type": "stream",
          "name": "stdout",
          "text": [
            "              precision    recall  f1-score   support\n",
            "\n",
            "           0       0.97      0.99      0.98        75\n",
            "           1       0.97      0.95      0.96        39\n",
            "\n",
            "    accuracy                           0.97       114\n",
            "   macro avg       0.97      0.97      0.97       114\n",
            "weighted avg       0.97      0.97      0.97       114\n",
            "\n"
          ]
        }
      ],
      "source": [
        "from sklearn.metrics import classification_report,confusion_matrix\n",
        "print(classification_report(ytest,y_pred))"
      ]
    },
    {
      "cell_type": "code",
      "execution_count": 39,
      "metadata": {
        "execution": {
          "iopub.execute_input": "2022-10-15T19:53:41.102054Z",
          "iopub.status.busy": "2022-10-15T19:53:41.101491Z",
          "iopub.status.idle": "2022-10-15T19:53:41.369311Z",
          "shell.execute_reply": "2022-10-15T19:53:41.368006Z",
          "shell.execute_reply.started": "2022-10-15T19:53:41.102016Z"
        },
        "colab": {
          "base_uri": "https://localhost:8080/",
          "height": 428
        },
        "id": "lSqBt7muwqiT",
        "outputId": "ba6a1724-a830-419e-c08a-b2477525538e"
      },
      "outputs": [
        {
          "output_type": "display_data",
          "data": {
            "text/plain": [
              "<Figure size 1008x504 with 2 Axes>"
            ],
            "image/png": "[encoded data removed]"
          },
          "metadata": {
            "needs_background": "light"
          }
        }
      ],
      "source": [
        "# creating heatmap of comfussion matrix\n",
        "plt.figure(figsize=[14,7])\n",
        "sns.heatmap(cm,annot=True)\n",
        "plt.show()"
      ]
    },
    {
      "cell_type": "markdown",
      "metadata": {
        "id": "vG6hRsw2wqiT"
      },
      "source": [
        "# 2.Sigmoid"
      ]
    },
    {
      "cell_type": "code",
      "execution_count": 40,
      "metadata": {
        "id": "d7ji0T3UwqiT"
      },
      "outputs": [],
      "source": [
        "from tensorflow.keras.layers import BatchNormalization\n",
        "#CREATING THE ANN AS SEQUENCE OF LAYERS\n",
        "ann =Sequential()\n",
        "\n",
        "#ADDING FIRST HIDDEN LAYER WITH 30 NEURONS, THE INPUT LAYER WILL BE ADDED AUTOMATICALLY,\n",
        "ann.add(Dense(units = 30,activation = 'sigmoid'))\n",
        "ann.add(BatchNormalization())\n",
        "ann.add(Dropout(0.5))\n",
        "\n",
        "\n",
        "\n",
        "#ADDING OUTPUT LAYER WITH 1 NEURON , AS THIS IS A BINARY CLASSIFICATION\n",
        "ann.add(Dense(units = 1,activation = 'sigmoid'))"
      ]
    },
    {
      "cell_type": "code",
      "execution_count": 41,
      "metadata": {
        "colab": {
          "base_uri": "https://localhost:8080/"
        },
        "id": "5FYAV5aAwqiT",
        "outputId": "a20df440-0b1c-4bdf-cc22-9181557c5dfd"
      },
      "outputs": [
        {
          "output_type": "stream",
          "name": "stdout",
          "text": [
            "Epoch 1/100\n",
            "15/15 [==============================] - 1s 14ms/step - loss: 0.7957 - accuracy: 0.6615 - val_loss: 0.6327 - val_accuracy: 0.6579\n",
            "Epoch 2/100\n",
            "15/15 [==============================] - 0s 5ms/step - loss: 0.5595 - accuracy: 0.7626 - val_loss: 0.5488 - val_accuracy: 0.7807\n",
            "Epoch 3/100\n",
            "15/15 [==============================] - 0s 5ms/step - loss: 0.4319 - accuracy: 0.8132 - val_loss: 0.4808 - val_accuracy: 0.8684\n",
            "Epoch 4/100\n",
            "15/15 [==============================] - 0s 5ms/step - loss: 0.3514 - accuracy: 0.8484 - val_loss: 0.4244 - val_accuracy: 0.9035\n",
            "Epoch 5/100\n",
            "15/15 [==============================] - 0s 5ms/step - loss: 0.3696 - accuracy: 0.8440 - val_loss: 0.3837 - val_accuracy: 0.9474\n",
            "Epoch 6/100\n",
            "15/15 [==============================] - 0s 5ms/step - loss: 0.3191 - accuracy: 0.8681 - val_loss: 0.3452 - val_accuracy: 0.9474\n",
            "Epoch 7/100\n",
            "15/15 [==============================] - 0s 5ms/step - loss: 0.2446 - accuracy: 0.9011 - val_loss: 0.3140 - val_accuracy: 0.9386\n",
            "Epoch 8/100\n",
            "15/15 [==============================] - 0s 6ms/step - loss: 0.2504 - accuracy: 0.8923 - val_loss: 0.2879 - val_accuracy: 0.9649\n",
            "Epoch 9/100\n",
            "15/15 [==============================] - 0s 5ms/step - loss: 0.1841 - accuracy: 0.9407 - val_loss: 0.2618 - val_accuracy: 0.9649\n",
            "Epoch 10/100\n",
            "15/15 [==============================] - 0s 6ms/step - loss: 0.1993 - accuracy: 0.9143 - val_loss: 0.2367 - val_accuracy: 0.9737\n",
            "Epoch 11/100\n",
            "15/15 [==============================] - 0s 5ms/step - loss: 0.1690 - accuracy: 0.9319 - val_loss: 0.2150 - val_accuracy: 0.9737\n",
            "Epoch 12/100\n",
            "15/15 [==============================] - 0s 5ms/step - loss: 0.1683 - accuracy: 0.9451 - val_loss: 0.1991 - val_accuracy: 0.9737\n",
            "Epoch 13/100\n",
            "15/15 [==============================] - 0s 5ms/step - loss: 0.1650 - accuracy: 0.9473 - val_loss: 0.1845 - val_accuracy: 0.9737\n",
            "Epoch 14/100\n",
            "15/15 [==============================] - 0s 5ms/step - loss: 0.1483 - accuracy: 0.9516 - val_loss: 0.1690 - val_accuracy: 0.9737\n",
            "Epoch 15/100\n",
            "15/15 [==============================] - 0s 5ms/step - loss: 0.1482 - accuracy: 0.9341 - val_loss: 0.1573 - val_accuracy: 0.9737\n",
            "Epoch 16/100\n",
            "15/15 [==============================] - 0s 6ms/step - loss: 0.1398 - accuracy: 0.9495 - val_loss: 0.1475 - val_accuracy: 0.9737\n",
            "Epoch 17/100\n",
            "15/15 [==============================] - 0s 5ms/step - loss: 0.1438 - accuracy: 0.9473 - val_loss: 0.1410 - val_accuracy: 0.9737\n",
            "Epoch 18/100\n",
            "15/15 [==============================] - 0s 6ms/step - loss: 0.1441 - accuracy: 0.9495 - val_loss: 0.1323 - val_accuracy: 0.9737\n",
            "Epoch 19/100\n",
            "15/15 [==============================] - 0s 5ms/step - loss: 0.1323 - accuracy: 0.9473 - val_loss: 0.1262 - val_accuracy: 0.9737\n",
            "Epoch 20/100\n",
            "15/15 [==============================] - 0s 6ms/step - loss: 0.1297 - accuracy: 0.9604 - val_loss: 0.1206 - val_accuracy: 0.9737\n",
            "Epoch 21/100\n",
            "15/15 [==============================] - 0s 6ms/step - loss: 0.1314 - accuracy: 0.9495 - val_loss: 0.1143 - val_accuracy: 0.9737\n",
            "Epoch 22/100\n",
            "15/15 [==============================] - 0s 6ms/step - loss: 0.1240 - accuracy: 0.9604 - val_loss: 0.1099 - val_accuracy: 0.9737\n",
            "Epoch 23/100\n",
            "15/15 [==============================] - 0s 5ms/step - loss: 0.1245 - accuracy: 0.9451 - val_loss: 0.1070 - val_accuracy: 0.9737\n",
            "Epoch 24/100\n",
            "15/15 [==============================] - 0s 5ms/step - loss: 0.1226 - accuracy: 0.9516 - val_loss: 0.1032 - val_accuracy: 0.9737\n",
            "Epoch 25/100\n",
            "15/15 [==============================] - 0s 5ms/step - loss: 0.1267 - accuracy: 0.9429 - val_loss: 0.1012 - val_accuracy: 0.9737\n",
            "Epoch 26/100\n",
            "15/15 [==============================] - 0s 6ms/step - loss: 0.1103 - accuracy: 0.9560 - val_loss: 0.1001 - val_accuracy: 0.9737\n",
            "Epoch 27/100\n",
            "15/15 [==============================] - 0s 5ms/step - loss: 0.1172 - accuracy: 0.9648 - val_loss: 0.0987 - val_accuracy: 0.9737\n",
            "Epoch 28/100\n",
            "15/15 [==============================] - 0s 5ms/step - loss: 0.1326 - accuracy: 0.9538 - val_loss: 0.0968 - val_accuracy: 0.9737\n",
            "Epoch 29/100\n",
            "15/15 [==============================] - 0s 5ms/step - loss: 0.1176 - accuracy: 0.9495 - val_loss: 0.0981 - val_accuracy: 0.9737\n",
            "Epoch 30/100\n",
            "15/15 [==============================] - 0s 6ms/step - loss: 0.1077 - accuracy: 0.9538 - val_loss: 0.0988 - val_accuracy: 0.9737\n",
            "Epoch 31/100\n",
            "15/15 [==============================] - 0s 6ms/step - loss: 0.0965 - accuracy: 0.9758 - val_loss: 0.0976 - val_accuracy: 0.9737\n",
            "Epoch 32/100\n",
            "15/15 [==============================] - 0s 6ms/step - loss: 0.1218 - accuracy: 0.9604 - val_loss: 0.0975 - val_accuracy: 0.9737\n",
            "Epoch 33/100\n",
            "15/15 [==============================] - 0s 6ms/step - loss: 0.0914 - accuracy: 0.9714 - val_loss: 0.0988 - val_accuracy: 0.9737\n",
            "Epoch 34/100\n",
            "15/15 [==============================] - 0s 5ms/step - loss: 0.1379 - accuracy: 0.9385 - val_loss: 0.1003 - val_accuracy: 0.9737\n",
            "Epoch 35/100\n",
            "15/15 [==============================] - 0s 5ms/step - loss: 0.1053 - accuracy: 0.9582 - val_loss: 0.0993 - val_accuracy: 0.9737\n",
            "Epoch 36/100\n",
            "15/15 [==============================] - 0s 5ms/step - loss: 0.1074 - accuracy: 0.9648 - val_loss: 0.0995 - val_accuracy: 0.9737\n",
            "Epoch 37/100\n",
            "15/15 [==============================] - 0s 5ms/step - loss: 0.1566 - accuracy: 0.9407 - val_loss: 0.0997 - val_accuracy: 0.9737\n",
            "Epoch 38/100\n",
            "15/15 [==============================] - 0s 5ms/step - loss: 0.1007 - accuracy: 0.9626 - val_loss: 0.0990 - val_accuracy: 0.9737\n",
            "Epoch 39/100\n",
            "15/15 [==============================] - 0s 6ms/step - loss: 0.0833 - accuracy: 0.9758 - val_loss: 0.0995 - val_accuracy: 0.9737\n",
            "Epoch 40/100\n",
            "15/15 [==============================] - 0s 6ms/step - loss: 0.1025 - accuracy: 0.9670 - val_loss: 0.0986 - val_accuracy: 0.9737\n",
            "Epoch 41/100\n",
            "15/15 [==============================] - 0s 5ms/step - loss: 0.1038 - accuracy: 0.9670 - val_loss: 0.0990 - val_accuracy: 0.9737\n",
            "Epoch 42/100\n",
            "15/15 [==============================] - 0s 5ms/step - loss: 0.1061 - accuracy: 0.9648 - val_loss: 0.0980 - val_accuracy: 0.9737\n",
            "Epoch 43/100\n",
            "15/15 [==============================] - 0s 5ms/step - loss: 0.0946 - accuracy: 0.9670 - val_loss: 0.0967 - val_accuracy: 0.9737\n",
            "Epoch 44/100\n",
            "15/15 [==============================] - 0s 5ms/step - loss: 0.0975 - accuracy: 0.9626 - val_loss: 0.0969 - val_accuracy: 0.9737\n",
            "Epoch 45/100\n",
            "15/15 [==============================] - 0s 6ms/step - loss: 0.0894 - accuracy: 0.9692 - val_loss: 0.0998 - val_accuracy: 0.9737\n",
            "Epoch 46/100\n",
            "15/15 [==============================] - 0s 6ms/step - loss: 0.0966 - accuracy: 0.9648 - val_loss: 0.0980 - val_accuracy: 0.9737\n",
            "Epoch 47/100\n",
            "15/15 [==============================] - 0s 5ms/step - loss: 0.0948 - accuracy: 0.9626 - val_loss: 0.0952 - val_accuracy: 0.9737\n",
            "Epoch 48/100\n",
            "15/15 [==============================] - 0s 5ms/step - loss: 0.1272 - accuracy: 0.9473 - val_loss: 0.0960 - val_accuracy: 0.9737\n",
            "Epoch 49/100\n",
            "15/15 [==============================] - 0s 5ms/step - loss: 0.0747 - accuracy: 0.9736 - val_loss: 0.1006 - val_accuracy: 0.9737\n",
            "Epoch 50/100\n",
            "15/15 [==============================] - 0s 5ms/step - loss: 0.1429 - accuracy: 0.9495 - val_loss: 0.1010 - val_accuracy: 0.9737\n",
            "Epoch 51/100\n",
            "15/15 [==============================] - 0s 5ms/step - loss: 0.1117 - accuracy: 0.9582 - val_loss: 0.1038 - val_accuracy: 0.9737\n",
            "Epoch 52/100\n",
            "15/15 [==============================] - 0s 6ms/step - loss: 0.0990 - accuracy: 0.9495 - val_loss: 0.1047 - val_accuracy: 0.9737\n",
            "Epoch 53/100\n",
            "15/15 [==============================] - 0s 6ms/step - loss: 0.1190 - accuracy: 0.9560 - val_loss: 0.0997 - val_accuracy: 0.9737\n",
            "Epoch 54/100\n",
            "15/15 [==============================] - 0s 6ms/step - loss: 0.1281 - accuracy: 0.9516 - val_loss: 0.0986 - val_accuracy: 0.9737\n",
            "Epoch 55/100\n",
            "15/15 [==============================] - 0s 5ms/step - loss: 0.0868 - accuracy: 0.9626 - val_loss: 0.1014 - val_accuracy: 0.9737\n",
            "Epoch 56/100\n",
            "15/15 [==============================] - 0s 6ms/step - loss: 0.1010 - accuracy: 0.9604 - val_loss: 0.1030 - val_accuracy: 0.9737\n",
            "Epoch 57/100\n",
            "15/15 [==============================] - 0s 5ms/step - loss: 0.0868 - accuracy: 0.9714 - val_loss: 0.1029 - val_accuracy: 0.9737\n",
            "Epoch 58/100\n",
            "15/15 [==============================] - 0s 5ms/step - loss: 0.0950 - accuracy: 0.9714 - val_loss: 0.1036 - val_accuracy: 0.9737\n",
            "Epoch 59/100\n",
            "15/15 [==============================] - 0s 6ms/step - loss: 0.0911 - accuracy: 0.9670 - val_loss: 0.1014 - val_accuracy: 0.9737\n",
            "Epoch 60/100\n",
            "15/15 [==============================] - 0s 6ms/step - loss: 0.0748 - accuracy: 0.9758 - val_loss: 0.1017 - val_accuracy: 0.9737\n",
            "Epoch 61/100\n",
            "15/15 [==============================] - 0s 5ms/step - loss: 0.1074 - accuracy: 0.9582 - val_loss: 0.1016 - val_accuracy: 0.9737\n",
            "Epoch 62/100\n",
            "15/15 [==============================] - 0s 5ms/step - loss: 0.1009 - accuracy: 0.9626 - val_loss: 0.1031 - val_accuracy: 0.9737\n",
            "Epoch 63/100\n",
            "15/15 [==============================] - 0s 6ms/step - loss: 0.0897 - accuracy: 0.9714 - val_loss: 0.1028 - val_accuracy: 0.9737\n",
            "Epoch 64/100\n",
            "15/15 [==============================] - 0s 5ms/step - loss: 0.0678 - accuracy: 0.9758 - val_loss: 0.1039 - val_accuracy: 0.9737\n",
            "Epoch 65/100\n",
            "15/15 [==============================] - 0s 5ms/step - loss: 0.0807 - accuracy: 0.9714 - val_loss: 0.1051 - val_accuracy: 0.9737\n",
            "Epoch 66/100\n",
            "15/15 [==============================] - 0s 5ms/step - loss: 0.0728 - accuracy: 0.9670 - val_loss: 0.1061 - val_accuracy: 0.9737\n",
            "Epoch 67/100\n",
            "15/15 [==============================] - 0s 5ms/step - loss: 0.0757 - accuracy: 0.9736 - val_loss: 0.1084 - val_accuracy: 0.9737\n",
            "Epoch 68/100\n",
            "15/15 [==============================] - 0s 6ms/step - loss: 0.0819 - accuracy: 0.9714 - val_loss: 0.1105 - val_accuracy: 0.9649\n",
            "Epoch 69/100\n",
            "15/15 [==============================] - 0s 5ms/step - loss: 0.1260 - accuracy: 0.9516 - val_loss: 0.1053 - val_accuracy: 0.9737\n",
            "Epoch 70/100\n",
            "15/15 [==============================] - 0s 5ms/step - loss: 0.0802 - accuracy: 0.9692 - val_loss: 0.1031 - val_accuracy: 0.9737\n",
            "Epoch 71/100\n",
            "15/15 [==============================] - 0s 6ms/step - loss: 0.0868 - accuracy: 0.9714 - val_loss: 0.1039 - val_accuracy: 0.9737\n",
            "Epoch 72/100\n",
            "15/15 [==============================] - 0s 6ms/step - loss: 0.1095 - accuracy: 0.9582 - val_loss: 0.1027 - val_accuracy: 0.9737\n",
            "Epoch 72: early stopping\n"
          ]
        }
      ],
      "source": [
        "#COMPILING THE ANN USING STOCHASTIC GRADIENT DESCENT (optimizer = 'adam')\n",
        "ann.compile(optimizer = 'adam', loss = 'binary_crossentropy', metrics = ['accuracy'])\n",
        "\n",
        "#setting callbacks for monitoring maximum accuracy\n",
        "from tensorflow.keras.callbacks import EarlyStopping\n",
        "early_stop = EarlyStopping(monitor='val_loss', mode='min', verbose=1, patience=25)\n",
        "\n",
        "#TRAINING THE ANN WITH BATCH SIZE OF 32 (THIS IS A BATCH LEARNING)\n",
        "model=ann.fit(xtrain, ytrain,batch_size = 32, validation_data=(xtest, ytest),epochs =100,callbacks = [early_stop])"
      ]
    },
    {
      "cell_type": "code",
      "execution_count": 42,
      "metadata": {
        "colab": {
          "base_uri": "https://localhost:8080/"
        },
        "id": "2IhTWqtCwqiU",
        "outputId": "9b2e4eb8-b49d-42c5-aa8e-f27ed490d855"
      },
      "outputs": [
        {
          "output_type": "stream",
          "name": "stdout",
          "text": [
            "Model: \"sequential_1\"\n",
            "_________________________________________________________________\n",
            " Layer (type)                Output Shape              Param #   \n",
            "=================================================================\n",
            " dense_2 (Dense)             (None, 30)                720       \n",
            "                                                                 \n",
            " batch_normalization_1 (Batc  (None, 30)               120       \n",
            " hNormalization)                                                 \n",
            "                                                                 \n",
            " dropout_1 (Dropout)         (None, 30)                0         \n",
            "                                                                 \n",
            " dense_3 (Dense)             (None, 1)                 31        \n",
            "                                                                 \n",
            "=================================================================\n",
            "Total params: 871\n",
            "Trainable params: 811\n",
            "Non-trainable params: 60\n",
            "_________________________________________________________________\n"
          ]
        }
      ],
      "source": [
        "#taking summary of layers\n",
        "ann.summary()"
      ]
    },
    {
      "cell_type": "code",
      "execution_count": 43,
      "metadata": {
        "colab": {
          "base_uri": "https://localhost:8080/",
          "height": 282
        },
        "id": "ERp6EgCiwqiU",
        "outputId": "e8b46aeb-b3e0-437f-8977-c2b5d153e7b3"
      },
      "outputs": [
        {
          "output_type": "execute_result",
          "data": {
            "text/plain": [
              "<matplotlib.axes._subplots.AxesSubplot at 0x7f08403a2190>"
            ]
          },
          "metadata": {},
          "execution_count": 43
        },
        {
          "output_type": "display_data",
          "data": {
            "text/plain": [
              "<Figure size 432x288 with 1 Axes>"
            ],
            "image/png": "[encoded data removed]"
          },
          "metadata": {
            "needs_background": "light"
          }
        }
      ],
      "source": [
        "losses = pd.DataFrame(ann.history.history)\n",
        "losses.plot()"
      ]
    },
    {
      "cell_type": "code",
      "execution_count": 44,
      "metadata": {
        "colab": {
          "base_uri": "https://localhost:8080/"
        },
        "id": "D3EauEWXwqiU",
        "outputId": "1e0c6359-d921-4d85-ce85-1d0afb04c533"
      },
      "outputs": [
        {
          "output_type": "stream",
          "name": "stdout",
          "text": [
            "4/4 [==============================] - 0s 3ms/step\n"
          ]
        }
      ],
      "source": [
        "#now testing for Test data\n",
        "y_pred = ann.predict(xtest)\n",
        "#converting values\n",
        "y_pred = (y_pred>0.5)"
      ]
    },
    {
      "cell_type": "code",
      "execution_count": 45,
      "metadata": {
        "colab": {
          "base_uri": "https://localhost:8080/"
        },
        "id": "lgUFtBRxwqiU",
        "outputId": "eb9baf98-5b5e-4e64-961c-d799804a1b59"
      },
      "outputs": [
        {
          "output_type": "stream",
          "name": "stdout",
          "text": [
            "[[75  0]\n",
            " [ 3 36]]\n",
            "score is: 0.9736842105263158\n"
          ]
        }
      ],
      "source": [
        "from sklearn.metrics import confusion_matrix\n",
        "from sklearn.metrics import accuracy_score\n",
        "cm = confusion_matrix(ytest,y_pred)\n",
        "score2 = accuracy_score(ytest,y_pred)\n",
        "print(cm)\n",
        "print('score is:',score2)"
      ]
    },
    {
      "cell_type": "code",
      "execution_count": 46,
      "metadata": {
        "colab": {
          "base_uri": "https://localhost:8080/"
        },
        "id": "tJkvdEB_wqiU",
        "outputId": "6585971d-ef32-4690-c4c6-425bb9996814"
      },
      "outputs": [
        {
          "output_type": "stream",
          "name": "stdout",
          "text": [
            "              precision    recall  f1-score   support\n",
            "\n",
            "           0       0.96      1.00      0.98        75\n",
            "           1       1.00      0.92      0.96        39\n",
            "\n",
            "    accuracy                           0.97       114\n",
            "   macro avg       0.98      0.96      0.97       114\n",
            "weighted avg       0.97      0.97      0.97       114\n",
            "\n"
          ]
        }
      ],
      "source": [
        "from sklearn.metrics import classification_report,confusion_matrix\n",
        "print(classification_report(ytest,y_pred))"
      ]
    },
    {
      "cell_type": "code",
      "execution_count": 47,
      "metadata": {
        "colab": {
          "base_uri": "https://localhost:8080/",
          "height": 428
        },
        "id": "iz_ZvPLiwqiV",
        "outputId": "d38afb57-cc9b-446a-fe5f-2c6813fb1899"
      },
      "outputs": [
        {
          "output_type": "display_data",
          "data": {
            "text/plain": [
              "<Figure size 1008x504 with 2 Axes>"
            ],
            "image/png": "[encoded data removed]"
          },
          "metadata": {
            "needs_background": "light"
          }
        }
      ],
      "source": [
        "# creating heatmap of comfussion matrix\n",
        "plt.figure(figsize=[14,7])\n",
        "sns.heatmap(cm,annot=True)\n",
        "plt.show()"
      ]
    },
    {
      "cell_type": "code",
      "execution_count": 47,
      "metadata": {
        "id": "P8EEeNkuwqiV"
      },
      "outputs": [],
      "source": []
    },
    {
      "cell_type": "markdown",
      "metadata": {
        "id": "rTww06JuwqiV"
      },
      "source": [
        "# 3.Tanh"
      ]
    },
    {
      "cell_type": "code",
      "execution_count": 48,
      "metadata": {
        "id": "icSdUow2wqiW"
      },
      "outputs": [],
      "source": [
        "from tensorflow.keras.layers import BatchNormalization\n",
        "#CREATING THE ANN AS SEQUENCE OF LAYERS\n",
        "ann =Sequential()\n",
        "\n",
        "#ADDING FIRST HIDDEN LAYER WITH 30 NEURONS, THE INPUT LAYER WILL BE ADDED AUTOMATICALLY,\n",
        "ann.add(Dense(units = 30,activation = 'tanh'))\n",
        "ann.add(BatchNormalization())\n",
        "ann.add(Dropout(0.5))\n",
        "\n",
        "\n",
        "\n",
        "#ADDING OUTPUT LAYER WITH 1 NEURON , AS THIS IS A BINARY CLASSIFICATION\n",
        "ann.add(Dense(units = 1,activation = 'sigmoid'))"
      ]
    },
    {
      "cell_type": "code",
      "execution_count": 49,
      "metadata": {
        "colab": {
          "base_uri": "https://localhost:8080/"
        },
        "id": "Gp--cvKTwqiW",
        "outputId": "65fd819c-eff6-4a12-bf02-e07c50229327"
      },
      "outputs": [
        {
          "output_type": "stream",
          "name": "stdout",
          "text": [
            "Epoch 1/100\n",
            "15/15 [==============================] - 1s 17ms/step - loss: 0.9243 - accuracy: 0.4681 - val_loss: 0.6000 - val_accuracy: 0.7105\n",
            "Epoch 2/100\n",
            "15/15 [==============================] - 0s 5ms/step - loss: 0.5991 - accuracy: 0.7165 - val_loss: 0.3941 - val_accuracy: 0.9474\n",
            "Epoch 3/100\n",
            "15/15 [==============================] - 0s 6ms/step - loss: 0.4845 - accuracy: 0.7495 - val_loss: 0.2862 - val_accuracy: 0.9825\n",
            "Epoch 4/100\n",
            "15/15 [==============================] - 0s 6ms/step - loss: 0.3409 - accuracy: 0.8681 - val_loss: 0.2240 - val_accuracy: 0.9737\n",
            "Epoch 5/100\n",
            "15/15 [==============================] - 0s 6ms/step - loss: 0.2793 - accuracy: 0.8923 - val_loss: 0.1872 - val_accuracy: 0.9825\n",
            "Epoch 6/100\n",
            "15/15 [==============================] - 0s 5ms/step - loss: 0.2388 - accuracy: 0.9121 - val_loss: 0.1617 - val_accuracy: 0.9912\n",
            "Epoch 7/100\n",
            "15/15 [==============================] - 0s 5ms/step - loss: 0.2242 - accuracy: 0.9187 - val_loss: 0.1430 - val_accuracy: 0.9912\n",
            "Epoch 8/100\n",
            "15/15 [==============================] - 0s 5ms/step - loss: 0.2350 - accuracy: 0.9011 - val_loss: 0.1310 - val_accuracy: 0.9912\n",
            "Epoch 9/100\n",
            "15/15 [==============================] - 0s 6ms/step - loss: 0.1904 - accuracy: 0.9187 - val_loss: 0.1199 - val_accuracy: 0.9912\n",
            "Epoch 10/100\n",
            "15/15 [==============================] - 0s 6ms/step - loss: 0.1737 - accuracy: 0.9341 - val_loss: 0.1112 - val_accuracy: 0.9825\n",
            "Epoch 11/100\n",
            "15/15 [==============================] - 0s 5ms/step - loss: 0.1590 - accuracy: 0.9385 - val_loss: 0.1032 - val_accuracy: 0.9825\n",
            "Epoch 12/100\n",
            "15/15 [==============================] - 0s 5ms/step - loss: 0.1835 - accuracy: 0.9253 - val_loss: 0.0956 - val_accuracy: 0.9825\n",
            "Epoch 13/100\n",
            "15/15 [==============================] - 0s 6ms/step - loss: 0.1555 - accuracy: 0.9495 - val_loss: 0.0905 - val_accuracy: 0.9825\n",
            "Epoch 14/100\n",
            "15/15 [==============================] - 0s 5ms/step - loss: 0.1392 - accuracy: 0.9451 - val_loss: 0.0876 - val_accuracy: 0.9825\n",
            "Epoch 15/100\n",
            "15/15 [==============================] - 0s 4ms/step - loss: 0.1537 - accuracy: 0.9429 - val_loss: 0.0854 - val_accuracy: 0.9825\n",
            "Epoch 16/100\n",
            "15/15 [==============================] - 0s 5ms/step - loss: 0.1474 - accuracy: 0.9473 - val_loss: 0.0831 - val_accuracy: 0.9825\n",
            "Epoch 17/100\n",
            "15/15 [==============================] - 0s 5ms/step - loss: 0.1385 - accuracy: 0.9516 - val_loss: 0.0807 - val_accuracy: 0.9825\n",
            "Epoch 18/100\n",
            "15/15 [==============================] - 0s 6ms/step - loss: 0.1395 - accuracy: 0.9560 - val_loss: 0.0798 - val_accuracy: 0.9825\n",
            "Epoch 19/100\n",
            "15/15 [==============================] - 0s 5ms/step - loss: 0.1449 - accuracy: 0.9495 - val_loss: 0.0782 - val_accuracy: 0.9737\n",
            "Epoch 20/100\n",
            "15/15 [==============================] - 0s 6ms/step - loss: 0.1240 - accuracy: 0.9582 - val_loss: 0.0763 - val_accuracy: 0.9737\n",
            "Epoch 21/100\n",
            "15/15 [==============================] - 0s 5ms/step - loss: 0.1081 - accuracy: 0.9670 - val_loss: 0.0742 - val_accuracy: 0.9737\n",
            "Epoch 22/100\n",
            "15/15 [==============================] - 0s 6ms/step - loss: 0.1053 - accuracy: 0.9604 - val_loss: 0.0737 - val_accuracy: 0.9737\n",
            "Epoch 23/100\n",
            "15/15 [==============================] - 0s 5ms/step - loss: 0.1062 - accuracy: 0.9560 - val_loss: 0.0736 - val_accuracy: 0.9649\n",
            "Epoch 24/100\n",
            "15/15 [==============================] - 0s 5ms/step - loss: 0.1168 - accuracy: 0.9582 - val_loss: 0.0735 - val_accuracy: 0.9649\n",
            "Epoch 25/100\n",
            "15/15 [==============================] - 0s 6ms/step - loss: 0.1293 - accuracy: 0.9516 - val_loss: 0.0743 - val_accuracy: 0.9649\n",
            "Epoch 26/100\n",
            "15/15 [==============================] - 0s 6ms/step - loss: 0.1106 - accuracy: 0.9626 - val_loss: 0.0734 - val_accuracy: 0.9649\n",
            "Epoch 27/100\n",
            "15/15 [==============================] - 0s 5ms/step - loss: 0.1286 - accuracy: 0.9385 - val_loss: 0.0731 - val_accuracy: 0.9649\n",
            "Epoch 28/100\n",
            "15/15 [==============================] - 0s 5ms/step - loss: 0.1132 - accuracy: 0.9560 - val_loss: 0.0733 - val_accuracy: 0.9649\n",
            "Epoch 29/100\n",
            "15/15 [==============================] - 0s 5ms/step - loss: 0.0807 - accuracy: 0.9670 - val_loss: 0.0707 - val_accuracy: 0.9649\n",
            "Epoch 30/100\n",
            "15/15 [==============================] - 0s 5ms/step - loss: 0.0936 - accuracy: 0.9692 - val_loss: 0.0721 - val_accuracy: 0.9649\n",
            "Epoch 31/100\n",
            "15/15 [==============================] - 0s 5ms/step - loss: 0.1233 - accuracy: 0.9451 - val_loss: 0.0711 - val_accuracy: 0.9649\n",
            "Epoch 32/100\n",
            "15/15 [==============================] - 0s 5ms/step - loss: 0.1054 - accuracy: 0.9604 - val_loss: 0.0722 - val_accuracy: 0.9737\n",
            "Epoch 33/100\n",
            "15/15 [==============================] - 0s 5ms/step - loss: 0.0878 - accuracy: 0.9692 - val_loss: 0.0729 - val_accuracy: 0.9737\n",
            "Epoch 34/100\n",
            "15/15 [==============================] - 0s 6ms/step - loss: 0.0821 - accuracy: 0.9692 - val_loss: 0.0744 - val_accuracy: 0.9649\n",
            "Epoch 35/100\n",
            "15/15 [==============================] - 0s 6ms/step - loss: 0.0996 - accuracy: 0.9736 - val_loss: 0.0751 - val_accuracy: 0.9649\n",
            "Epoch 36/100\n",
            "15/15 [==============================] - 0s 5ms/step - loss: 0.1056 - accuracy: 0.9626 - val_loss: 0.0774 - val_accuracy: 0.9649\n",
            "Epoch 37/100\n",
            "15/15 [==============================] - 0s 5ms/step - loss: 0.0878 - accuracy: 0.9692 - val_loss: 0.0777 - val_accuracy: 0.9649\n",
            "Epoch 38/100\n",
            "15/15 [==============================] - 0s 6ms/step - loss: 0.0770 - accuracy: 0.9670 - val_loss: 0.0773 - val_accuracy: 0.9649\n",
            "Epoch 39/100\n",
            "15/15 [==============================] - 0s 5ms/step - loss: 0.1078 - accuracy: 0.9604 - val_loss: 0.0782 - val_accuracy: 0.9649\n",
            "Epoch 40/100\n",
            "15/15 [==============================] - 0s 5ms/step - loss: 0.0913 - accuracy: 0.9758 - val_loss: 0.0806 - val_accuracy: 0.9649\n",
            "Epoch 41/100\n",
            "15/15 [==============================] - 0s 5ms/step - loss: 0.0824 - accuracy: 0.9714 - val_loss: 0.0804 - val_accuracy: 0.9649\n",
            "Epoch 42/100\n",
            "15/15 [==============================] - 0s 5ms/step - loss: 0.0834 - accuracy: 0.9692 - val_loss: 0.0809 - val_accuracy: 0.9649\n",
            "Epoch 43/100\n",
            "15/15 [==============================] - 0s 6ms/step - loss: 0.0954 - accuracy: 0.9604 - val_loss: 0.0785 - val_accuracy: 0.9649\n",
            "Epoch 44/100\n",
            "15/15 [==============================] - 0s 5ms/step - loss: 0.0978 - accuracy: 0.9670 - val_loss: 0.0770 - val_accuracy: 0.9649\n",
            "Epoch 45/100\n",
            "15/15 [==============================] - 0s 5ms/step - loss: 0.0717 - accuracy: 0.9780 - val_loss: 0.0756 - val_accuracy: 0.9737\n",
            "Epoch 46/100\n",
            "15/15 [==============================] - 0s 6ms/step - loss: 0.0811 - accuracy: 0.9714 - val_loss: 0.0763 - val_accuracy: 0.9737\n",
            "Epoch 47/100\n",
            "15/15 [==============================] - 0s 5ms/step - loss: 0.0921 - accuracy: 0.9670 - val_loss: 0.0782 - val_accuracy: 0.9737\n",
            "Epoch 48/100\n",
            "15/15 [==============================] - 0s 5ms/step - loss: 0.0637 - accuracy: 0.9780 - val_loss: 0.0826 - val_accuracy: 0.9737\n",
            "Epoch 49/100\n",
            "15/15 [==============================] - 0s 5ms/step - loss: 0.0709 - accuracy: 0.9758 - val_loss: 0.0846 - val_accuracy: 0.9649\n",
            "Epoch 50/100\n",
            "15/15 [==============================] - 0s 5ms/step - loss: 0.0663 - accuracy: 0.9758 - val_loss: 0.0833 - val_accuracy: 0.9649\n",
            "Epoch 51/100\n",
            "15/15 [==============================] - 0s 6ms/step - loss: 0.0824 - accuracy: 0.9736 - val_loss: 0.0834 - val_accuracy: 0.9737\n",
            "Epoch 52/100\n",
            "15/15 [==============================] - 0s 5ms/step - loss: 0.0973 - accuracy: 0.9692 - val_loss: 0.0831 - val_accuracy: 0.9737\n",
            "Epoch 53/100\n",
            "15/15 [==============================] - 0s 5ms/step - loss: 0.0725 - accuracy: 0.9802 - val_loss: 0.0824 - val_accuracy: 0.9737\n",
            "Epoch 54/100\n",
            "15/15 [==============================] - 0s 5ms/step - loss: 0.0735 - accuracy: 0.9692 - val_loss: 0.0844 - val_accuracy: 0.9737\n",
            "Epoch 54: early stopping\n"
          ]
        }
      ],
      "source": [
        "#COMPILING THE ANN USING STOCHASTIC GRADIENT DESCENT (optimizer = 'adam')\n",
        "ann.compile(optimizer = 'adam', loss = 'binary_crossentropy', metrics = ['accuracy'])\n",
        "\n",
        "#setting callbacks for monitoring maximum accuracy\n",
        "from tensorflow.keras.callbacks import EarlyStopping\n",
        "early_stop = EarlyStopping(monitor='val_loss', mode='min', verbose=1, patience=25)\n",
        "\n",
        "#TRAINING THE ANN WITH BATCH SIZE OF 32 (THIS IS A BATCH LEARNING)\n",
        "model=ann.fit(xtrain, ytrain,batch_size = 32, validation_data=(xtest, ytest),epochs =100,callbacks = [early_stop])"
      ]
    },
    {
      "cell_type": "code",
      "execution_count": 50,
      "metadata": {
        "colab": {
          "base_uri": "https://localhost:8080/"
        },
        "id": "wHsEaAI0wqiW",
        "outputId": "32eecabb-198d-4af8-d999-5699770ff754"
      },
      "outputs": [
        {
          "output_type": "stream",
          "name": "stdout",
          "text": [
            "Model: \"sequential_2\"\n",
            "_________________________________________________________________\n",
            " Layer (type)                Output Shape              Param #   \n",
            "=================================================================\n",
            " dense_4 (Dense)             (None, 30)                720       \n",
            "                                                                 \n",
            " batch_normalization_2 (Batc  (None, 30)               120       \n",
            " hNormalization)                                                 \n",
            "                                                                 \n",
            " dropout_2 (Dropout)         (None, 30)                0         \n",
            "                                                                 \n",
            " dense_5 (Dense)             (None, 1)                 31        \n",
            "                                                                 \n",
            "=================================================================\n",
            "Total params: 871\n",
            "Trainable params: 811\n",
            "Non-trainable params: 60\n",
            "_________________________________________________________________\n"
          ]
        }
      ],
      "source": [
        "#taking summary of layers\n",
        "ann.summary()"
      ]
    },
    {
      "cell_type": "code",
      "execution_count": 51,
      "metadata": {
        "colab": {
          "base_uri": "https://localhost:8080/",
          "height": 282
        },
        "id": "BV8LGPmcwqiX",
        "outputId": "96c4d004-e20e-48a6-b204-9d691d7b2bb0"
      },
      "outputs": [
        {
          "output_type": "execute_result",
          "data": {
            "text/plain": [
              "<matplotlib.axes._subplots.AxesSubplot at 0x7f084005ae50>"
            ]
          },
          "metadata": {},
          "execution_count": 51
        },
        {
          "output_type": "display_data",
          "data": {
            "text/plain": [
              "<Figure size 432x288 with 1 Axes>"
            ],
            "image/png": "[encoded data removed]"
          },
          "metadata": {
            "needs_background": "light"
          }
        }
      ],
      "source": [
        "losses = pd.DataFrame(ann.history.history)\n",
        "losses.plot()"
      ]
    },
    {
      "cell_type": "code",
      "execution_count": 52,
      "metadata": {
        "colab": {
          "base_uri": "https://localhost:8080/"
        },
        "id": "JkJdX7VEwqiX",
        "outputId": "3de18b9b-0b4f-4d00-f846-35b0538cce67"
      },
      "outputs": [
        {
          "output_type": "stream",
          "name": "stdout",
          "text": [
            "4/4 [==============================] - 0s 3ms/step\n"
          ]
        }
      ],
      "source": [
        "#now testing for Test data\n",
        "y_pred = ann.predict(xtest)\n",
        "#converting values\n",
        "y_pred = (y_pred>0.5)"
      ]
    },
    {
      "cell_type": "code",
      "execution_count": 53,
      "metadata": {
        "colab": {
          "base_uri": "https://localhost:8080/"
        },
        "id": "owxRVi8HwqiX",
        "outputId": "1082dd2a-b2a1-4e7c-e32d-9245613ee589"
      },
      "outputs": [
        {
          "output_type": "stream",
          "name": "stdout",
          "text": [
            "[[74  1]\n",
            " [ 2 37]]\n",
            "score is: 0.9736842105263158\n"
          ]
        }
      ],
      "source": [
        "from sklearn.metrics import confusion_matrix\n",
        "from sklearn.metrics import accuracy_score\n",
        "cm = confusion_matrix(ytest,y_pred)\n",
        "score3 = accuracy_score(ytest,y_pred)\n",
        "print(cm)\n",
        "print('score is:',score3)"
      ]
    },
    {
      "cell_type": "code",
      "execution_count": 54,
      "metadata": {
        "colab": {
          "base_uri": "https://localhost:8080/"
        },
        "id": "rBtmpX71wqiY",
        "outputId": "53470cc0-3c9c-4cb8-a7a1-05166e6bd4fc"
      },
      "outputs": [
        {
          "output_type": "stream",
          "name": "stdout",
          "text": [
            "              precision    recall  f1-score   support\n",
            "\n",
            "           0       0.97      0.99      0.98        75\n",
            "           1       0.97      0.95      0.96        39\n",
            "\n",
            "    accuracy                           0.97       114\n",
            "   macro avg       0.97      0.97      0.97       114\n",
            "weighted avg       0.97      0.97      0.97       114\n",
            "\n"
          ]
        }
      ],
      "source": [
        "from sklearn.metrics import classification_report,confusion_matrix\n",
        "print(classification_report(ytest,y_pred))"
      ]
    },
    {
      "cell_type": "code",
      "execution_count": 55,
      "metadata": {
        "colab": {
          "base_uri": "https://localhost:8080/",
          "height": 428
        },
        "id": "O2qZ93VqwqiY",
        "outputId": "ff0fe246-e5a0-4a11-ba98-d819bc9be1b9"
      },
      "outputs": [
        {
          "output_type": "display_data",
          "data": {
            "text/plain": [
              "<Figure size 1008x504 with 2 Axes>"
            ],
            "image/png": "[encoded data removed]"
          },
          "metadata": {
            "needs_background": "light"
          }
        }
      ],
      "source": [
        "# creating heatmap of comfussion matrix\n",
        "plt.figure(figsize=[14,7])\n",
        "sns.heatmap(cm,annot=True)\n",
        "plt.show()"
      ]
    },
    {
      "cell_type": "code",
      "execution_count": 55,
      "metadata": {
        "id": "JHNRRni_wqiY"
      },
      "outputs": [],
      "source": []
    },
    {
      "cell_type": "code",
      "execution_count": 55,
      "metadata": {
        "id": "3yudV9p3wqiY"
      },
      "outputs": [],
      "source": []
    },
    {
      "cell_type": "markdown",
      "metadata": {
        "id": "mD44onN9wqiY"
      },
      "source": [
        "# 4.SOFTMAX"
      ]
    },
    {
      "cell_type": "code",
      "execution_count": 56,
      "metadata": {
        "id": "pKviB2A-wqiY"
      },
      "outputs": [],
      "source": [
        "from tensorflow.keras.layers import BatchNormalization\n",
        "#CREATING THE ANN AS SEQUENCE OF LAYERS\n",
        "ann =Sequential()\n",
        "\n",
        "#ADDING FIRST HIDDEN LAYER WITH 30 NEURONS, THE INPUT LAYER WILL BE ADDED AUTOMATICALLY,\n",
        "ann.add(Dense(units = 30,activation = 'softmax'))\n",
        "ann.add(BatchNormalization())\n",
        "ann.add(Dropout(0.5))\n",
        "\n",
        "\n",
        "\n",
        "#ADDING OUTPUT LAYER WITH 1 NEURON , AS THIS IS A BINARY CLASSIFICATION\n",
        "ann.add(Dense(units = 1,activation = 'sigmoid'))"
      ]
    },
    {
      "cell_type": "code",
      "execution_count": 57,
      "metadata": {
        "colab": {
          "base_uri": "https://localhost:8080/"
        },
        "id": "nkgoAmnXwqiY",
        "outputId": "85c858a6-9dba-459d-e90a-66ed55097849"
      },
      "outputs": [
        {
          "output_type": "stream",
          "name": "stdout",
          "text": [
            "Epoch 1/100\n",
            "15/15 [==============================] - 1s 17ms/step - loss: 0.6095 - accuracy: 0.6791 - val_loss: 0.6645 - val_accuracy: 0.8333\n",
            "Epoch 2/100\n",
            "15/15 [==============================] - 0s 5ms/step - loss: 0.4583 - accuracy: 0.7846 - val_loss: 0.6416 - val_accuracy: 0.8333\n",
            "Epoch 3/100\n",
            "15/15 [==============================] - 0s 5ms/step - loss: 0.3611 - accuracy: 0.8440 - val_loss: 0.6225 - val_accuracy: 0.7719\n",
            "Epoch 4/100\n",
            "15/15 [==============================] - 0s 6ms/step - loss: 0.3357 - accuracy: 0.8681 - val_loss: 0.6051 - val_accuracy: 0.7368\n",
            "Epoch 5/100\n",
            "15/15 [==============================] - 0s 5ms/step - loss: 0.2677 - accuracy: 0.9099 - val_loss: 0.5896 - val_accuracy: 0.7281\n",
            "Epoch 6/100\n",
            "15/15 [==============================] - 0s 5ms/step - loss: 0.2670 - accuracy: 0.9143 - val_loss: 0.5755 - val_accuracy: 0.7105\n",
            "Epoch 7/100\n",
            "15/15 [==============================] - 0s 6ms/step - loss: 0.2451 - accuracy: 0.9209 - val_loss: 0.5623 - val_accuracy: 0.7105\n",
            "Epoch 8/100\n",
            "15/15 [==============================] - 0s 5ms/step - loss: 0.2446 - accuracy: 0.9077 - val_loss: 0.5490 - val_accuracy: 0.7018\n",
            "Epoch 9/100\n",
            "15/15 [==============================] - 0s 6ms/step - loss: 0.2024 - accuracy: 0.9385 - val_loss: 0.5356 - val_accuracy: 0.6930\n",
            "Epoch 10/100\n",
            "15/15 [==============================] - 0s 5ms/step - loss: 0.2025 - accuracy: 0.9385 - val_loss: 0.5225 - val_accuracy: 0.7018\n",
            "Epoch 11/100\n",
            "15/15 [==============================] - 0s 5ms/step - loss: 0.1835 - accuracy: 0.9363 - val_loss: 0.5086 - val_accuracy: 0.7193\n",
            "Epoch 12/100\n",
            "15/15 [==============================] - 0s 6ms/step - loss: 0.1865 - accuracy: 0.9407 - val_loss: 0.4939 - val_accuracy: 0.7368\n",
            "Epoch 13/100\n",
            "15/15 [==============================] - 0s 5ms/step - loss: 0.1635 - accuracy: 0.9495 - val_loss: 0.4779 - val_accuracy: 0.7368\n",
            "Epoch 14/100\n",
            "15/15 [==============================] - 0s 6ms/step - loss: 0.1764 - accuracy: 0.9385 - val_loss: 0.4646 - val_accuracy: 0.7632\n",
            "Epoch 15/100\n",
            "15/15 [==============================] - 0s 6ms/step - loss: 0.1636 - accuracy: 0.9341 - val_loss: 0.4501 - val_accuracy: 0.7807\n",
            "Epoch 16/100\n",
            "15/15 [==============================] - 0s 5ms/step - loss: 0.1749 - accuracy: 0.9385 - val_loss: 0.4348 - val_accuracy: 0.8158\n",
            "Epoch 17/100\n",
            "15/15 [==============================] - 0s 5ms/step - loss: 0.1229 - accuracy: 0.9582 - val_loss: 0.4179 - val_accuracy: 0.8509\n",
            "Epoch 18/100\n",
            "15/15 [==============================] - 0s 6ms/step - loss: 0.1550 - accuracy: 0.9473 - val_loss: 0.4019 - val_accuracy: 0.8509\n",
            "Epoch 19/100\n",
            "15/15 [==============================] - 0s 6ms/step - loss: 0.1584 - accuracy: 0.9407 - val_loss: 0.3851 - val_accuracy: 0.8684\n",
            "Epoch 20/100\n",
            "15/15 [==============================] - 0s 5ms/step - loss: 0.1179 - accuracy: 0.9626 - val_loss: 0.3659 - val_accuracy: 0.8772\n",
            "Epoch 21/100\n",
            "15/15 [==============================] - 0s 5ms/step - loss: 0.1425 - accuracy: 0.9560 - val_loss: 0.3469 - val_accuracy: 0.8947\n",
            "Epoch 22/100\n",
            "15/15 [==============================] - 0s 5ms/step - loss: 0.1268 - accuracy: 0.9407 - val_loss: 0.3292 - val_accuracy: 0.9035\n",
            "Epoch 23/100\n",
            "15/15 [==============================] - 0s 5ms/step - loss: 0.0947 - accuracy: 0.9780 - val_loss: 0.3095 - val_accuracy: 0.9211\n",
            "Epoch 24/100\n",
            "15/15 [==============================] - 0s 5ms/step - loss: 0.1296 - accuracy: 0.9495 - val_loss: 0.2891 - val_accuracy: 0.9211\n",
            "Epoch 25/100\n",
            "15/15 [==============================] - 0s 5ms/step - loss: 0.1262 - accuracy: 0.9582 - val_loss: 0.2698 - val_accuracy: 0.9386\n",
            "Epoch 26/100\n",
            "15/15 [==============================] - 0s 5ms/step - loss: 0.1198 - accuracy: 0.9648 - val_loss: 0.2515 - val_accuracy: 0.9561\n",
            "Epoch 27/100\n",
            "15/15 [==============================] - 0s 5ms/step - loss: 0.1234 - accuracy: 0.9648 - val_loss: 0.2353 - val_accuracy: 0.9561\n",
            "Epoch 28/100\n",
            "15/15 [==============================] - 0s 5ms/step - loss: 0.1027 - accuracy: 0.9714 - val_loss: 0.2207 - val_accuracy: 0.9561\n",
            "Epoch 29/100\n",
            "15/15 [==============================] - 0s 6ms/step - loss: 0.1153 - accuracy: 0.9604 - val_loss: 0.2082 - val_accuracy: 0.9649\n",
            "Epoch 30/100\n",
            "15/15 [==============================] - 0s 5ms/step - loss: 0.1167 - accuracy: 0.9560 - val_loss: 0.1987 - val_accuracy: 0.9737\n",
            "Epoch 31/100\n",
            "15/15 [==============================] - 0s 6ms/step - loss: 0.0999 - accuracy: 0.9736 - val_loss: 0.1868 - val_accuracy: 0.9737\n",
            "Epoch 32/100\n",
            "15/15 [==============================] - 0s 5ms/step - loss: 0.1096 - accuracy: 0.9626 - val_loss: 0.1735 - val_accuracy: 0.9737\n",
            "Epoch 33/100\n",
            "15/15 [==============================] - 0s 5ms/step - loss: 0.1141 - accuracy: 0.9582 - val_loss: 0.1606 - val_accuracy: 0.9737\n",
            "Epoch 34/100\n",
            "15/15 [==============================] - 0s 5ms/step - loss: 0.0993 - accuracy: 0.9692 - val_loss: 0.1491 - val_accuracy: 0.9737\n",
            "Epoch 35/100\n",
            "15/15 [==============================] - 0s 5ms/step - loss: 0.0856 - accuracy: 0.9780 - val_loss: 0.1388 - val_accuracy: 0.9737\n",
            "Epoch 36/100\n",
            "15/15 [==============================] - 0s 6ms/step - loss: 0.1151 - accuracy: 0.9604 - val_loss: 0.1307 - val_accuracy: 0.9737\n",
            "Epoch 37/100\n",
            "15/15 [==============================] - 0s 5ms/step - loss: 0.1150 - accuracy: 0.9538 - val_loss: 0.1264 - val_accuracy: 0.9737\n",
            "Epoch 38/100\n",
            "15/15 [==============================] - 0s 5ms/step - loss: 0.0935 - accuracy: 0.9582 - val_loss: 0.1206 - val_accuracy: 0.9737\n",
            "Epoch 39/100\n",
            "15/15 [==============================] - 0s 5ms/step - loss: 0.0817 - accuracy: 0.9736 - val_loss: 0.1165 - val_accuracy: 0.9737\n",
            "Epoch 40/100\n",
            "15/15 [==============================] - 0s 6ms/step - loss: 0.1113 - accuracy: 0.9626 - val_loss: 0.1101 - val_accuracy: 0.9737\n",
            "Epoch 41/100\n",
            "15/15 [==============================] - 0s 6ms/step - loss: 0.1063 - accuracy: 0.9516 - val_loss: 0.1080 - val_accuracy: 0.9737\n",
            "Epoch 42/100\n",
            "15/15 [==============================] - 0s 6ms/step - loss: 0.1089 - accuracy: 0.9736 - val_loss: 0.1036 - val_accuracy: 0.9737\n",
            "Epoch 43/100\n",
            "15/15 [==============================] - 0s 7ms/step - loss: 0.1025 - accuracy: 0.9714 - val_loss: 0.1021 - val_accuracy: 0.9737\n",
            "Epoch 44/100\n",
            "15/15 [==============================] - 0s 6ms/step - loss: 0.0814 - accuracy: 0.9780 - val_loss: 0.0997 - val_accuracy: 0.9737\n",
            "Epoch 45/100\n",
            "15/15 [==============================] - 0s 6ms/step - loss: 0.0914 - accuracy: 0.9758 - val_loss: 0.0988 - val_accuracy: 0.9737\n",
            "Epoch 46/100\n",
            "15/15 [==============================] - 0s 5ms/step - loss: 0.0829 - accuracy: 0.9714 - val_loss: 0.0968 - val_accuracy: 0.9737\n",
            "Epoch 47/100\n",
            "15/15 [==============================] - 0s 5ms/step - loss: 0.0676 - accuracy: 0.9714 - val_loss: 0.0950 - val_accuracy: 0.9737\n",
            "Epoch 48/100\n",
            "15/15 [==============================] - 0s 5ms/step - loss: 0.0836 - accuracy: 0.9758 - val_loss: 0.0965 - val_accuracy: 0.9737\n",
            "Epoch 49/100\n",
            "15/15 [==============================] - 0s 6ms/step - loss: 0.0791 - accuracy: 0.9780 - val_loss: 0.0989 - val_accuracy: 0.9737\n",
            "Epoch 50/100\n",
            "15/15 [==============================] - 0s 6ms/step - loss: 0.0831 - accuracy: 0.9714 - val_loss: 0.0980 - val_accuracy: 0.9737\n",
            "Epoch 51/100\n",
            "15/15 [==============================] - 0s 6ms/step - loss: 0.1044 - accuracy: 0.9604 - val_loss: 0.0992 - val_accuracy: 0.9649\n",
            "Epoch 52/100\n",
            "15/15 [==============================] - 0s 6ms/step - loss: 0.0883 - accuracy: 0.9648 - val_loss: 0.0995 - val_accuracy: 0.9649\n",
            "Epoch 53/100\n",
            "15/15 [==============================] - 0s 6ms/step - loss: 0.0911 - accuracy: 0.9736 - val_loss: 0.1001 - val_accuracy: 0.9649\n",
            "Epoch 54/100\n",
            "15/15 [==============================] - 0s 6ms/step - loss: 0.0651 - accuracy: 0.9824 - val_loss: 0.1031 - val_accuracy: 0.9561\n",
            "Epoch 55/100\n",
            "15/15 [==============================] - 0s 5ms/step - loss: 0.0885 - accuracy: 0.9714 - val_loss: 0.1025 - val_accuracy: 0.9474\n",
            "Epoch 56/100\n",
            "15/15 [==============================] - 0s 5ms/step - loss: 0.0753 - accuracy: 0.9758 - val_loss: 0.1041 - val_accuracy: 0.9561\n",
            "Epoch 57/100\n",
            "15/15 [==============================] - 0s 5ms/step - loss: 0.0952 - accuracy: 0.9538 - val_loss: 0.1035 - val_accuracy: 0.9561\n",
            "Epoch 58/100\n",
            "15/15 [==============================] - 0s 5ms/step - loss: 0.0656 - accuracy: 0.9736 - val_loss: 0.1032 - val_accuracy: 0.9649\n",
            "Epoch 59/100\n",
            "15/15 [==============================] - 0s 6ms/step - loss: 0.0919 - accuracy: 0.9692 - val_loss: 0.1045 - val_accuracy: 0.9649\n",
            "Epoch 60/100\n",
            "15/15 [==============================] - 0s 5ms/step - loss: 0.0850 - accuracy: 0.9714 - val_loss: 0.1064 - val_accuracy: 0.9649\n",
            "Epoch 61/100\n",
            "15/15 [==============================] - 0s 5ms/step - loss: 0.0815 - accuracy: 0.9736 - val_loss: 0.1058 - val_accuracy: 0.9649\n",
            "Epoch 62/100\n",
            "15/15 [==============================] - 0s 5ms/step - loss: 0.0812 - accuracy: 0.9780 - val_loss: 0.1056 - val_accuracy: 0.9649\n",
            "Epoch 63/100\n",
            "15/15 [==============================] - 0s 5ms/step - loss: 0.0921 - accuracy: 0.9692 - val_loss: 0.1038 - val_accuracy: 0.9649\n",
            "Epoch 64/100\n",
            "15/15 [==============================] - 0s 5ms/step - loss: 0.0718 - accuracy: 0.9736 - val_loss: 0.1051 - val_accuracy: 0.9649\n",
            "Epoch 65/100\n",
            "15/15 [==============================] - 0s 5ms/step - loss: 0.0836 - accuracy: 0.9736 - val_loss: 0.1059 - val_accuracy: 0.9649\n",
            "Epoch 66/100\n",
            "15/15 [==============================] - 0s 6ms/step - loss: 0.0641 - accuracy: 0.9780 - val_loss: 0.1070 - val_accuracy: 0.9649\n",
            "Epoch 67/100\n",
            "15/15 [==============================] - 0s 6ms/step - loss: 0.0690 - accuracy: 0.9714 - val_loss: 0.1076 - val_accuracy: 0.9474\n",
            "Epoch 68/100\n",
            "15/15 [==============================] - 0s 5ms/step - loss: 0.0933 - accuracy: 0.9670 - val_loss: 0.1067 - val_accuracy: 0.9561\n",
            "Epoch 69/100\n",
            "15/15 [==============================] - 0s 6ms/step - loss: 0.0692 - accuracy: 0.9802 - val_loss: 0.1063 - val_accuracy: 0.9474\n",
            "Epoch 70/100\n",
            "15/15 [==============================] - 0s 6ms/step - loss: 0.0561 - accuracy: 0.9824 - val_loss: 0.1065 - val_accuracy: 0.9561\n",
            "Epoch 71/100\n",
            "15/15 [==============================] - 0s 5ms/step - loss: 0.0851 - accuracy: 0.9582 - val_loss: 0.1065 - val_accuracy: 0.9561\n",
            "Epoch 72/100\n",
            "15/15 [==============================] - 0s 6ms/step - loss: 0.0549 - accuracy: 0.9912 - val_loss: 0.1055 - val_accuracy: 0.9561\n",
            "Epoch 72: early stopping\n"
          ]
        }
      ],
      "source": [
        "#COMPILING THE ANN USING STOCHASTIC GRADIENT DESCENT (optimizer = 'adam')\n",
        "ann.compile(optimizer = 'adam', loss = 'binary_crossentropy', metrics = ['accuracy'])\n",
        "\n",
        "#setting callbacks for monitoring maximum accuracy\n",
        "from tensorflow.keras.callbacks import EarlyStopping\n",
        "early_stop = EarlyStopping(monitor='val_loss', mode='min', verbose=1, patience=25)\n",
        "\n",
        "#TRAINING THE ANN WITH BATCH SIZE OF 32 (THIS IS A BATCH LEARNING)\n",
        "model=ann.fit(xtrain, ytrain,batch_size = 32, validation_data=(xtest, ytest),epochs =100,callbacks = [early_stop])"
      ]
    },
    {
      "cell_type": "code",
      "execution_count": 58,
      "metadata": {
        "scrolled": true,
        "colab": {
          "base_uri": "https://localhost:8080/"
        },
        "id": "WDRsUJFjwqiZ",
        "outputId": "3e3bd61e-24f2-4047-9ef4-8d5b03dbeba1"
      },
      "outputs": [
        {
          "output_type": "stream",
          "name": "stdout",
          "text": [
            "Model: \"sequential_3\"\n",
            "_________________________________________________________________\n",
            " Layer (type)                Output Shape              Param #   \n",
            "=================================================================\n",
            " dense_6 (Dense)             (None, 30)                720       \n",
            "                                                                 \n",
            " batch_normalization_3 (Batc  (None, 30)               120       \n",
            " hNormalization)                                                 \n",
            "                                                                 \n",
            " dropout_3 (Dropout)         (None, 30)                0         \n",
            "                                                                 \n",
            " dense_7 (Dense)             (None, 1)                 31        \n",
            "                                                                 \n",
            "=================================================================\n",
            "Total params: 871\n",
            "Trainable params: 811\n",
            "Non-trainable params: 60\n",
            "_________________________________________________________________\n"
          ]
        }
      ],
      "source": [
        "#taking summary of layers\n",
        "ann.summary()"
      ]
    },
    {
      "cell_type": "code",
      "execution_count": 59,
      "metadata": {
        "colab": {
          "base_uri": "https://localhost:8080/",
          "height": 282
        },
        "id": "Yi_UvXFgwqiZ",
        "outputId": "4b9eab33-a6c5-431b-986b-6ad66ba86e65"
      },
      "outputs": [
        {
          "output_type": "execute_result",
          "data": {
            "text/plain": [
              "<matplotlib.axes._subplots.AxesSubplot at 0x7f0820485150>"
            ]
          },
          "metadata": {},
          "execution_count": 59
        },
        {
          "output_type": "display_data",
          "data": {
            "text/plain": [
              "<Figure size 432x288 with 1 Axes>"
            ],
            "image/png": "[encoded data removed]"
          },
          "metadata": {
            "needs_background": "light"
          }
        }
      ],
      "source": [
        "losses = pd.DataFrame(ann.history.history)\n",
        "losses.plot()"
      ]
    },
    {
      "cell_type": "code",
      "execution_count": 60,
      "metadata": {
        "colab": {
          "base_uri": "https://localhost:8080/"
        },
        "id": "MdC9pVU3wqiZ",
        "outputId": "cc7ade57-9b8f-4acf-8df5-5157117fcf1d"
      },
      "outputs": [
        {
          "output_type": "stream",
          "name": "stdout",
          "text": [
            "4/4 [==============================] - 0s 3ms/step\n"
          ]
        }
      ],
      "source": [
        "#now testing for Test data\n",
        "y_pred = ann.predict(xtest)\n",
        "#converting values\n",
        "y_pred = (y_pred>0.5)"
      ]
    },
    {
      "cell_type": "code",
      "execution_count": 61,
      "metadata": {
        "colab": {
          "base_uri": "https://localhost:8080/"
        },
        "id": "bUHsNYVhwqiZ",
        "outputId": "c906b75f-b36d-47cc-e0ad-3ab3d3586255"
      },
      "outputs": [
        {
          "output_type": "stream",
          "name": "stdout",
          "text": [
            "[[73  2]\n",
            " [ 3 36]]\n",
            "score is: 0.956140350877193\n"
          ]
        }
      ],
      "source": [
        "from sklearn.metrics import confusion_matrix\n",
        "from sklearn.metrics import accuracy_score\n",
        "cm = confusion_matrix(ytest,y_pred)\n",
        "score4 = accuracy_score(ytest,y_pred)\n",
        "print(cm)\n",
        "print('score is:',score4)"
      ]
    },
    {
      "cell_type": "code",
      "execution_count": 62,
      "metadata": {
        "colab": {
          "base_uri": "https://localhost:8080/"
        },
        "id": "unEhLj3Jwqia",
        "outputId": "be037833-972f-440f-c587-0647498432e8"
      },
      "outputs": [
        {
          "output_type": "stream",
          "name": "stdout",
          "text": [
            "              precision    recall  f1-score   support\n",
            "\n",
            "           0       0.96      0.97      0.97        75\n",
            "           1       0.95      0.92      0.94        39\n",
            "\n",
            "    accuracy                           0.96       114\n",
            "   macro avg       0.95      0.95      0.95       114\n",
            "weighted avg       0.96      0.96      0.96       114\n",
            "\n"
          ]
        }
      ],
      "source": [
        "from sklearn.metrics import classification_report,confusion_matrix\n",
        "print(classification_report(ytest,y_pred))"
      ]
    },
    {
      "cell_type": "code",
      "execution_count": 63,
      "metadata": {
        "colab": {
          "base_uri": "https://localhost:8080/",
          "height": 428
        },
        "id": "fUvsPj0zwqia",
        "outputId": "e99c4388-0110-4444-f4ae-482e401faf95"
      },
      "outputs": [
        {
          "output_type": "display_data",
          "data": {
            "text/plain": [
              "<Figure size 1008x504 with 2 Axes>"
            ],
            "image/png": "[encoded data removed]"
          },
          "metadata": {
            "needs_background": "light"
          }
        }
      ],
      "source": [
        "# creating heatmap of comfussion matrix\n",
        "plt.figure(figsize=[14,7])\n",
        "sns.heatmap(cm,annot=True)\n",
        "plt.show()"
      ]
    },
    {
      "cell_type": "code",
      "execution_count": 63,
      "metadata": {
        "id": "ni0uk9U9wqia"
      },
      "outputs": [],
      "source": []
    },
    {
      "cell_type": "code",
      "execution_count": 63,
      "metadata": {
        "id": "ONaRGIpbwqia"
      },
      "outputs": [],
      "source": []
    },
    {
      "cell_type": "markdown",
      "metadata": {
        "id": "HK0g1wGZwqib"
      },
      "source": [
        "# 5.SOFTSIGN"
      ]
    },
    {
      "cell_type": "code",
      "execution_count": 64,
      "metadata": {
        "id": "iXfQlnX7wqib"
      },
      "outputs": [],
      "source": [
        "from tensorflow.keras.layers import BatchNormalization\n",
        "#CREATING THE ANN AS SEQUENCE OF LAYERS\n",
        "ann =Sequential()\n",
        "\n",
        "#ADDING FIRST HIDDEN LAYER WITH 30 NEURONS, THE INPUT LAYER WILL BE ADDED AUTOMATICALLY,\n",
        "ann.add(Dense(units = 30,activation = 'softsign'))\n",
        "ann.add(BatchNormalization())\n",
        "ann.add(Dropout(0.5))\n",
        "\n",
        "\n",
        "\n",
        "#ADDING OUTPUT LAYER WITH 1 NEURON , AS THIS IS A BINARY CLASSIFICATION\n",
        "ann.add(Dense(units = 1,activation = 'sigmoid'))"
      ]
    },
    {
      "cell_type": "code",
      "execution_count": 65,
      "metadata": {
        "colab": {
          "base_uri": "https://localhost:8080/"
        },
        "id": "ALv0QpXWwqib",
        "outputId": "f553d855-ef81-4a1b-db8c-e913a372e751"
      },
      "outputs": [
        {
          "output_type": "stream",
          "name": "stdout",
          "text": [
            "Epoch 1/100\n",
            "15/15 [==============================] - 1s 15ms/step - loss: 0.5303 - accuracy: 0.7626 - val_loss: 0.4491 - val_accuracy: 0.8860\n",
            "Epoch 2/100\n",
            "15/15 [==============================] - 0s 6ms/step - loss: 0.4310 - accuracy: 0.8264 - val_loss: 0.3754 - val_accuracy: 0.9211\n",
            "Epoch 3/100\n",
            "15/15 [==============================] - 0s 6ms/step - loss: 0.3476 - accuracy: 0.8484 - val_loss: 0.3258 - val_accuracy: 0.9298\n",
            "Epoch 4/100\n",
            "15/15 [==============================] - 0s 6ms/step - loss: 0.2919 - accuracy: 0.8967 - val_loss: 0.2906 - val_accuracy: 0.9649\n",
            "Epoch 5/100\n",
            "15/15 [==============================] - 0s 5ms/step - loss: 0.2613 - accuracy: 0.8945 - val_loss: 0.2559 - val_accuracy: 0.9737\n",
            "Epoch 6/100\n",
            "15/15 [==============================] - 0s 5ms/step - loss: 0.2392 - accuracy: 0.9055 - val_loss: 0.2296 - val_accuracy: 0.9737\n",
            "Epoch 7/100\n",
            "15/15 [==============================] - 0s 6ms/step - loss: 0.2316 - accuracy: 0.8945 - val_loss: 0.2084 - val_accuracy: 0.9649\n",
            "Epoch 8/100\n",
            "15/15 [==============================] - 0s 5ms/step - loss: 0.2008 - accuracy: 0.9275 - val_loss: 0.1919 - val_accuracy: 0.9737\n",
            "Epoch 9/100\n",
            "15/15 [==============================] - 0s 6ms/step - loss: 0.1952 - accuracy: 0.9275 - val_loss: 0.1775 - val_accuracy: 0.9737\n",
            "Epoch 10/100\n",
            "15/15 [==============================] - 0s 5ms/step - loss: 0.1877 - accuracy: 0.9319 - val_loss: 0.1638 - val_accuracy: 0.9737\n",
            "Epoch 11/100\n",
            "15/15 [==============================] - 0s 5ms/step - loss: 0.1479 - accuracy: 0.9341 - val_loss: 0.1544 - val_accuracy: 0.9825\n",
            "Epoch 12/100\n",
            "15/15 [==============================] - 0s 6ms/step - loss: 0.1886 - accuracy: 0.9231 - val_loss: 0.1439 - val_accuracy: 0.9825\n",
            "Epoch 13/100\n",
            "15/15 [==============================] - 0s 6ms/step - loss: 0.1543 - accuracy: 0.9516 - val_loss: 0.1369 - val_accuracy: 0.9825\n",
            "Epoch 14/100\n",
            "15/15 [==============================] - 0s 7ms/step - loss: 0.1623 - accuracy: 0.9275 - val_loss: 0.1287 - val_accuracy: 0.9737\n",
            "Epoch 15/100\n",
            "15/15 [==============================] - 0s 5ms/step - loss: 0.1254 - accuracy: 0.9538 - val_loss: 0.1220 - val_accuracy: 0.9737\n",
            "Epoch 16/100\n",
            "15/15 [==============================] - 0s 6ms/step - loss: 0.1512 - accuracy: 0.9495 - val_loss: 0.1182 - val_accuracy: 0.9737\n",
            "Epoch 17/100\n",
            "15/15 [==============================] - 0s 5ms/step - loss: 0.1428 - accuracy: 0.9429 - val_loss: 0.1134 - val_accuracy: 0.9737\n",
            "Epoch 18/100\n",
            "15/15 [==============================] - 0s 5ms/step - loss: 0.1231 - accuracy: 0.9560 - val_loss: 0.1119 - val_accuracy: 0.9649\n",
            "Epoch 19/100\n",
            "15/15 [==============================] - 0s 5ms/step - loss: 0.1140 - accuracy: 0.9692 - val_loss: 0.1103 - val_accuracy: 0.9561\n",
            "Epoch 20/100\n",
            "15/15 [==============================] - 0s 5ms/step - loss: 0.1206 - accuracy: 0.9538 - val_loss: 0.1073 - val_accuracy: 0.9561\n",
            "Epoch 21/100\n",
            "15/15 [==============================] - 0s 5ms/step - loss: 0.1254 - accuracy: 0.9538 - val_loss: 0.1067 - val_accuracy: 0.9561\n",
            "Epoch 22/100\n",
            "15/15 [==============================] - 0s 6ms/step - loss: 0.1034 - accuracy: 0.9736 - val_loss: 0.1046 - val_accuracy: 0.9737\n",
            "Epoch 23/100\n",
            "15/15 [==============================] - 0s 6ms/step - loss: 0.1126 - accuracy: 0.9604 - val_loss: 0.1028 - val_accuracy: 0.9737\n",
            "Epoch 24/100\n",
            "15/15 [==============================] - 0s 6ms/step - loss: 0.1209 - accuracy: 0.9604 - val_loss: 0.1018 - val_accuracy: 0.9649\n",
            "Epoch 25/100\n",
            "15/15 [==============================] - 0s 5ms/step - loss: 0.1255 - accuracy: 0.9538 - val_loss: 0.1021 - val_accuracy: 0.9649\n",
            "Epoch 26/100\n",
            "15/15 [==============================] - 0s 6ms/step - loss: 0.0971 - accuracy: 0.9670 - val_loss: 0.1005 - val_accuracy: 0.9737\n",
            "Epoch 27/100\n",
            "15/15 [==============================] - 0s 5ms/step - loss: 0.1073 - accuracy: 0.9560 - val_loss: 0.1025 - val_accuracy: 0.9649\n",
            "Epoch 28/100\n",
            "15/15 [==============================] - 0s 6ms/step - loss: 0.0924 - accuracy: 0.9714 - val_loss: 0.1052 - val_accuracy: 0.9649\n",
            "Epoch 29/100\n",
            "15/15 [==============================] - 0s 6ms/step - loss: 0.1041 - accuracy: 0.9604 - val_loss: 0.1036 - val_accuracy: 0.9649\n",
            "Epoch 30/100\n",
            "15/15 [==============================] - 0s 5ms/step - loss: 0.0802 - accuracy: 0.9736 - val_loss: 0.1020 - val_accuracy: 0.9649\n",
            "Epoch 31/100\n",
            "15/15 [==============================] - 0s 5ms/step - loss: 0.0904 - accuracy: 0.9692 - val_loss: 0.1023 - val_accuracy: 0.9649\n",
            "Epoch 32/100\n",
            "15/15 [==============================] - 0s 7ms/step - loss: 0.0971 - accuracy: 0.9648 - val_loss: 0.1024 - val_accuracy: 0.9649\n",
            "Epoch 33/100\n",
            "15/15 [==============================] - 0s 5ms/step - loss: 0.0917 - accuracy: 0.9692 - val_loss: 0.1052 - val_accuracy: 0.9649\n",
            "Epoch 34/100\n",
            "15/15 [==============================] - 0s 5ms/step - loss: 0.1321 - accuracy: 0.9516 - val_loss: 0.1042 - val_accuracy: 0.9649\n",
            "Epoch 35/100\n",
            "15/15 [==============================] - 0s 6ms/step - loss: 0.0780 - accuracy: 0.9736 - val_loss: 0.1044 - val_accuracy: 0.9649\n",
            "Epoch 36/100\n",
            "15/15 [==============================] - 0s 6ms/step - loss: 0.0737 - accuracy: 0.9714 - val_loss: 0.1044 - val_accuracy: 0.9649\n",
            "Epoch 37/100\n",
            "15/15 [==============================] - 0s 5ms/step - loss: 0.1069 - accuracy: 0.9604 - val_loss: 0.1049 - val_accuracy: 0.9649\n",
            "Epoch 38/100\n",
            "15/15 [==============================] - 0s 5ms/step - loss: 0.1085 - accuracy: 0.9692 - val_loss: 0.1052 - val_accuracy: 0.9649\n",
            "Epoch 39/100\n",
            "15/15 [==============================] - 0s 5ms/step - loss: 0.1014 - accuracy: 0.9582 - val_loss: 0.1037 - val_accuracy: 0.9649\n",
            "Epoch 40/100\n",
            "15/15 [==============================] - 0s 5ms/step - loss: 0.1038 - accuracy: 0.9604 - val_loss: 0.1049 - val_accuracy: 0.9649\n",
            "Epoch 41/100\n",
            "15/15 [==============================] - 0s 6ms/step - loss: 0.0800 - accuracy: 0.9736 - val_loss: 0.1047 - val_accuracy: 0.9561\n",
            "Epoch 42/100\n",
            "15/15 [==============================] - 0s 5ms/step - loss: 0.0895 - accuracy: 0.9692 - val_loss: 0.1061 - val_accuracy: 0.9649\n",
            "Epoch 43/100\n",
            "15/15 [==============================] - 0s 5ms/step - loss: 0.1002 - accuracy: 0.9670 - val_loss: 0.1086 - val_accuracy: 0.9649\n",
            "Epoch 44/100\n",
            "15/15 [==============================] - 0s 5ms/step - loss: 0.0972 - accuracy: 0.9670 - val_loss: 0.1089 - val_accuracy: 0.9649\n",
            "Epoch 45/100\n",
            "15/15 [==============================] - 0s 5ms/step - loss: 0.0955 - accuracy: 0.9648 - val_loss: 0.1093 - val_accuracy: 0.9649\n",
            "Epoch 46/100\n",
            "15/15 [==============================] - 0s 6ms/step - loss: 0.0958 - accuracy: 0.9648 - val_loss: 0.1103 - val_accuracy: 0.9561\n",
            "Epoch 47/100\n",
            "15/15 [==============================] - 0s 6ms/step - loss: 0.0790 - accuracy: 0.9714 - val_loss: 0.1097 - val_accuracy: 0.9649\n",
            "Epoch 48/100\n",
            "15/15 [==============================] - 0s 5ms/step - loss: 0.0716 - accuracy: 0.9758 - val_loss: 0.1097 - val_accuracy: 0.9649\n",
            "Epoch 49/100\n",
            "15/15 [==============================] - 0s 5ms/step - loss: 0.0881 - accuracy: 0.9692 - val_loss: 0.1108 - val_accuracy: 0.9649\n",
            "Epoch 50/100\n",
            "15/15 [==============================] - 0s 5ms/step - loss: 0.0796 - accuracy: 0.9846 - val_loss: 0.1111 - val_accuracy: 0.9649\n",
            "Epoch 51/100\n",
            "15/15 [==============================] - 0s 5ms/step - loss: 0.0776 - accuracy: 0.9736 - val_loss: 0.1101 - val_accuracy: 0.9649\n",
            "Epoch 51: early stopping\n"
          ]
        }
      ],
      "source": [
        "#COMPILING THE ANN USING STOCHASTIC GRADIENT DESCENT (optimizer = 'adam')\n",
        "ann.compile(optimizer = 'adam', loss = 'binary_crossentropy', metrics = ['accuracy'])\n",
        "\n",
        "#setting callbacks for monitoring maximum accuracy\n",
        "from tensorflow.keras.callbacks import EarlyStopping\n",
        "early_stop = EarlyStopping(monitor='val_loss', mode='min', verbose=1, patience=25)\n",
        "\n",
        "#TRAINING THE ANN WITH BATCH SIZE OF 32 (THIS IS A BATCH LEARNING)\n",
        "model=ann.fit(xtrain, ytrain,batch_size = 32, validation_data=(xtest, ytest),epochs =100,callbacks = [early_stop])"
      ]
    },
    {
      "cell_type": "code",
      "execution_count": 66,
      "metadata": {
        "colab": {
          "base_uri": "https://localhost:8080/"
        },
        "id": "poKDHMuswqib",
        "outputId": "f278aef3-27d2-4336-db5f-29c283f4e091"
      },
      "outputs": [
        {
          "output_type": "stream",
          "name": "stdout",
          "text": [
            "Model: \"sequential_4\"\n",
            "_________________________________________________________________\n",
            " Layer (type)                Output Shape              Param #   \n",
            "=================================================================\n",
            " dense_8 (Dense)             (None, 30)                720       \n",
            "                                                                 \n",
            " batch_normalization_4 (Batc  (None, 30)               120       \n",
            " hNormalization)                                                 \n",
            "                                                                 \n",
            " dropout_4 (Dropout)         (None, 30)                0         \n",
            "                                                                 \n",
            " dense_9 (Dense)             (None, 1)                 31        \n",
            "                                                                 \n",
            "=================================================================\n",
            "Total params: 871\n",
            "Trainable params: 811\n",
            "Non-trainable params: 60\n",
            "_________________________________________________________________\n"
          ]
        }
      ],
      "source": [
        "#taking summary of layers\n",
        "ann.summary()"
      ]
    },
    {
      "cell_type": "code",
      "execution_count": 67,
      "metadata": {
        "colab": {
          "base_uri": "https://localhost:8080/",
          "height": 282
        },
        "id": "9KrhdqGPwqib",
        "outputId": "b2e1acfe-aeb2-425a-9398-7662a25deb89"
      },
      "outputs": [
        {
          "output_type": "execute_result",
          "data": {
            "text/plain": [
              "<matplotlib.axes._subplots.AxesSubplot at 0x7f082015b6d0>"
            ]
          },
          "metadata": {},
          "execution_count": 67
        },
        {
          "output_type": "display_data",
          "data": {
            "text/plain": [
              "<Figure size 432x288 with 1 Axes>"
            ],
            "image/png": "[encoded data removed]"
          },
          "metadata": {
            "needs_background": "light"
          }
        }
      ],
      "source": [
        "losses = pd.DataFrame(ann.history.history)\n",
        "losses.plot()"
      ]
    },
    {
      "cell_type": "code",
      "execution_count": 68,
      "metadata": {
        "colab": {
          "base_uri": "https://localhost:8080/"
        },
        "id": "DFomACbTwqib",
        "outputId": "134339a9-1e3c-4e75-98cd-d4a91f0eb2c0"
      },
      "outputs": [
        {
          "output_type": "stream",
          "name": "stdout",
          "text": [
            "4/4 [==============================] - 0s 3ms/step\n"
          ]
        }
      ],
      "source": [
        "#now testing for Test data\n",
        "y_pred = ann.predict(xtest)\n",
        "#converting values\n",
        "y_pred = (y_pred>0.5)"
      ]
    },
    {
      "cell_type": "code",
      "execution_count": 69,
      "metadata": {
        "colab": {
          "base_uri": "https://localhost:8080/"
        },
        "id": "zbUiUKP0wqic",
        "outputId": "f1e0b3e4-8cea-41f5-ffb6-03fa6bde88e6"
      },
      "outputs": [
        {
          "output_type": "stream",
          "name": "stdout",
          "text": [
            "[[73  2]\n",
            " [ 2 37]]\n",
            "score is: 0.9649122807017544\n"
          ]
        }
      ],
      "source": [
        "from sklearn.metrics import confusion_matrix\n",
        "from sklearn.metrics import accuracy_score\n",
        "cm = confusion_matrix(ytest,y_pred)\n",
        "score5 = accuracy_score(ytest,y_pred)\n",
        "print(cm)\n",
        "print('score is:',score5)"
      ]
    },
    {
      "cell_type": "code",
      "execution_count": 70,
      "metadata": {
        "colab": {
          "base_uri": "https://localhost:8080/"
        },
        "id": "St51oHcqwqic",
        "outputId": "d6b81acb-9e5c-4532-9ef6-1040db014485"
      },
      "outputs": [
        {
          "output_type": "stream",
          "name": "stdout",
          "text": [
            "              precision    recall  f1-score   support\n",
            "\n",
            "           0       0.97      0.97      0.97        75\n",
            "           1       0.95      0.95      0.95        39\n",
            "\n",
            "    accuracy                           0.96       114\n",
            "   macro avg       0.96      0.96      0.96       114\n",
            "weighted avg       0.96      0.96      0.96       114\n",
            "\n"
          ]
        }
      ],
      "source": [
        "from sklearn.metrics import classification_report,confusion_matrix\n",
        "print(classification_report(ytest,y_pred))"
      ]
    },
    {
      "cell_type": "code",
      "execution_count": 71,
      "metadata": {
        "colab": {
          "base_uri": "https://localhost:8080/",
          "height": 428
        },
        "id": "HzqDiSRGwqic",
        "outputId": "4ae991df-5ffa-4e62-c69d-e21eaa9418e4"
      },
      "outputs": [
        {
          "output_type": "display_data",
          "data": {
            "text/plain": [
              "<Figure size 1008x504 with 2 Axes>"
            ],
            "image/png": "[encoded data removed]"
          },
          "metadata": {
            "needs_background": "light"
          }
        }
      ],
      "source": [
        "# creating heatmap of comfussion matrix\n",
        "plt.figure(figsize=[14,7])\n",
        "sns.heatmap(cm,annot=True)\n",
        "plt.show()"
      ]
    },
    {
      "cell_type": "code",
      "execution_count": 71,
      "metadata": {
        "id": "CkjxaCZFwqic"
      },
      "outputs": [],
      "source": []
    },
    {
      "cell_type": "code",
      "execution_count": 71,
      "metadata": {
        "id": "ngy8LpIJwqid"
      },
      "outputs": [],
      "source": []
    },
    {
      "cell_type": "markdown",
      "metadata": {
        "id": "FCxpxTkYwqid"
      },
      "source": [
        "# 6.SWISH\n"
      ]
    },
    {
      "cell_type": "code",
      "execution_count": 72,
      "metadata": {
        "id": "7iFgsha3wqid"
      },
      "outputs": [],
      "source": [
        "from tensorflow.keras.layers import BatchNormalization\n",
        "#CREATING THE ANN AS SEQUENCE OF LAYERS\n",
        "ann =Sequential()\n",
        "\n",
        "#ADDING FIRST HIDDEN LAYER WITH 30 NEURONS, THE INPUT LAYER WILL BE ADDED AUTOMATICALLY,\n",
        "ann.add(Dense(units = 30,activation = 'swish'))\n",
        "ann.add(BatchNormalization())\n",
        "ann.add(Dropout(0.5))\n",
        "\n",
        "\n",
        "\n",
        "#ADDING OUTPUT LAYER WITH 1 NEURON , AS THIS IS A BINARY CLASSIFICATION\n",
        "ann.add(Dense(units = 1,activation = 'sigmoid'))"
      ]
    },
    {
      "cell_type": "code",
      "execution_count": 73,
      "metadata": {
        "colab": {
          "base_uri": "https://localhost:8080/"
        },
        "id": "5VSgG2Oywqid",
        "outputId": "ab96a2d6-a157-49c2-f44d-8fdf1e8a202e"
      },
      "outputs": [
        {
          "output_type": "stream",
          "name": "stdout",
          "text": [
            "Epoch 1/100\n",
            "15/15 [==============================] - 1s 15ms/step - loss: 0.8904 - accuracy: 0.5780 - val_loss: 0.5624 - val_accuracy: 0.7456\n",
            "Epoch 2/100\n",
            "15/15 [==============================] - 0s 5ms/step - loss: 0.5686 - accuracy: 0.7187 - val_loss: 0.4406 - val_accuracy: 0.9123\n",
            "Epoch 3/100\n",
            "15/15 [==============================] - 0s 6ms/step - loss: 0.4317 - accuracy: 0.8044 - val_loss: 0.3597 - val_accuracy: 0.9298\n",
            "Epoch 4/100\n",
            "15/15 [==============================] - 0s 6ms/step - loss: 0.3648 - accuracy: 0.8418 - val_loss: 0.3048 - val_accuracy: 0.9474\n",
            "Epoch 5/100\n",
            "15/15 [==============================] - 0s 5ms/step - loss: 0.3073 - accuracy: 0.8681 - val_loss: 0.2631 - val_accuracy: 0.9649\n",
            "Epoch 6/100\n",
            "15/15 [==============================] - 0s 5ms/step - loss: 0.2869 - accuracy: 0.8835 - val_loss: 0.2363 - val_accuracy: 0.9649\n",
            "Epoch 7/100\n",
            "15/15 [==============================] - 0s 5ms/step - loss: 0.2572 - accuracy: 0.9121 - val_loss: 0.2138 - val_accuracy: 0.9649\n",
            "Epoch 8/100\n",
            "15/15 [==============================] - 0s 5ms/step - loss: 0.2415 - accuracy: 0.9165 - val_loss: 0.1958 - val_accuracy: 0.9737\n",
            "Epoch 9/100\n",
            "15/15 [==============================] - 0s 5ms/step - loss: 0.2417 - accuracy: 0.8857 - val_loss: 0.1810 - val_accuracy: 0.9737\n",
            "Epoch 10/100\n",
            "15/15 [==============================] - 0s 5ms/step - loss: 0.2413 - accuracy: 0.9033 - val_loss: 0.1665 - val_accuracy: 0.9737\n",
            "Epoch 11/100\n",
            "15/15 [==============================] - 0s 5ms/step - loss: 0.2098 - accuracy: 0.9253 - val_loss: 0.1606 - val_accuracy: 0.9737\n",
            "Epoch 12/100\n",
            "15/15 [==============================] - 0s 5ms/step - loss: 0.2110 - accuracy: 0.9297 - val_loss: 0.1518 - val_accuracy: 0.9737\n",
            "Epoch 13/100\n",
            "15/15 [==============================] - 0s 5ms/step - loss: 0.1798 - accuracy: 0.9341 - val_loss: 0.1464 - val_accuracy: 0.9737\n",
            "Epoch 14/100\n",
            "15/15 [==============================] - 0s 5ms/step - loss: 0.1936 - accuracy: 0.9319 - val_loss: 0.1417 - val_accuracy: 0.9737\n",
            "Epoch 15/100\n",
            "15/15 [==============================] - 0s 6ms/step - loss: 0.1555 - accuracy: 0.9516 - val_loss: 0.1351 - val_accuracy: 0.9737\n",
            "Epoch 16/100\n",
            "15/15 [==============================] - 0s 6ms/step - loss: 0.1824 - accuracy: 0.9253 - val_loss: 0.1309 - val_accuracy: 0.9737\n",
            "Epoch 17/100\n",
            "15/15 [==============================] - 0s 5ms/step - loss: 0.1493 - accuracy: 0.9582 - val_loss: 0.1285 - val_accuracy: 0.9737\n",
            "Epoch 18/100\n",
            "15/15 [==============================] - 0s 6ms/step - loss: 0.1449 - accuracy: 0.9473 - val_loss: 0.1250 - val_accuracy: 0.9737\n",
            "Epoch 19/100\n",
            "15/15 [==============================] - 0s 6ms/step - loss: 0.1621 - accuracy: 0.9429 - val_loss: 0.1228 - val_accuracy: 0.9737\n",
            "Epoch 20/100\n",
            "15/15 [==============================] - 0s 5ms/step - loss: 0.1512 - accuracy: 0.9516 - val_loss: 0.1171 - val_accuracy: 0.9737\n",
            "Epoch 21/100\n",
            "15/15 [==============================] - 0s 5ms/step - loss: 0.1508 - accuracy: 0.9407 - val_loss: 0.1146 - val_accuracy: 0.9737\n",
            "Epoch 22/100\n",
            "15/15 [==============================] - 0s 5ms/step - loss: 0.1761 - accuracy: 0.9165 - val_loss: 0.1123 - val_accuracy: 0.9737\n",
            "Epoch 23/100\n",
            "15/15 [==============================] - 0s 5ms/step - loss: 0.1331 - accuracy: 0.9538 - val_loss: 0.1134 - val_accuracy: 0.9737\n",
            "Epoch 24/100\n",
            "15/15 [==============================] - 0s 5ms/step - loss: 0.1225 - accuracy: 0.9692 - val_loss: 0.1117 - val_accuracy: 0.9737\n",
            "Epoch 25/100\n",
            "15/15 [==============================] - 0s 5ms/step - loss: 0.1501 - accuracy: 0.9429 - val_loss: 0.1102 - val_accuracy: 0.9737\n",
            "Epoch 26/100\n",
            "15/15 [==============================] - 0s 5ms/step - loss: 0.1392 - accuracy: 0.9385 - val_loss: 0.1116 - val_accuracy: 0.9737\n",
            "Epoch 27/100\n",
            "15/15 [==============================] - 0s 5ms/step - loss: 0.1392 - accuracy: 0.9451 - val_loss: 0.1107 - val_accuracy: 0.9737\n",
            "Epoch 28/100\n",
            "15/15 [==============================] - 0s 6ms/step - loss: 0.1398 - accuracy: 0.9473 - val_loss: 0.1097 - val_accuracy: 0.9737\n",
            "Epoch 29/100\n",
            "15/15 [==============================] - 0s 6ms/step - loss: 0.1528 - accuracy: 0.9429 - val_loss: 0.1114 - val_accuracy: 0.9737\n",
            "Epoch 30/100\n",
            "15/15 [==============================] - 0s 5ms/step - loss: 0.1295 - accuracy: 0.9516 - val_loss: 0.1089 - val_accuracy: 0.9825\n",
            "Epoch 31/100\n",
            "15/15 [==============================] - 0s 6ms/step - loss: 0.1177 - accuracy: 0.9560 - val_loss: 0.1077 - val_accuracy: 0.9737\n",
            "Epoch 32/100\n",
            "15/15 [==============================] - 0s 5ms/step - loss: 0.1239 - accuracy: 0.9604 - val_loss: 0.1063 - val_accuracy: 0.9737\n",
            "Epoch 33/100\n",
            "15/15 [==============================] - 0s 6ms/step - loss: 0.1326 - accuracy: 0.9538 - val_loss: 0.1041 - val_accuracy: 0.9737\n",
            "Epoch 34/100\n",
            "15/15 [==============================] - 0s 5ms/step - loss: 0.1163 - accuracy: 0.9582 - val_loss: 0.1018 - val_accuracy: 0.9825\n",
            "Epoch 35/100\n",
            "15/15 [==============================] - 0s 5ms/step - loss: 0.1407 - accuracy: 0.9429 - val_loss: 0.1013 - val_accuracy: 0.9825\n",
            "Epoch 36/100\n",
            "15/15 [==============================] - 0s 7ms/step - loss: 0.1104 - accuracy: 0.9582 - val_loss: 0.1011 - val_accuracy: 0.9737\n",
            "Epoch 37/100\n",
            "15/15 [==============================] - 0s 5ms/step - loss: 0.1177 - accuracy: 0.9582 - val_loss: 0.1044 - val_accuracy: 0.9825\n",
            "Epoch 38/100\n",
            "15/15 [==============================] - 0s 5ms/step - loss: 0.1098 - accuracy: 0.9560 - val_loss: 0.1042 - val_accuracy: 0.9737\n",
            "Epoch 39/100\n",
            "15/15 [==============================] - 0s 5ms/step - loss: 0.0997 - accuracy: 0.9736 - val_loss: 0.1016 - val_accuracy: 0.9825\n",
            "Epoch 40/100\n",
            "15/15 [==============================] - 0s 5ms/step - loss: 0.1103 - accuracy: 0.9538 - val_loss: 0.0997 - val_accuracy: 0.9825\n",
            "Epoch 41/100\n",
            "15/15 [==============================] - 0s 5ms/step - loss: 0.1092 - accuracy: 0.9604 - val_loss: 0.0992 - val_accuracy: 0.9825\n",
            "Epoch 42/100\n",
            "15/15 [==============================] - 0s 6ms/step - loss: 0.1274 - accuracy: 0.9473 - val_loss: 0.1021 - val_accuracy: 0.9737\n",
            "Epoch 43/100\n",
            "15/15 [==============================] - 0s 6ms/step - loss: 0.1117 - accuracy: 0.9560 - val_loss: 0.1035 - val_accuracy: 0.9737\n",
            "Epoch 44/100\n",
            "15/15 [==============================] - 0s 6ms/step - loss: 0.1029 - accuracy: 0.9626 - val_loss: 0.1036 - val_accuracy: 0.9737\n",
            "Epoch 45/100\n",
            "15/15 [==============================] - 0s 5ms/step - loss: 0.1162 - accuracy: 0.9582 - val_loss: 0.1044 - val_accuracy: 0.9737\n",
            "Epoch 46/100\n",
            "15/15 [==============================] - 0s 5ms/step - loss: 0.1005 - accuracy: 0.9604 - val_loss: 0.1042 - val_accuracy: 0.9737\n",
            "Epoch 47/100\n",
            "15/15 [==============================] - 0s 5ms/step - loss: 0.0951 - accuracy: 0.9582 - val_loss: 0.1025 - val_accuracy: 0.9737\n",
            "Epoch 48/100\n",
            "15/15 [==============================] - 0s 5ms/step - loss: 0.1517 - accuracy: 0.9582 - val_loss: 0.1004 - val_accuracy: 0.9737\n",
            "Epoch 49/100\n",
            "15/15 [==============================] - 0s 6ms/step - loss: 0.1346 - accuracy: 0.9516 - val_loss: 0.0977 - val_accuracy: 0.9825\n",
            "Epoch 50/100\n",
            "15/15 [==============================] - 0s 5ms/step - loss: 0.1153 - accuracy: 0.9538 - val_loss: 0.0975 - val_accuracy: 0.9825\n",
            "Epoch 51/100\n",
            "15/15 [==============================] - 0s 6ms/step - loss: 0.1059 - accuracy: 0.9714 - val_loss: 0.0960 - val_accuracy: 0.9825\n",
            "Epoch 52/100\n",
            "15/15 [==============================] - 0s 6ms/step - loss: 0.1012 - accuracy: 0.9670 - val_loss: 0.0952 - val_accuracy: 0.9825\n",
            "Epoch 53/100\n",
            "15/15 [==============================] - 0s 5ms/step - loss: 0.1510 - accuracy: 0.9407 - val_loss: 0.0938 - val_accuracy: 0.9825\n",
            "Epoch 54/100\n",
            "15/15 [==============================] - 0s 6ms/step - loss: 0.1002 - accuracy: 0.9538 - val_loss: 0.0953 - val_accuracy: 0.9825\n",
            "Epoch 55/100\n",
            "15/15 [==============================] - 0s 5ms/step - loss: 0.0934 - accuracy: 0.9670 - val_loss: 0.0951 - val_accuracy: 0.9825\n",
            "Epoch 56/100\n",
            "15/15 [==============================] - 0s 5ms/step - loss: 0.1168 - accuracy: 0.9626 - val_loss: 0.0948 - val_accuracy: 0.9737\n",
            "Epoch 57/100\n",
            "15/15 [==============================] - 0s 6ms/step - loss: 0.0777 - accuracy: 0.9736 - val_loss: 0.0967 - val_accuracy: 0.9649\n",
            "Epoch 58/100\n",
            "15/15 [==============================] - 0s 6ms/step - loss: 0.1144 - accuracy: 0.9582 - val_loss: 0.0972 - val_accuracy: 0.9649\n",
            "Epoch 59/100\n",
            "15/15 [==============================] - 0s 6ms/step - loss: 0.1026 - accuracy: 0.9582 - val_loss: 0.0963 - val_accuracy: 0.9649\n",
            "Epoch 60/100\n",
            "15/15 [==============================] - 0s 5ms/step - loss: 0.1205 - accuracy: 0.9582 - val_loss: 0.0941 - val_accuracy: 0.9649\n",
            "Epoch 61/100\n",
            "15/15 [==============================] - 0s 6ms/step - loss: 0.1040 - accuracy: 0.9582 - val_loss: 0.0942 - val_accuracy: 0.9737\n",
            "Epoch 62/100\n",
            "15/15 [==============================] - 0s 6ms/step - loss: 0.1076 - accuracy: 0.9582 - val_loss: 0.0929 - val_accuracy: 0.9649\n",
            "Epoch 63/100\n",
            "15/15 [==============================] - 0s 7ms/step - loss: 0.0929 - accuracy: 0.9692 - val_loss: 0.0932 - val_accuracy: 0.9649\n",
            "Epoch 64/100\n",
            "15/15 [==============================] - 0s 5ms/step - loss: 0.1092 - accuracy: 0.9648 - val_loss: 0.0935 - val_accuracy: 0.9737\n",
            "Epoch 65/100\n",
            "15/15 [==============================] - 0s 5ms/step - loss: 0.1181 - accuracy: 0.9516 - val_loss: 0.0934 - val_accuracy: 0.9737\n",
            "Epoch 66/100\n",
            "15/15 [==============================] - 0s 6ms/step - loss: 0.1005 - accuracy: 0.9626 - val_loss: 0.0947 - val_accuracy: 0.9649\n",
            "Epoch 67/100\n",
            "15/15 [==============================] - 0s 5ms/step - loss: 0.0974 - accuracy: 0.9626 - val_loss: 0.0943 - val_accuracy: 0.9649\n",
            "Epoch 68/100\n",
            "15/15 [==============================] - 0s 5ms/step - loss: 0.1028 - accuracy: 0.9692 - val_loss: 0.0916 - val_accuracy: 0.9737\n",
            "Epoch 69/100\n",
            "15/15 [==============================] - 0s 5ms/step - loss: 0.1123 - accuracy: 0.9538 - val_loss: 0.0868 - val_accuracy: 0.9737\n",
            "Epoch 70/100\n",
            "15/15 [==============================] - 0s 7ms/step - loss: 0.0798 - accuracy: 0.9714 - val_loss: 0.0833 - val_accuracy: 0.9737\n",
            "Epoch 71/100\n",
            "15/15 [==============================] - 0s 5ms/step - loss: 0.1093 - accuracy: 0.9560 - val_loss: 0.0836 - val_accuracy: 0.9737\n",
            "Epoch 72/100\n",
            "15/15 [==============================] - 0s 5ms/step - loss: 0.0971 - accuracy: 0.9538 - val_loss: 0.0842 - val_accuracy: 0.9737\n",
            "Epoch 73/100\n",
            "15/15 [==============================] - 0s 6ms/step - loss: 0.0910 - accuracy: 0.9692 - val_loss: 0.0863 - val_accuracy: 0.9737\n",
            "Epoch 74/100\n",
            "15/15 [==============================] - 0s 7ms/step - loss: 0.0951 - accuracy: 0.9648 - val_loss: 0.0872 - val_accuracy: 0.9737\n",
            "Epoch 75/100\n",
            "15/15 [==============================] - 0s 5ms/step - loss: 0.1220 - accuracy: 0.9582 - val_loss: 0.0850 - val_accuracy: 0.9737\n",
            "Epoch 76/100\n",
            "15/15 [==============================] - 0s 6ms/step - loss: 0.0977 - accuracy: 0.9648 - val_loss: 0.0853 - val_accuracy: 0.9737\n",
            "Epoch 77/100\n",
            "15/15 [==============================] - 0s 5ms/step - loss: 0.1346 - accuracy: 0.9582 - val_loss: 0.0871 - val_accuracy: 0.9737\n",
            "Epoch 78/100\n",
            "15/15 [==============================] - 0s 5ms/step - loss: 0.0858 - accuracy: 0.9692 - val_loss: 0.0900 - val_accuracy: 0.9737\n",
            "Epoch 79/100\n",
            "15/15 [==============================] - 0s 5ms/step - loss: 0.0726 - accuracy: 0.9736 - val_loss: 0.0902 - val_accuracy: 0.9737\n",
            "Epoch 80/100\n",
            "15/15 [==============================] - 0s 5ms/step - loss: 0.0723 - accuracy: 0.9824 - val_loss: 0.0909 - val_accuracy: 0.9825\n",
            "Epoch 81/100\n",
            "15/15 [==============================] - 0s 6ms/step - loss: 0.1219 - accuracy: 0.9385 - val_loss: 0.0890 - val_accuracy: 0.9825\n",
            "Epoch 82/100\n",
            "15/15 [==============================] - 0s 5ms/step - loss: 0.0754 - accuracy: 0.9714 - val_loss: 0.0877 - val_accuracy: 0.9825\n",
            "Epoch 83/100\n",
            "15/15 [==============================] - 0s 6ms/step - loss: 0.0905 - accuracy: 0.9670 - val_loss: 0.0882 - val_accuracy: 0.9825\n",
            "Epoch 84/100\n",
            "15/15 [==============================] - 0s 6ms/step - loss: 0.0911 - accuracy: 0.9692 - val_loss: 0.0876 - val_accuracy: 0.9825\n",
            "Epoch 85/100\n",
            "15/15 [==============================] - 0s 6ms/step - loss: 0.0962 - accuracy: 0.9582 - val_loss: 0.0890 - val_accuracy: 0.9825\n",
            "Epoch 86/100\n",
            "15/15 [==============================] - 0s 6ms/step - loss: 0.1217 - accuracy: 0.9648 - val_loss: 0.0925 - val_accuracy: 0.9825\n",
            "Epoch 87/100\n",
            "15/15 [==============================] - 0s 5ms/step - loss: 0.0937 - accuracy: 0.9692 - val_loss: 0.0937 - val_accuracy: 0.9737\n",
            "Epoch 88/100\n",
            "15/15 [==============================] - 0s 5ms/step - loss: 0.0961 - accuracy: 0.9692 - val_loss: 0.0929 - val_accuracy: 0.9737\n",
            "Epoch 89/100\n",
            "15/15 [==============================] - 0s 6ms/step - loss: 0.0905 - accuracy: 0.9648 - val_loss: 0.0915 - val_accuracy: 0.9737\n",
            "Epoch 90/100\n",
            "15/15 [==============================] - 0s 6ms/step - loss: 0.0707 - accuracy: 0.9780 - val_loss: 0.0918 - val_accuracy: 0.9737\n",
            "Epoch 91/100\n",
            "15/15 [==============================] - 0s 6ms/step - loss: 0.0871 - accuracy: 0.9626 - val_loss: 0.0911 - val_accuracy: 0.9737\n",
            "Epoch 92/100\n",
            "15/15 [==============================] - 0s 5ms/step - loss: 0.0927 - accuracy: 0.9604 - val_loss: 0.0901 - val_accuracy: 0.9737\n",
            "Epoch 93/100\n",
            "15/15 [==============================] - 0s 6ms/step - loss: 0.0755 - accuracy: 0.9780 - val_loss: 0.0852 - val_accuracy: 0.9825\n",
            "Epoch 94/100\n",
            "15/15 [==============================] - 0s 5ms/step - loss: 0.0876 - accuracy: 0.9714 - val_loss: 0.0866 - val_accuracy: 0.9737\n",
            "Epoch 95/100\n",
            "15/15 [==============================] - 0s 5ms/step - loss: 0.0910 - accuracy: 0.9692 - val_loss: 0.0930 - val_accuracy: 0.9737\n",
            "Epoch 95: early stopping\n"
          ]
        }
      ],
      "source": [
        "#COMPILING THE ANN USING STOCHASTIC GRADIENT DESCENT (optimizer = 'adam')\n",
        "ann.compile(optimizer = 'adam', loss = 'binary_crossentropy', metrics = ['accuracy'])\n",
        "\n",
        "#setting callbacks for monitoring maximum accuracy\n",
        "from tensorflow.keras.callbacks import EarlyStopping\n",
        "early_stop = EarlyStopping(monitor='val_loss', mode='min', verbose=1, patience=25)\n",
        "\n",
        "#TRAINING THE ANN WITH BATCH SIZE OF 32 (THIS IS A BATCH LEARNING)\n",
        "model=ann.fit(xtrain, ytrain,batch_size = 32, validation_data=(xtest, ytest),epochs =100,callbacks = [early_stop])"
      ]
    },
    {
      "cell_type": "code",
      "execution_count": 74,
      "metadata": {
        "colab": {
          "base_uri": "https://localhost:8080/"
        },
        "id": "GP9cekhCwqie",
        "outputId": "4d083a9f-a5f5-4022-b174-8e70008720f8"
      },
      "outputs": [
        {
          "output_type": "stream",
          "name": "stdout",
          "text": [
            "Model: \"sequential_5\"\n",
            "_________________________________________________________________\n",
            " Layer (type)                Output Shape              Param #   \n",
            "=================================================================\n",
            " dense_10 (Dense)            (None, 30)                720       \n",
            "                                                                 \n",
            " batch_normalization_5 (Batc  (None, 30)               120       \n",
            " hNormalization)                                                 \n",
            "                                                                 \n",
            " dropout_5 (Dropout)         (None, 30)                0         \n",
            "                                                                 \n",
            " dense_11 (Dense)            (None, 1)                 31        \n",
            "                                                                 \n",
            "=================================================================\n",
            "Total params: 871\n",
            "Trainable params: 811\n",
            "Non-trainable params: 60\n",
            "_________________________________________________________________\n"
          ]
        }
      ],
      "source": [
        "#taking summary of layers\n",
        "ann.summary()"
      ]
    },
    {
      "cell_type": "code",
      "execution_count": 75,
      "metadata": {
        "colab": {
          "base_uri": "https://localhost:8080/",
          "height": 298
        },
        "id": "8homE8Nqwqie",
        "outputId": "aa93a7d8-519e-4f90-b1f3-5be17b235831"
      },
      "outputs": [
        {
          "output_type": "execute_result",
          "data": {
            "text/plain": [
              "Text(0.5, 1.0, 'model accuracy')"
            ]
          },
          "metadata": {},
          "execution_count": 75
        },
        {
          "output_type": "display_data",
          "data": {
            "text/plain": [
              "<Figure size 432x288 with 1 Axes>"
            ],
            "image/png": "[encoded data removed]"
          },
          "metadata": {
            "needs_background": "light"
          }
        }
      ],
      "source": [
        "losses = pd.DataFrame(ann.history.history)\n",
        "losses.plot()\n",
        "plt.title('model accuracy')"
      ]
    },
    {
      "cell_type": "code",
      "execution_count": 76,
      "metadata": {
        "colab": {
          "base_uri": "https://localhost:8080/"
        },
        "id": "bjgG4AzRwqie",
        "outputId": "03f561e0-d852-4414-faec-cc7ca7a06389"
      },
      "outputs": [
        {
          "output_type": "stream",
          "name": "stdout",
          "text": [
            "4/4 [==============================] - 0s 3ms/step\n"
          ]
        }
      ],
      "source": [
        "#now testing for Test data\n",
        "y_pred = ann.predict(xtest)\n",
        "#converting values\n",
        "y_pred = (y_pred>0.5)"
      ]
    },
    {
      "cell_type": "code",
      "execution_count": 77,
      "metadata": {
        "colab": {
          "base_uri": "https://localhost:8080/"
        },
        "id": "Qrc8BWuMwqie",
        "outputId": "6d50c807-e1ea-484f-fbd0-5b7a24adcd76"
      },
      "outputs": [
        {
          "output_type": "stream",
          "name": "stdout",
          "text": [
            "[[74  1]\n",
            " [ 2 37]]\n",
            "score is: 0.9736842105263158\n"
          ]
        }
      ],
      "source": [
        "from sklearn.metrics import confusion_matrix\n",
        "from sklearn.metrics import accuracy_score\n",
        "cm = confusion_matrix(ytest,y_pred)\n",
        "score6 = accuracy_score(ytest,y_pred)\n",
        "print(cm)\n",
        "print('score is:',score6)"
      ]
    },
    {
      "cell_type": "code",
      "execution_count": 78,
      "metadata": {
        "colab": {
          "base_uri": "https://localhost:8080/"
        },
        "id": "ruAgML4Lwqie",
        "outputId": "634a77a6-d7b7-4e93-f57c-010f427eceda"
      },
      "outputs": [
        {
          "output_type": "stream",
          "name": "stdout",
          "text": [
            "              precision    recall  f1-score   support\n",
            "\n",
            "           0       0.97      0.99      0.98        75\n",
            "           1       0.97      0.95      0.96        39\n",
            "\n",
            "    accuracy                           0.97       114\n",
            "   macro avg       0.97      0.97      0.97       114\n",
            "weighted avg       0.97      0.97      0.97       114\n",
            "\n"
          ]
        }
      ],
      "source": [
        "from sklearn.metrics import classification_report,confusion_matrix\n",
        "print(classification_report(ytest,y_pred))"
      ]
    },
    {
      "cell_type": "code",
      "execution_count": 79,
      "metadata": {
        "colab": {
          "base_uri": "https://localhost:8080/",
          "height": 428
        },
        "id": "z5ZUe5Shwqif",
        "outputId": "0ce5f9ce-2cd8-45ac-ccc6-6b99750b85fd"
      },
      "outputs": [
        {
          "output_type": "display_data",
          "data": {
            "text/plain": [
              "<Figure size 1008x504 with 2 Axes>"
            ],
            "image/png": "[encoded data removed]"
          },
          "metadata": {
            "needs_background": "light"
          }
        }
      ],
      "source": [
        "# creating heatmap of comfussion matrix\n",
        "plt.figure(figsize=[14,7])\n",
        "sns.heatmap(cm,annot=True)\n",
        "plt.show()"
      ]
    },
    {
      "cell_type": "code",
      "execution_count": 80,
      "metadata": {
        "colab": {
          "base_uri": "https://localhost:8080/"
        },
        "id": "J2PN3eKywqif",
        "outputId": "55599fcb-5aeb-4eca-876c-032aaaf0eb4c"
      },
      "outputs": [
        {
          "output_type": "stream",
          "name": "stdout",
          "text": [
            "ACCURACY SCORE\n",
            "---------------\n",
            "Relu:\n",
            "0.9736842105263158\n",
            "Sigmoid:\n",
            "0.9736842105263158\n",
            "Tanh:\n",
            "0.9736842105263158\n",
            "Softmax:\n",
            "0.956140350877193\n",
            "Softsign:\n",
            "0.9649122807017544\n",
            "Swish:\n",
            "0.9736842105263158\n"
          ]
        }
      ],
      "source": [
        "print(\"ACCURACY SCORE\")\n",
        "print(\"---------------\")\n",
        "print(\"Relu:\")\n",
        "print(score1)\n",
        "print(\"Sigmoid:\")\n",
        "\n",
        "print(score2)\n",
        "print(\"Tanh:\")\n",
        "print(score3)\n",
        "print(\"Softmax:\")\n",
        "print(score4)\n",
        "print(\"Softsign:\")\n",
        "print(score5)\n",
        "print(\"Swish:\")\n",
        "print(score6)"
      ]
    },
    {
      "cell_type": "markdown",
      "metadata": {
        "id": "Qx_v1DRgwqif"
      },
      "source": [
        "# ANN Visualizer "
      ]
    },
    {
      "cell_type": "code",
      "execution_count": 81,
      "metadata": {
        "execution": {
          "iopub.execute_input": "2022-10-15T19:53:41.372922Z",
          "iopub.status.busy": "2022-10-15T19:53:41.372502Z",
          "iopub.status.idle": "2022-10-15T19:53:41.378127Z",
          "shell.execute_reply": "2022-10-15T19:53:41.376944Z",
          "shell.execute_reply.started": "2022-10-15T19:53:41.372842Z"
        },
        "id": "if2XSK0nwqig"
      },
      "outputs": [],
      "source": [
        "#!pip install keras\n",
        "#!pip install ann_visualizer\n",
        "#!pip install graphviz"
      ]
    },
    {
      "cell_type": "code",
      "execution_count": 82,
      "metadata": {
        "execution": {
          "iopub.execute_input": "2022-10-15T19:53:41.380717Z",
          "iopub.status.busy": "2022-10-15T19:53:41.379691Z",
          "iopub.status.idle": "2022-10-15T19:53:41.39091Z",
          "shell.execute_reply": "2022-10-15T19:53:41.389775Z",
          "shell.execute_reply.started": "2022-10-15T19:53:41.38066Z"
        },
        "id": "HJFayuHXwqig"
      },
      "outputs": [],
      "source": [
        "#from ann_visualizer.visualize import ann_viz;\n",
        "#from graphviz import Source\n",
        "#ann_viz(ann, view=True, filename='network.gv', title='My Neural Network')\n",
        "#Source.from_file('./network.gv')"
      ]
    }
  ],
  "metadata": {
    "kernelspec": {
      "display_name": "Python 3 (ipykernel)",
      "language": "python",
      "name": "python3"
    },
    "language_info": {
      "codemirror_mode": {
        "name": "ipython",
        "version": 3
      },
      "file_extension": ".py",
      "mimetype": "text/x-python",
      "name": "python",
      "nbconvert_exporter": "python",
      "pygments_lexer": "ipython3",
      "version": "3.9.7"
    },
    "colab": {
      "provenance": [],
      "collapsed_sections": []
    },
    "accelerator": "GPU"
  },
  "nbformat": 4,
  "nbformat_minor": 0
}